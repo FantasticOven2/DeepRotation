{
 "cells": [
  {
   "cell_type": "code",
   "execution_count": 1,
   "id": "751572bf",
   "metadata": {},
   "outputs": [],
   "source": [
    "import numpy as np\n",
    "import torch\n",
    "from tsGaussian.torch_tsgaussian import TangentSpaceGaussian\n",
    "from stable_baselines_utils import TangentSpaceGaussian as TSG"
   ]
  },
  {
   "cell_type": "code",
   "execution_count": 2,
   "id": "13505918",
   "metadata": {
    "scrolled": true
   },
   "outputs": [],
   "source": [
    "tg = TangentSpaceGaussian(None)"
   ]
  },
  {
   "cell_type": "markdown",
   "id": "5eecf3c0",
   "metadata": {},
   "source": [
    "# Test liegroup torch"
   ]
  },
  {
   "cell_type": "code",
   "execution_count": 3,
   "id": "bbbe7c75",
   "metadata": {},
   "outputs": [],
   "source": [
    "from liegroups.torch import SO3"
   ]
  },
  {
   "cell_type": "code",
   "execution_count": 4,
   "id": "3e5f5141",
   "metadata": {},
   "outputs": [
    {
     "data": {
      "text/plain": [
       "<liegroups.torch.so3.SO3Matrix>\n",
       "| tensor([[[-0.6949,  0.7135,  0.0893],\n",
       "|          [-0.1920, -0.3038,  0.9332],\n",
       "|          [ 0.6930,  0.6313,  0.3481]],\n",
       "| \n",
       "|         [[ 1.0000,  0.0000,  0.0000],\n",
       "|          [ 0.0000,  1.0000,  0.0000],\n",
       "|          [ 0.0000,  0.0000,  1.0000]]])"
      ]
     },
     "execution_count": 4,
     "metadata": {},
     "output_type": "execute_result"
    }
   ],
   "source": [
    "C = SO3.exp(torch.Tensor([[1,2,3],\n",
    "                         [0,0,0]]))\n",
    "C"
   ]
  },
  {
   "cell_type": "markdown",
   "id": "8345660e",
   "metadata": {},
   "source": [
    "# Test torch_tsgaussian sample"
   ]
  },
  {
   "cell_type": "code",
   "execution_count": 5,
   "id": "c5c618aa",
   "metadata": {},
   "outputs": [],
   "source": [
    "R_mu = torch.eye(3).reshape((1,3,3))\n",
    "sigma = torch.ones(3).reshape((1,3))"
   ]
  },
  {
   "cell_type": "code",
   "execution_count": 6,
   "id": "b62db79b",
   "metadata": {},
   "outputs": [
    {
     "data": {
      "text/plain": [
       "(tensor([[-0.0114, -0.4528, -0.4395,  0.7756]]),\n",
       " tensor([[[ 0.2035,  0.6922, -0.6924],\n",
       "          [-0.6716,  0.6133,  0.4157],\n",
       "          [ 0.7124,  0.3804,  0.5897]]]))"
      ]
     },
     "execution_count": 6,
     "metadata": {},
     "output_type": "execute_result"
    }
   ],
   "source": [
    "tg.rsample(R_mu, sigma)"
   ]
  },
  {
   "cell_type": "markdown",
   "id": "d77aa806",
   "metadata": {},
   "source": [
    "# Test torch_tsgaussian normal_term"
   ]
  },
  {
   "cell_type": "code",
   "execution_count": 7,
   "id": "656d2b57",
   "metadata": {},
   "outputs": [
    {
     "data": {
      "text/plain": [
       "tensor([[1., 1., 1.]])"
      ]
     },
     "execution_count": 7,
     "metadata": {},
     "output_type": "execute_result"
    }
   ],
   "source": [
    "sigma = torch.ones(3).reshape((1,3))\n",
    "sigma"
   ]
  },
  {
   "cell_type": "code",
   "execution_count": 8,
   "id": "f533329a",
   "metadata": {
    "scrolled": true
   },
   "outputs": [
    {
     "data": {
      "text/plain": [
       "tensor([15.7496])"
      ]
     },
     "execution_count": 8,
     "metadata": {},
     "output_type": "execute_result"
    }
   ],
   "source": [
    "tg.normal_term(sigma)"
   ]
  },
  {
   "cell_type": "markdown",
   "id": "bfbbc76b",
   "metadata": {},
   "source": [
    "# Test torch_tsgaussian log_map"
   ]
  },
  {
   "cell_type": "code",
   "execution_count": 9,
   "id": "18e7fcd3",
   "metadata": {},
   "outputs": [],
   "source": [
    "R_1 = torch.eye(3).reshape((1, 3, 3))\n",
    "R_2 = torch.eye(3).reshape((1, 3, 3))"
   ]
  },
  {
   "cell_type": "code",
   "execution_count": 10,
   "id": "81a8bcec",
   "metadata": {},
   "outputs": [
    {
     "data": {
      "text/plain": [
       "tensor([0., 0., 0.])"
      ]
     },
     "execution_count": 10,
     "metadata": {},
     "output_type": "execute_result"
    }
   ],
   "source": [
    "tg.log_map(R_1, R_2)"
   ]
  },
  {
   "cell_type": "markdown",
   "id": "f1594837",
   "metadata": {},
   "source": [
    "# Test torch_tsgaussian log_probs"
   ]
  },
  {
   "cell_type": "code",
   "execution_count": 11,
   "id": "06afe275",
   "metadata": {},
   "outputs": [],
   "source": [
    "R_x = torch.eye(3).reshape((1,3,3))\n",
    "R_mu = torch.zeros(3,3).reshape((1,3,3))\n",
    "R_x = R_x.repeat(5, 1, 1)\n",
    "R_mu = R_mu.repeat(5, 1, 1)\n",
    "sigma = torch.ones(3).reshape((1,3))"
   ]
  },
  {
   "cell_type": "code",
   "execution_count": 12,
   "id": "f0df6bb5",
   "metadata": {},
   "outputs": [],
   "source": [
    "# tg.log_probs(R_x, R_mu, sigma)"
   ]
  },
  {
   "cell_type": "code",
   "execution_count": 13,
   "id": "b5c139fe",
   "metadata": {},
   "outputs": [
    {
     "data": {
      "text/plain": [
       "0.06349462641817973"
      ]
     },
     "execution_count": 13,
     "metadata": {},
     "output_type": "execute_result"
    }
   ],
   "source": [
    "np.e ** (-2.7568)"
   ]
  },
  {
   "cell_type": "markdown",
   "id": "adcf5063",
   "metadata": {},
   "source": [
    "all codes run for torch_tsgaussian now, need to check it's correctness and make it into batch version."
   ]
  },
  {
   "cell_type": "markdown",
   "id": "02baefb9",
   "metadata": {},
   "source": [
    "# Test TangentSpaceGaussian actions_from_params"
   ]
  },
  {
   "cell_type": "code",
   "execution_count": 14,
   "id": "dae6af0d",
   "metadata": {},
   "outputs": [],
   "source": [
    "tsg = TSG(None)"
   ]
  },
  {
   "cell_type": "code",
   "execution_count": 15,
   "id": "6dbdfe19",
   "metadata": {},
   "outputs": [
    {
     "name": "stdout",
     "output_type": "stream",
     "text": [
      "<tsGaussian.torch_tsgaussian.TangentSpaceGaussian object at 0x7fcbe84ea580>\n"
     ]
    }
   ],
   "source": [
    "print(tsg.distribution)"
   ]
  },
  {
   "cell_type": "code",
   "execution_count": 16,
   "id": "75bb9d18",
   "metadata": {},
   "outputs": [
    {
     "data": {
      "text/plain": [
       "<stable_baselines_utils.TangentSpaceGaussian at 0x7fcbe84ea550>"
      ]
     },
     "execution_count": 16,
     "metadata": {},
     "output_type": "execute_result"
    }
   ],
   "source": [
    "tsg"
   ]
  },
  {
   "cell_type": "code",
   "execution_count": 17,
   "id": "4033ce7a",
   "metadata": {},
   "outputs": [
    {
     "data": {
      "text/plain": [
       "(tensor([[ 0.3595,  0.7023, -0.4948,  0.3643]]),\n",
       " tensor([[[-0.4762,  0.8654,  0.1560],\n",
       "          [ 0.1444,  0.2520, -0.9569],\n",
       "          [-0.8674, -0.4331, -0.2450]]]))"
      ]
     },
     "execution_count": 17,
     "metadata": {},
     "output_type": "execute_result"
    }
   ],
   "source": [
    "tsg.actions_from_params(torch.eye(3).reshape((1,3,3)), torch.ones(3).reshape((1,3)))"
   ]
  },
  {
   "cell_type": "markdown",
   "id": "dcd323d4",
   "metadata": {},
   "source": [
    "# Test TangentSpaceGaussian log_prob_from_params"
   ]
  },
  {
   "cell_type": "code",
   "execution_count": 18,
   "id": "4eb09410",
   "metadata": {},
   "outputs": [
    {
     "data": {
      "text/plain": [
       "torch.Size([2, 3, 3])"
      ]
     },
     "execution_count": 18,
     "metadata": {},
     "output_type": "execute_result"
    }
   ],
   "source": [
    "torch.eye(3).repeat(2,1,1).size()"
   ]
  },
  {
   "cell_type": "code",
   "execution_count": 19,
   "id": "7f6b7b59",
   "metadata": {},
   "outputs": [
    {
     "data": {
      "text/plain": [
       "torch.Size([2, 3])"
      ]
     },
     "execution_count": 19,
     "metadata": {},
     "output_type": "execute_result"
    }
   ],
   "source": [
    "torch.ones(3).repeat(2,1).size()"
   ]
  },
  {
   "cell_type": "code",
   "execution_count": 20,
   "id": "4969b32d",
   "metadata": {},
   "outputs": [],
   "source": [
    "# tsg.log_prob_from_params(torch.eye(3).repeat(2,1,1), torch.ones(3))"
   ]
  },
  {
   "cell_type": "code",
   "execution_count": 21,
   "id": "8148b803",
   "metadata": {},
   "outputs": [
    {
     "data": {
      "text/plain": [
       "tensor([[[ 3.8241e-01,  3.5724e-01,  2.5963e-02, -5.4199e-01],\n",
       "         [ 1.3479e+00,  8.0512e-01,  2.6893e+00,  9.6555e-01],\n",
       "         [-2.8228e-01,  2.2146e-01,  5.4266e-01,  4.6606e-01],\n",
       "         [-9.6338e-01,  2.0056e-01, -1.0496e+00,  8.3331e-01]],\n",
       "\n",
       "        [[-4.3615e-01, -3.4348e-04,  5.7952e-01, -1.4918e-01],\n",
       "         [ 5.0859e-01,  1.2554e-01, -3.6044e-01, -2.1548e-01],\n",
       "         [ 1.1555e+00,  4.1908e-01, -1.6460e-01,  3.1128e-01],\n",
       "         [ 1.0291e+00,  6.6994e-01, -5.4879e-01,  2.7424e-01]]])"
      ]
     },
     "execution_count": 21,
     "metadata": {},
     "output_type": "execute_result"
    }
   ],
   "source": [
    "x = torch.randn(2, 4, 4)\n",
    "y = torch.linalg.inv(x)\n",
    "y"
   ]
  },
  {
   "cell_type": "markdown",
   "id": "fd1e0f06",
   "metadata": {},
   "source": [
    "Again, codes can run, but need to check correctness."
   ]
  },
  {
   "cell_type": "markdown",
   "id": "159f26bd",
   "metadata": {},
   "source": [
    "# Try to run training"
   ]
  },
  {
   "cell_type": "code",
   "execution_count": 22,
   "id": "5295b4f0",
   "metadata": {},
   "outputs": [],
   "source": [
    "import torch\n",
    "from absl import app, flags\n",
    "from stable_baselines3 import SAC, PPO\n",
    "from envs.wahba import Wahba\n",
    "from stable_baselines_utils import CustomSACPolicy, \\\n",
    "    CustomCNN"
   ]
  },
  {
   "cell_type": "code",
   "execution_count": 30,
   "id": "fea81ff5",
   "metadata": {},
   "outputs": [],
   "source": [
    "def main(argv):\n",
    "    env = Wahba()\n",
    "    device = torch.device('cpu')\n",
    "    policy_kwargs = dict(\n",
    "        features_extractor_class = CustomCNN,\n",
    "        features_extractor_kwargs = dict(features_dim = 256))\n",
    "    policy_kwargs['n_critics'] = 1\n",
    "    policy_kwargs['share_features_extractor'] = False\n",
    "    policy = CustomSACPolicy\n",
    "    model = SAC(policy, env, verbose = 1, ent_coef = 0.0,\n",
    "                policy_kwargs = policy_kwargs, device = device)\n",
    "    model.learn(total_timesteps = 110, eval_freq = 5, n_eval_episodes = 5)"
   ]
  },
  {
   "cell_type": "code",
   "execution_count": 31,
   "id": "e6928846",
   "metadata": {},
   "outputs": [
    {
     "name": "stdout",
     "output_type": "stream",
     "text": [
      "Using cpu device\n",
      "Wrapping the env with a `Monitor` wrapper\n",
      "Wrapping the env in a DummyVecEnv.\n",
      "---------------------------------\n",
      "| rollout/           |          |\n",
      "|    ep_len_mean     | 1        |\n",
      "|    ep_rew_mean     | -5.88    |\n",
      "| time/              |          |\n",
      "|    episodes        | 4        |\n",
      "|    fps             | 756      |\n",
      "|    time_elapsed    | 0        |\n",
      "|    total_timesteps | 4        |\n",
      "---------------------------------\n",
      "---------------------------------\n",
      "| rollout/           |          |\n",
      "|    ep_len_mean     | 1        |\n",
      "|    ep_rew_mean     | -6.57    |\n",
      "| time/              |          |\n",
      "|    episodes        | 8        |\n",
      "|    fps             | 778      |\n",
      "|    time_elapsed    | 0        |\n",
      "|    total_timesteps | 8        |\n",
      "---------------------------------\n",
      "---------------------------------\n",
      "| rollout/           |          |\n",
      "|    ep_len_mean     | 1        |\n",
      "|    ep_rew_mean     | -6.21    |\n",
      "| time/              |          |\n",
      "|    episodes        | 12       |\n",
      "|    fps             | 741      |\n",
      "|    time_elapsed    | 0        |\n",
      "|    total_timesteps | 12       |\n",
      "---------------------------------\n",
      "---------------------------------\n",
      "| rollout/           |          |\n",
      "|    ep_len_mean     | 1        |\n",
      "|    ep_rew_mean     | -6.27    |\n",
      "| time/              |          |\n",
      "|    episodes        | 16       |\n",
      "|    fps             | 723      |\n",
      "|    time_elapsed    | 0        |\n",
      "|    total_timesteps | 16       |\n",
      "---------------------------------\n",
      "---------------------------------\n",
      "| rollout/           |          |\n",
      "|    ep_len_mean     | 1        |\n",
      "|    ep_rew_mean     | -5.84    |\n",
      "| time/              |          |\n",
      "|    episodes        | 20       |\n",
      "|    fps             | 718      |\n",
      "|    time_elapsed    | 0        |\n",
      "|    total_timesteps | 20       |\n",
      "---------------------------------\n",
      "---------------------------------\n",
      "| rollout/           |          |\n",
      "|    ep_len_mean     | 1        |\n",
      "|    ep_rew_mean     | -5.96    |\n",
      "| time/              |          |\n",
      "|    episodes        | 24       |\n",
      "|    fps             | 747      |\n",
      "|    time_elapsed    | 0        |\n",
      "|    total_timesteps | 24       |\n",
      "---------------------------------\n",
      "---------------------------------\n",
      "| rollout/           |          |\n",
      "|    ep_len_mean     | 1        |\n",
      "|    ep_rew_mean     | -6.23    |\n",
      "| time/              |          |\n",
      "|    episodes        | 28       |\n",
      "|    fps             | 772      |\n",
      "|    time_elapsed    | 0        |\n",
      "|    total_timesteps | 28       |\n",
      "---------------------------------\n",
      "---------------------------------\n",
      "| rollout/           |          |\n",
      "|    ep_len_mean     | 1        |\n",
      "|    ep_rew_mean     | -6.13    |\n",
      "| time/              |          |\n",
      "|    episodes        | 32       |\n",
      "|    fps             | 794      |\n",
      "|    time_elapsed    | 0        |\n",
      "|    total_timesteps | 32       |\n",
      "---------------------------------\n",
      "---------------------------------\n",
      "| rollout/           |          |\n",
      "|    ep_len_mean     | 1        |\n",
      "|    ep_rew_mean     | -6.14    |\n",
      "| time/              |          |\n",
      "|    episodes        | 36       |\n",
      "|    fps             | 813      |\n",
      "|    time_elapsed    | 0        |\n",
      "|    total_timesteps | 36       |\n",
      "---------------------------------\n",
      "---------------------------------\n",
      "| rollout/           |          |\n",
      "|    ep_len_mean     | 1        |\n",
      "|    ep_rew_mean     | -6.2     |\n",
      "| time/              |          |\n",
      "|    episodes        | 40       |\n",
      "|    fps             | 829      |\n",
      "|    time_elapsed    | 0        |\n",
      "|    total_timesteps | 40       |\n",
      "---------------------------------\n",
      "---------------------------------\n",
      "| rollout/           |          |\n",
      "|    ep_len_mean     | 1        |\n",
      "|    ep_rew_mean     | -5.95    |\n",
      "| time/              |          |\n",
      "|    episodes        | 44       |\n",
      "|    fps             | 841      |\n",
      "|    time_elapsed    | 0        |\n",
      "|    total_timesteps | 44       |\n",
      "---------------------------------\n",
      "---------------------------------\n",
      "| rollout/           |          |\n",
      "|    ep_len_mean     | 1        |\n",
      "|    ep_rew_mean     | -6.02    |\n",
      "| time/              |          |\n",
      "|    episodes        | 48       |\n",
      "|    fps             | 853      |\n",
      "|    time_elapsed    | 0        |\n",
      "|    total_timesteps | 48       |\n",
      "---------------------------------\n",
      "---------------------------------\n",
      "| rollout/           |          |\n",
      "|    ep_len_mean     | 1        |\n",
      "|    ep_rew_mean     | -6.04    |\n",
      "| time/              |          |\n",
      "|    episodes        | 52       |\n",
      "|    fps             | 864      |\n",
      "|    time_elapsed    | 0        |\n",
      "|    total_timesteps | 52       |\n",
      "---------------------------------\n",
      "---------------------------------\n",
      "| rollout/           |          |\n",
      "|    ep_len_mean     | 1        |\n",
      "|    ep_rew_mean     | -6       |\n",
      "| time/              |          |\n",
      "|    episodes        | 56       |\n",
      "|    fps             | 870      |\n",
      "|    time_elapsed    | 0        |\n",
      "|    total_timesteps | 56       |\n",
      "---------------------------------\n",
      "---------------------------------\n",
      "| rollout/           |          |\n",
      "|    ep_len_mean     | 1        |\n",
      "|    ep_rew_mean     | -6.02    |\n",
      "| time/              |          |\n",
      "|    episodes        | 60       |\n",
      "|    fps             | 865      |\n",
      "|    time_elapsed    | 0        |\n",
      "|    total_timesteps | 60       |\n",
      "---------------------------------\n",
      "---------------------------------\n",
      "| rollout/           |          |\n",
      "|    ep_len_mean     | 1        |\n",
      "|    ep_rew_mean     | -6.02    |\n",
      "| time/              |          |\n",
      "|    episodes        | 64       |\n",
      "|    fps             | 864      |\n",
      "|    time_elapsed    | 0        |\n",
      "|    total_timesteps | 64       |\n",
      "---------------------------------\n",
      "---------------------------------\n",
      "| rollout/           |          |\n",
      "|    ep_len_mean     | 1        |\n",
      "|    ep_rew_mean     | -6.04    |\n",
      "| time/              |          |\n",
      "|    episodes        | 68       |\n",
      "|    fps             | 863      |\n",
      "|    time_elapsed    | 0        |\n",
      "|    total_timesteps | 68       |\n",
      "---------------------------------\n",
      "---------------------------------\n",
      "| rollout/           |          |\n",
      "|    ep_len_mean     | 1        |\n",
      "|    ep_rew_mean     | -6.13    |\n",
      "| time/              |          |\n",
      "|    episodes        | 72       |\n",
      "|    fps             | 867      |\n",
      "|    time_elapsed    | 0        |\n",
      "|    total_timesteps | 72       |\n",
      "---------------------------------\n",
      "---------------------------------\n",
      "| rollout/           |          |\n",
      "|    ep_len_mean     | 1        |\n",
      "|    ep_rew_mean     | -6.17    |\n",
      "| time/              |          |\n",
      "|    episodes        | 76       |\n",
      "|    fps             | 871      |\n",
      "|    time_elapsed    | 0        |\n",
      "|    total_timesteps | 76       |\n",
      "---------------------------------\n",
      "---------------------------------\n",
      "| rollout/           |          |\n",
      "|    ep_len_mean     | 1        |\n",
      "|    ep_rew_mean     | -6.09    |\n",
      "| time/              |          |\n",
      "|    episodes        | 80       |\n",
      "|    fps             | 876      |\n",
      "|    time_elapsed    | 0        |\n",
      "|    total_timesteps | 80       |\n",
      "---------------------------------\n",
      "---------------------------------\n",
      "| rollout/           |          |\n",
      "|    ep_len_mean     | 1        |\n",
      "|    ep_rew_mean     | -6.11    |\n",
      "| time/              |          |\n",
      "|    episodes        | 84       |\n",
      "|    fps             | 881      |\n",
      "|    time_elapsed    | 0        |\n",
      "|    total_timesteps | 84       |\n",
      "---------------------------------\n",
      "---------------------------------\n",
      "| rollout/           |          |\n",
      "|    ep_len_mean     | 1        |\n",
      "|    ep_rew_mean     | -6.14    |\n",
      "| time/              |          |\n",
      "|    episodes        | 88       |\n",
      "|    fps             | 886      |\n",
      "|    time_elapsed    | 0        |\n",
      "|    total_timesteps | 88       |\n",
      "---------------------------------\n",
      "---------------------------------\n",
      "| rollout/           |          |\n",
      "|    ep_len_mean     | 1        |\n",
      "|    ep_rew_mean     | -6.11    |\n",
      "| time/              |          |\n",
      "|    episodes        | 92       |\n",
      "|    fps             | 891      |\n",
      "|    time_elapsed    | 0        |\n",
      "|    total_timesteps | 92       |\n",
      "---------------------------------\n",
      "---------------------------------\n",
      "| rollout/           |          |\n",
      "|    ep_len_mean     | 1        |\n",
      "|    ep_rew_mean     | -6.1     |\n",
      "| time/              |          |\n",
      "|    episodes        | 96       |\n",
      "|    fps             | 891      |\n",
      "|    time_elapsed    | 0        |\n",
      "|    total_timesteps | 96       |\n",
      "---------------------------------\n"
     ]
    },
    {
     "name": "stdout",
     "output_type": "stream",
     "text": [
      "---------------------------------\n",
      "| rollout/           |          |\n",
      "|    ep_len_mean     | 1        |\n",
      "|    ep_rew_mean     | -6.07    |\n",
      "| time/              |          |\n",
      "|    episodes        | 100      |\n",
      "|    fps             | 890      |\n",
      "|    time_elapsed    | 0        |\n",
      "|    total_timesteps | 100      |\n",
      "---------------------------------\n"
     ]
    },
    {
     "name": "stderr",
     "output_type": "stream",
     "text": [
      "/tmp/ipykernel_5714/381243426.py:2: UserWarning: Anomaly Detection has been enabled. This mode will increase the runtime and should only be enabled for debugging.\n",
      "  with autograd.detect_anomaly():\n"
     ]
    },
    {
     "name": "stdout",
     "output_type": "stream",
     "text": [
      "vec:  torch.Size([1, 3]) torch.Size([1, 3, 3])\n",
      "vec:  torch.Size([256, 3]) torch.Size([256, 3, 3])\n",
      "actions:  tensor([[-0.4511,  0.0757,  0.5725,  0.6804],\n",
      "        [-0.4546,  0.0672,  0.5619,  0.6879],\n",
      "        [-0.4358,  0.0909,  0.5713,  0.6895],\n",
      "        ...,\n",
      "        [-0.4618,  0.0593,  0.5713,  0.6759],\n",
      "        [-0.4563,  0.0674,  0.5680,  0.6816],\n",
      "        [-0.4550,  0.0737,  0.5778,  0.6736]])\n",
      "actions_mat:  tensor([[[ 0.3330, -0.8474, -0.4135],\n",
      "         [ 0.7108, -0.0626,  0.7006],\n",
      "         [-0.6196, -0.5272,  0.5815]],\n",
      "\n",
      "        [[ 0.3596, -0.8340, -0.4184],\n",
      "         [ 0.7119, -0.0447,  0.7009],\n",
      "         [-0.6032, -0.5499,  0.5777]],\n",
      "\n",
      "        [[ 0.3306, -0.8671, -0.3726],\n",
      "         [ 0.7086, -0.0327,  0.7048],\n",
      "         [-0.6233, -0.4970,  0.6037]],\n",
      "\n",
      "        ...,\n",
      "\n",
      "        [[ 0.3401, -0.8270, -0.4476],\n",
      "         [ 0.7175, -0.0794,  0.6920],\n",
      "         [-0.6079, -0.5565,  0.5664]],\n",
      "\n",
      "        [[ 0.3457, -0.8359, -0.4264],\n",
      "         [ 0.7128, -0.0616,  0.6987],\n",
      "         [-0.6103, -0.5455,  0.5745]],\n",
      "\n",
      "        [[ 0.3215, -0.8455, -0.4264],\n",
      "         [ 0.7113, -0.0817,  0.6982],\n",
      "         [-0.6251, -0.5278,  0.5751]]], grad_fn=<UnsafeViewBackward>)\n",
      "vec:  torch.Size([256, 3]) torch.Size([256, 3, 3])\n",
      "actions:  tensor([[-0.4432,  0.0756,  0.5644,  0.6923],\n",
      "        [-0.4379,  0.0895,  0.5709,  0.6887],\n",
      "        [-0.4327,  0.0945,  0.5746,  0.6882],\n",
      "        ...,\n",
      "        [-0.4505,  0.0687,  0.5693,  0.6843],\n",
      "        [-0.4555,  0.0729,  0.5625,  0.6862],\n",
      "        [-0.4364,  0.0817,  0.5683,  0.6928]])\n",
      "actions_mat:  tensor([[[ 0.3514, -0.8485, -0.3956],\n",
      "         [ 0.7145, -0.0299,  0.6990],\n",
      "         [-0.6050, -0.5283,  0.5957]],\n",
      "\n",
      "        [[ 0.3322, -0.8647, -0.3767],\n",
      "         [ 0.7080, -0.0353,  0.7054],\n",
      "         [-0.6232, -0.5010,  0.6005]],\n",
      "\n",
      "        [[ 0.3218, -0.8727, -0.3672],\n",
      "         [ 0.7092, -0.0348,  0.7041],\n",
      "         [-0.6273, -0.4870,  0.6077]],\n",
      "\n",
      "        ...,\n",
      "\n",
      "        [[ 0.3424, -0.8411, -0.4188],\n",
      "         [ 0.7172, -0.0540,  0.6948],\n",
      "         [-0.6070, -0.5383,  0.5847]],\n",
      "\n",
      "        [[ 0.3566, -0.8384, -0.4123],\n",
      "         [ 0.7055, -0.0477,  0.7071],\n",
      "         [-0.6125, -0.5430,  0.5745]],\n",
      "\n",
      "        [[ 0.3408, -0.8587, -0.3828],\n",
      "         [ 0.7160, -0.0268,  0.6975],\n",
      "         [-0.6092, -0.5119,  0.6057]]])\n"
     ]
    },
    {
     "name": "stderr",
     "output_type": "stream",
     "text": [
      "/home/fantasticoven/.local/lib/python3.8/site-packages/torch/autograd/__init__.py:145: UserWarning: Error detected in MseLossBackward. Traceback of forward call that caused the error:\n",
      "  File \"/usr/lib/python3.8/runpy.py\", line 194, in _run_module_as_main\n",
      "    return _run_code(code, main_globals, None,\n",
      "  File \"/usr/lib/python3.8/runpy.py\", line 87, in _run_code\n",
      "    exec(code, run_globals)\n",
      "  File \"/home/fantasticoven/.local/lib/python3.8/site-packages/ipykernel_launcher.py\", line 17, in <module>\n",
      "    app.launch_new_instance()\n",
      "  File \"/home/fantasticoven/.local/lib/python3.8/site-packages/traitlets/config/application.py\", line 846, in launch_instance\n",
      "    app.start()\n",
      "  File \"/home/fantasticoven/.local/lib/python3.8/site-packages/ipykernel/kernelapp.py\", line 707, in start\n",
      "    self.io_loop.start()\n",
      "  File \"/home/fantasticoven/.local/lib/python3.8/site-packages/tornado/platform/asyncio.py\", line 199, in start\n",
      "    self.asyncio_loop.run_forever()\n",
      "  File \"/usr/lib/python3.8/asyncio/base_events.py\", line 570, in run_forever\n",
      "    self._run_once()\n",
      "  File \"/usr/lib/python3.8/asyncio/base_events.py\", line 1859, in _run_once\n",
      "    handle._run()\n",
      "  File \"/usr/lib/python3.8/asyncio/events.py\", line 81, in _run\n",
      "    self._context.run(self._callback, *self._args)\n",
      "  File \"/home/fantasticoven/.local/lib/python3.8/site-packages/ipykernel/kernelbase.py\", line 502, in dispatch_queue\n",
      "    await self.process_one()\n",
      "  File \"/home/fantasticoven/.local/lib/python3.8/site-packages/ipykernel/kernelbase.py\", line 491, in process_one\n",
      "    await dispatch(*args)\n",
      "  File \"/home/fantasticoven/.local/lib/python3.8/site-packages/ipykernel/kernelbase.py\", line 398, in dispatch_shell\n",
      "    await result\n",
      "  File \"/home/fantasticoven/.local/lib/python3.8/site-packages/ipykernel/kernelbase.py\", line 722, in execute_request\n",
      "    reply_content = await reply_content\n",
      "  File \"/home/fantasticoven/.local/lib/python3.8/site-packages/ipykernel/ipkernel.py\", line 389, in do_execute\n",
      "    res = shell.run_cell(code, store_history=store_history, silent=silent)\n",
      "  File \"/home/fantasticoven/.local/lib/python3.8/site-packages/ipykernel/zmqshell.py\", line 528, in run_cell\n",
      "    return super().run_cell(*args, **kwargs)\n",
      "  File \"/home/fantasticoven/.local/lib/python3.8/site-packages/IPython/core/interactiveshell.py\", line 2863, in run_cell\n",
      "    result = self._run_cell(\n",
      "  File \"/home/fantasticoven/.local/lib/python3.8/site-packages/IPython/core/interactiveshell.py\", line 2909, in _run_cell\n",
      "    return runner(coro)\n",
      "  File \"/home/fantasticoven/.local/lib/python3.8/site-packages/IPython/core/async_helpers.py\", line 129, in _pseudo_sync_runner\n",
      "    coro.send(None)\n",
      "  File \"/home/fantasticoven/.local/lib/python3.8/site-packages/IPython/core/interactiveshell.py\", line 3106, in run_cell_async\n",
      "    has_raised = await self.run_ast_nodes(code_ast.body, cell_name,\n",
      "  File \"/home/fantasticoven/.local/lib/python3.8/site-packages/IPython/core/interactiveshell.py\", line 3309, in run_ast_nodes\n",
      "    if await self.run_code(code, result, async_=asy):\n",
      "  File \"/home/fantasticoven/.local/lib/python3.8/site-packages/IPython/core/interactiveshell.py\", line 3369, in run_code\n",
      "    exec(code_obj, self.user_global_ns, self.user_ns)\n",
      "  File \"/tmp/ipykernel_5714/381243426.py\", line 3, in <cell line: 2>\n",
      "    main(None)\n",
      "  File \"/tmp/ipykernel_5714/704245450.py\", line 12, in main\n",
      "    model.learn(total_timesteps = 110, eval_freq = 5, n_eval_episodes = 5)\n",
      "  File \"/home/fantasticoven/.local/lib/python3.8/site-packages/stable_baselines3/sac/sac.py\", line 292, in learn\n",
      "    return super(SAC, self).learn(\n",
      "  File \"/home/fantasticoven/.local/lib/python3.8/site-packages/stable_baselines3/common/off_policy_algorithm.py\", line 373, in learn\n",
      "    self.train(batch_size=self.batch_size, gradient_steps=gradient_steps)\n",
      "  File \"/home/fantasticoven/.local/lib/python3.8/site-packages/stable_baselines3/sac/sac.py\", line 245, in train\n",
      "    critic_loss = 0.5 * sum([F.mse_loss(current_q, target_q_values) for current_q in current_q_values])\n",
      "  File \"/home/fantasticoven/.local/lib/python3.8/site-packages/stable_baselines3/sac/sac.py\", line 245, in <listcomp>\n",
      "    critic_loss = 0.5 * sum([F.mse_loss(current_q, target_q_values) for current_q in current_q_values])\n",
      "  File \"/home/fantasticoven/.local/lib/python3.8/site-packages/torch/nn/functional.py\", line 2929, in mse_loss\n",
      "    return torch._C._nn.mse_loss(expanded_input, expanded_target, _Reduction.get_enum(reduction))\n",
      " (Triggered internally at  /pytorch/torch/csrc/autograd/python_anomaly_mode.cpp:104.)\n",
      "  Variable._execution_engine.run_backward(\n"
     ]
    },
    {
     "ename": "RuntimeError",
     "evalue": "Function 'MseLossBackward' returned nan values in its 0th output.",
     "output_type": "error",
     "traceback": [
      "\u001b[0;31m---------------------------------------------------------------------------\u001b[0m",
      "\u001b[0;31mRuntimeError\u001b[0m                              Traceback (most recent call last)",
      "Input \u001b[0;32mIn [31]\u001b[0m, in \u001b[0;36m<cell line: 2>\u001b[0;34m()\u001b[0m\n\u001b[1;32m      1\u001b[0m \u001b[38;5;28;01mfrom\u001b[39;00m \u001b[38;5;21;01mtorch\u001b[39;00m \u001b[38;5;28;01mimport\u001b[39;00m autograd\n\u001b[1;32m      2\u001b[0m \u001b[38;5;28;01mwith\u001b[39;00m autograd\u001b[38;5;241m.\u001b[39mdetect_anomaly():\n\u001b[0;32m----> 3\u001b[0m     \u001b[43mmain\u001b[49m\u001b[43m(\u001b[49m\u001b[38;5;28;43;01mNone\u001b[39;49;00m\u001b[43m)\u001b[49m\n",
      "Input \u001b[0;32mIn [30]\u001b[0m, in \u001b[0;36mmain\u001b[0;34m(argv)\u001b[0m\n\u001b[1;32m      9\u001b[0m policy \u001b[38;5;241m=\u001b[39m CustomSACPolicy\n\u001b[1;32m     10\u001b[0m model \u001b[38;5;241m=\u001b[39m SAC(policy, env, verbose \u001b[38;5;241m=\u001b[39m \u001b[38;5;241m1\u001b[39m, ent_coef \u001b[38;5;241m=\u001b[39m \u001b[38;5;241m0.0\u001b[39m,\n\u001b[1;32m     11\u001b[0m             policy_kwargs \u001b[38;5;241m=\u001b[39m policy_kwargs, device \u001b[38;5;241m=\u001b[39m device)\n\u001b[0;32m---> 12\u001b[0m \u001b[43mmodel\u001b[49m\u001b[38;5;241;43m.\u001b[39;49m\u001b[43mlearn\u001b[49m\u001b[43m(\u001b[49m\u001b[43mtotal_timesteps\u001b[49m\u001b[43m \u001b[49m\u001b[38;5;241;43m=\u001b[39;49m\u001b[43m \u001b[49m\u001b[38;5;241;43m110\u001b[39;49m\u001b[43m,\u001b[49m\u001b[43m \u001b[49m\u001b[43meval_freq\u001b[49m\u001b[43m \u001b[49m\u001b[38;5;241;43m=\u001b[39;49m\u001b[43m \u001b[49m\u001b[38;5;241;43m5\u001b[39;49m\u001b[43m,\u001b[49m\u001b[43m \u001b[49m\u001b[43mn_eval_episodes\u001b[49m\u001b[43m \u001b[49m\u001b[38;5;241;43m=\u001b[39;49m\u001b[43m \u001b[49m\u001b[38;5;241;43m5\u001b[39;49m\u001b[43m)\u001b[49m\n",
      "File \u001b[0;32m~/.local/lib/python3.8/site-packages/stable_baselines3/sac/sac.py:292\u001b[0m, in \u001b[0;36mSAC.learn\u001b[0;34m(self, total_timesteps, callback, log_interval, eval_env, eval_freq, n_eval_episodes, tb_log_name, eval_log_path, reset_num_timesteps)\u001b[0m\n\u001b[1;32m    279\u001b[0m \u001b[38;5;28;01mdef\u001b[39;00m \u001b[38;5;21mlearn\u001b[39m(\n\u001b[1;32m    280\u001b[0m     \u001b[38;5;28mself\u001b[39m,\n\u001b[1;32m    281\u001b[0m     total_timesteps: \u001b[38;5;28mint\u001b[39m,\n\u001b[0;32m   (...)\u001b[0m\n\u001b[1;32m    289\u001b[0m     reset_num_timesteps: \u001b[38;5;28mbool\u001b[39m \u001b[38;5;241m=\u001b[39m \u001b[38;5;28;01mTrue\u001b[39;00m,\n\u001b[1;32m    290\u001b[0m ) \u001b[38;5;241m-\u001b[39m\u001b[38;5;241m>\u001b[39m OffPolicyAlgorithm:\n\u001b[0;32m--> 292\u001b[0m     \u001b[38;5;28;01mreturn\u001b[39;00m \u001b[38;5;28;43msuper\u001b[39;49m\u001b[43m(\u001b[49m\u001b[43mSAC\u001b[49m\u001b[43m,\u001b[49m\u001b[43m \u001b[49m\u001b[38;5;28;43mself\u001b[39;49m\u001b[43m)\u001b[49m\u001b[38;5;241;43m.\u001b[39;49m\u001b[43mlearn\u001b[49m\u001b[43m(\u001b[49m\n\u001b[1;32m    293\u001b[0m \u001b[43m        \u001b[49m\u001b[43mtotal_timesteps\u001b[49m\u001b[38;5;241;43m=\u001b[39;49m\u001b[43mtotal_timesteps\u001b[49m\u001b[43m,\u001b[49m\n\u001b[1;32m    294\u001b[0m \u001b[43m        \u001b[49m\u001b[43mcallback\u001b[49m\u001b[38;5;241;43m=\u001b[39;49m\u001b[43mcallback\u001b[49m\u001b[43m,\u001b[49m\n\u001b[1;32m    295\u001b[0m \u001b[43m        \u001b[49m\u001b[43mlog_interval\u001b[49m\u001b[38;5;241;43m=\u001b[39;49m\u001b[43mlog_interval\u001b[49m\u001b[43m,\u001b[49m\n\u001b[1;32m    296\u001b[0m \u001b[43m        \u001b[49m\u001b[43meval_env\u001b[49m\u001b[38;5;241;43m=\u001b[39;49m\u001b[43meval_env\u001b[49m\u001b[43m,\u001b[49m\n\u001b[1;32m    297\u001b[0m \u001b[43m        \u001b[49m\u001b[43meval_freq\u001b[49m\u001b[38;5;241;43m=\u001b[39;49m\u001b[43meval_freq\u001b[49m\u001b[43m,\u001b[49m\n\u001b[1;32m    298\u001b[0m \u001b[43m        \u001b[49m\u001b[43mn_eval_episodes\u001b[49m\u001b[38;5;241;43m=\u001b[39;49m\u001b[43mn_eval_episodes\u001b[49m\u001b[43m,\u001b[49m\n\u001b[1;32m    299\u001b[0m \u001b[43m        \u001b[49m\u001b[43mtb_log_name\u001b[49m\u001b[38;5;241;43m=\u001b[39;49m\u001b[43mtb_log_name\u001b[49m\u001b[43m,\u001b[49m\n\u001b[1;32m    300\u001b[0m \u001b[43m        \u001b[49m\u001b[43meval_log_path\u001b[49m\u001b[38;5;241;43m=\u001b[39;49m\u001b[43meval_log_path\u001b[49m\u001b[43m,\u001b[49m\n\u001b[1;32m    301\u001b[0m \u001b[43m        \u001b[49m\u001b[43mreset_num_timesteps\u001b[49m\u001b[38;5;241;43m=\u001b[39;49m\u001b[43mreset_num_timesteps\u001b[49m\u001b[43m,\u001b[49m\n\u001b[1;32m    302\u001b[0m \u001b[43m    \u001b[49m\u001b[43m)\u001b[49m\n",
      "File \u001b[0;32m~/.local/lib/python3.8/site-packages/stable_baselines3/common/off_policy_algorithm.py:373\u001b[0m, in \u001b[0;36mOffPolicyAlgorithm.learn\u001b[0;34m(self, total_timesteps, callback, log_interval, eval_env, eval_freq, n_eval_episodes, tb_log_name, eval_log_path, reset_num_timesteps)\u001b[0m\n\u001b[1;32m    371\u001b[0m         \u001b[38;5;66;03m# Special case when the user passes `gradient_steps=0`\u001b[39;00m\n\u001b[1;32m    372\u001b[0m         \u001b[38;5;28;01mif\u001b[39;00m gradient_steps \u001b[38;5;241m>\u001b[39m \u001b[38;5;241m0\u001b[39m:\n\u001b[0;32m--> 373\u001b[0m             \u001b[38;5;28;43mself\u001b[39;49m\u001b[38;5;241;43m.\u001b[39;49m\u001b[43mtrain\u001b[49m\u001b[43m(\u001b[49m\u001b[43mbatch_size\u001b[49m\u001b[38;5;241;43m=\u001b[39;49m\u001b[38;5;28;43mself\u001b[39;49m\u001b[38;5;241;43m.\u001b[39;49m\u001b[43mbatch_size\u001b[49m\u001b[43m,\u001b[49m\u001b[43m \u001b[49m\u001b[43mgradient_steps\u001b[49m\u001b[38;5;241;43m=\u001b[39;49m\u001b[43mgradient_steps\u001b[49m\u001b[43m)\u001b[49m\n\u001b[1;32m    375\u001b[0m callback\u001b[38;5;241m.\u001b[39mon_training_end()\n\u001b[1;32m    377\u001b[0m \u001b[38;5;28;01mreturn\u001b[39;00m \u001b[38;5;28mself\u001b[39m\n",
      "File \u001b[0;32m~/.local/lib/python3.8/site-packages/stable_baselines3/sac/sac.py:250\u001b[0m, in \u001b[0;36mSAC.train\u001b[0;34m(self, gradient_steps, batch_size)\u001b[0m\n\u001b[1;32m    248\u001b[0m \u001b[38;5;66;03m# Optimize the critic\u001b[39;00m\n\u001b[1;32m    249\u001b[0m \u001b[38;5;28mself\u001b[39m\u001b[38;5;241m.\u001b[39mcritic\u001b[38;5;241m.\u001b[39moptimizer\u001b[38;5;241m.\u001b[39mzero_grad()\n\u001b[0;32m--> 250\u001b[0m \u001b[43mcritic_loss\u001b[49m\u001b[38;5;241;43m.\u001b[39;49m\u001b[43mbackward\u001b[49m\u001b[43m(\u001b[49m\u001b[43m)\u001b[49m\n\u001b[1;32m    251\u001b[0m \u001b[38;5;28mself\u001b[39m\u001b[38;5;241m.\u001b[39mcritic\u001b[38;5;241m.\u001b[39moptimizer\u001b[38;5;241m.\u001b[39mstep()\n\u001b[1;32m    253\u001b[0m \u001b[38;5;66;03m# Compute actor loss\u001b[39;00m\n\u001b[1;32m    254\u001b[0m \u001b[38;5;66;03m# Alternative: actor_loss = th.mean(log_prob - qf1_pi)\u001b[39;00m\n\u001b[1;32m    255\u001b[0m \u001b[38;5;66;03m# Mean over all critic networks\u001b[39;00m\n",
      "File \u001b[0;32m~/.local/lib/python3.8/site-packages/torch/tensor.py:245\u001b[0m, in \u001b[0;36mTensor.backward\u001b[0;34m(self, gradient, retain_graph, create_graph, inputs)\u001b[0m\n\u001b[1;32m    236\u001b[0m \u001b[38;5;28;01mif\u001b[39;00m has_torch_function_unary(\u001b[38;5;28mself\u001b[39m):\n\u001b[1;32m    237\u001b[0m     \u001b[38;5;28;01mreturn\u001b[39;00m handle_torch_function(\n\u001b[1;32m    238\u001b[0m         Tensor\u001b[38;5;241m.\u001b[39mbackward,\n\u001b[1;32m    239\u001b[0m         (\u001b[38;5;28mself\u001b[39m,),\n\u001b[0;32m   (...)\u001b[0m\n\u001b[1;32m    243\u001b[0m         create_graph\u001b[38;5;241m=\u001b[39mcreate_graph,\n\u001b[1;32m    244\u001b[0m         inputs\u001b[38;5;241m=\u001b[39minputs)\n\u001b[0;32m--> 245\u001b[0m \u001b[43mtorch\u001b[49m\u001b[38;5;241;43m.\u001b[39;49m\u001b[43mautograd\u001b[49m\u001b[38;5;241;43m.\u001b[39;49m\u001b[43mbackward\u001b[49m\u001b[43m(\u001b[49m\u001b[38;5;28;43mself\u001b[39;49m\u001b[43m,\u001b[49m\u001b[43m \u001b[49m\u001b[43mgradient\u001b[49m\u001b[43m,\u001b[49m\u001b[43m \u001b[49m\u001b[43mretain_graph\u001b[49m\u001b[43m,\u001b[49m\u001b[43m \u001b[49m\u001b[43mcreate_graph\u001b[49m\u001b[43m,\u001b[49m\u001b[43m \u001b[49m\u001b[43minputs\u001b[49m\u001b[38;5;241;43m=\u001b[39;49m\u001b[43minputs\u001b[49m\u001b[43m)\u001b[49m\n",
      "File \u001b[0;32m~/.local/lib/python3.8/site-packages/torch/autograd/__init__.py:145\u001b[0m, in \u001b[0;36mbackward\u001b[0;34m(tensors, grad_tensors, retain_graph, create_graph, grad_variables, inputs)\u001b[0m\n\u001b[1;32m    142\u001b[0m \u001b[38;5;28;01mif\u001b[39;00m retain_graph \u001b[38;5;129;01mis\u001b[39;00m \u001b[38;5;28;01mNone\u001b[39;00m:\n\u001b[1;32m    143\u001b[0m     retain_graph \u001b[38;5;241m=\u001b[39m create_graph\n\u001b[0;32m--> 145\u001b[0m \u001b[43mVariable\u001b[49m\u001b[38;5;241;43m.\u001b[39;49m\u001b[43m_execution_engine\u001b[49m\u001b[38;5;241;43m.\u001b[39;49m\u001b[43mrun_backward\u001b[49m\u001b[43m(\u001b[49m\n\u001b[1;32m    146\u001b[0m \u001b[43m    \u001b[49m\u001b[43mtensors\u001b[49m\u001b[43m,\u001b[49m\u001b[43m \u001b[49m\u001b[43mgrad_tensors_\u001b[49m\u001b[43m,\u001b[49m\u001b[43m \u001b[49m\u001b[43mretain_graph\u001b[49m\u001b[43m,\u001b[49m\u001b[43m \u001b[49m\u001b[43mcreate_graph\u001b[49m\u001b[43m,\u001b[49m\u001b[43m \u001b[49m\u001b[43minputs\u001b[49m\u001b[43m,\u001b[49m\n\u001b[1;32m    147\u001b[0m \u001b[43m    \u001b[49m\u001b[43mallow_unreachable\u001b[49m\u001b[38;5;241;43m=\u001b[39;49m\u001b[38;5;28;43;01mTrue\u001b[39;49;00m\u001b[43m,\u001b[49m\u001b[43m \u001b[49m\u001b[43maccumulate_grad\u001b[49m\u001b[38;5;241;43m=\u001b[39;49m\u001b[38;5;28;43;01mTrue\u001b[39;49;00m\u001b[43m)\u001b[49m\n",
      "\u001b[0;31mRuntimeError\u001b[0m: Function 'MseLossBackward' returned nan values in its 0th output."
     ]
    }
   ],
   "source": [
    "from torch import autograd\n",
    "with autograd.detect_anomaly():\n",
    "    main(None)"
   ]
  },
  {
   "cell_type": "markdown",
   "id": "04089981",
   "metadata": {},
   "source": [
    "# Experiments for batch operations"
   ]
  },
  {
   "cell_type": "code",
   "execution_count": 25,
   "id": "8c505fe3",
   "metadata": {},
   "outputs": [
    {
     "data": {
      "text/plain": [
       "tensor([[0.6065, 0.1806, 0.9259]])"
      ]
     },
     "execution_count": 25,
     "metadata": {},
     "output_type": "execute_result"
    }
   ],
   "source": [
    "sigma = torch.ones(1, 3)\n",
    "omiga = torch.normal(torch.zeros(1, 3), sigma)\n",
    "omiga"
   ]
  },
  {
   "cell_type": "code",
   "execution_count": 26,
   "id": "69a580e2",
   "metadata": {},
   "outputs": [],
   "source": [
    "def transfer(omiga):\n",
    "    omiga_0, omiga_1, omiga_2 = omiga[0], omiga[1], omiga[2]\n",
    "    omiga_hat = torch.tensor([[0, -omiga_2, omiga_1],\n",
    "                                [omiga_2, 0, -omiga_0],\n",
    "                                [-omiga_1, omiga_0, 0]])\n",
    "    return omiga_hat"
   ]
  },
  {
   "cell_type": "code",
   "execution_count": 27,
   "id": "32b00dde",
   "metadata": {},
   "outputs": [
    {
     "ename": "ImportError",
     "evalue": "/home/fantasticoven/.local/lib/python3.8/site-packages/functorch/_C.so: undefined symbol: _ZNK3c104Type14isSubtypeOfExtERKS0_PSo",
     "output_type": "error",
     "traceback": [
      "\u001b[0;31m---------------------------------------------------------------------------\u001b[0m",
      "\u001b[0;31mImportError\u001b[0m                               Traceback (most recent call last)",
      "Input \u001b[0;32mIn [27]\u001b[0m, in \u001b[0;36m<cell line: 1>\u001b[0;34m()\u001b[0m\n\u001b[0;32m----> 1\u001b[0m \u001b[38;5;28;01mfrom\u001b[39;00m \u001b[38;5;21;01mfunctorch\u001b[39;00m \u001b[38;5;28;01mimport\u001b[39;00m vmap\n\u001b[1;32m      2\u001b[0m batch_transfer \u001b[38;5;241m=\u001b[39m vmap(transfer)\n\u001b[1;32m      3\u001b[0m batch_transfer(omiga)\n",
      "File \u001b[0;32m~/.local/lib/python3.8/site-packages/functorch/__init__.py:7\u001b[0m, in \u001b[0;36m<module>\u001b[0;34m\u001b[0m\n\u001b[1;32m      1\u001b[0m \u001b[38;5;66;03m# Copyright (c) Facebook, Inc. and its affiliates.\u001b[39;00m\n\u001b[1;32m      2\u001b[0m \u001b[38;5;66;03m# All rights reserved.\u001b[39;00m\n\u001b[1;32m      3\u001b[0m \u001b[38;5;66;03m#\u001b[39;00m\n\u001b[1;32m      4\u001b[0m \u001b[38;5;66;03m# This source code is licensed under the BSD-style license found in the\u001b[39;00m\n\u001b[1;32m      5\u001b[0m \u001b[38;5;66;03m# LICENSE file in the root directory of this source tree.\u001b[39;00m\n\u001b[1;32m      6\u001b[0m \u001b[38;5;28;01mimport\u001b[39;00m \u001b[38;5;21;01mtorch\u001b[39;00m\n\u001b[0;32m----> 7\u001b[0m \u001b[38;5;28;01mfrom\u001b[39;00m \u001b[38;5;21;01m.\u001b[39;00m \u001b[38;5;28;01mimport\u001b[39;00m _C\n\u001b[1;32m      9\u001b[0m \u001b[38;5;66;03m# Monkey patch PyTorch. This is a hack, we should try to upstream\u001b[39;00m\n\u001b[1;32m     10\u001b[0m \u001b[38;5;66;03m# these pieces.\u001b[39;00m\n\u001b[1;32m     11\u001b[0m \u001b[38;5;28;01mfrom\u001b[39;00m \u001b[38;5;21;01m.\u001b[39;00m\u001b[38;5;21;01m_src\u001b[39;00m \u001b[38;5;28;01mimport\u001b[39;00m monkey_patching \u001b[38;5;28;01mas\u001b[39;00m _monkey_patching\n",
      "\u001b[0;31mImportError\u001b[0m: /home/fantasticoven/.local/lib/python3.8/site-packages/functorch/_C.so: undefined symbol: _ZNK3c104Type14isSubtypeOfExtERKS0_PSo"
     ]
    }
   ],
   "source": [
    "from functorch import vmap\n",
    "batch_transfer = vmap(transfer)\n",
    "batch_transfer(omiga)"
   ]
  },
  {
   "cell_type": "code",
   "execution_count": null,
   "id": "2ce1346f",
   "metadata": {},
   "outputs": [],
   "source": [
    "from liegroups.torch import SO3\n",
    "C = SO3.exp(torch.Tensor([[1,2,3],\n",
    "                          [0,0,0]]))\n",
    "print(torch.Tensor([[1,2,3],\n",
    "                          [0,0,0]]).size())\n",
    "SO3.log(C)"
   ]
  },
  {
   "cell_type": "code",
   "execution_count": null,
   "id": "f290d47f",
   "metadata": {},
   "outputs": [],
   "source": [
    "np.log(1)"
   ]
  },
  {
   "cell_type": "markdown",
   "id": "3a537ab2",
   "metadata": {},
   "source": [
    "# Question to ask: the original wahba problem action is (4,), in our case actions are (3,3)."
   ]
  },
  {
   "cell_type": "code",
   "execution_count": null,
   "id": "7a50fab6",
   "metadata": {},
   "outputs": [],
   "source": []
  }
 ],
 "metadata": {
  "kernelspec": {
   "display_name": "Python 3 (ipykernel)",
   "language": "python",
   "name": "python3"
  },
  "language_info": {
   "codemirror_mode": {
    "name": "ipython",
    "version": 3
   },
   "file_extension": ".py",
   "mimetype": "text/x-python",
   "name": "python",
   "nbconvert_exporter": "python",
   "pygments_lexer": "ipython3",
   "version": "3.8.10"
  }
 },
 "nbformat": 4,
 "nbformat_minor": 5
}
