{
 "cells": [
  {
   "cell_type": "code",
   "execution_count": 1,
   "id": "751572bf",
   "metadata": {},
   "outputs": [],
   "source": [
    "import numpy as np\n",
    "import torch\n",
    "from tsGaussian.torch_tsgaussian import TangentSpaceGaussian\n",
    "from stable_baselines_utils import TangentSpaceGaussian as TSG"
   ]
  },
  {
   "cell_type": "code",
   "execution_count": 2,
   "id": "13505918",
   "metadata": {
    "scrolled": true
   },
   "outputs": [],
   "source": [
    "tg = TangentSpaceGaussian(None)"
   ]
  },
  {
   "cell_type": "markdown",
   "id": "8345660e",
   "metadata": {},
   "source": [
    "# Test torch_tsgaussian sample"
   ]
  },
  {
   "cell_type": "code",
   "execution_count": 3,
   "id": "c5c618aa",
   "metadata": {},
   "outputs": [],
   "source": [
    "R_mu = torch.Tensor([[1, 0, 0]])\n",
    "sigma = torch.ones(3).reshape((1,3))"
   ]
  },
  {
   "cell_type": "code",
   "execution_count": 4,
   "id": "b62db79b",
   "metadata": {},
   "outputs": [
    {
     "data": {
      "text/plain": [
       "tensor([[[ 0.0000,  0.4505,  0.7278],\n",
       "         [-0.4505,  0.0000, -0.5170],\n",
       "         [-0.7278,  0.5170,  0.0000]]])"
      ]
     },
     "execution_count": 4,
     "metadata": {},
     "output_type": "execute_result"
    }
   ],
   "source": [
    "tg.rsample(R_mu, sigma)"
   ]
  },
  {
   "cell_type": "markdown",
   "id": "d77aa806",
   "metadata": {},
   "source": [
    "# Test torch_tsgaussian normal_term"
   ]
  },
  {
   "cell_type": "code",
   "execution_count": 5,
   "id": "656d2b57",
   "metadata": {},
   "outputs": [
    {
     "data": {
      "text/plain": [
       "tensor([[1., 1., 1.]])"
      ]
     },
     "execution_count": 5,
     "metadata": {},
     "output_type": "execute_result"
    }
   ],
   "source": [
    "sigma = torch.ones(3).reshape((1,3))\n",
    "sigma"
   ]
  },
  {
   "cell_type": "code",
   "execution_count": 6,
   "id": "f533329a",
   "metadata": {
    "scrolled": true
   },
   "outputs": [
    {
     "data": {
      "text/plain": [
       "tensor([15.7496])"
      ]
     },
     "execution_count": 6,
     "metadata": {},
     "output_type": "execute_result"
    }
   ],
   "source": [
    "tg.normal_term(sigma)"
   ]
  },
  {
   "cell_type": "markdown",
   "id": "bfbbc76b",
   "metadata": {},
   "source": [
    "# Test torch_tsgaussian log_map"
   ]
  },
  {
   "cell_type": "code",
   "execution_count": 3,
   "id": "18e7fcd3",
   "metadata": {},
   "outputs": [],
   "source": [
    "R_1 = torch.eye(3).reshape((1, 3, 3))\n",
    "R_2 = torch.eye(3).reshape((1, 3, 3))"
   ]
  },
  {
   "cell_type": "code",
   "execution_count": 4,
   "id": "81a8bcec",
   "metadata": {},
   "outputs": [
    {
     "name": "stdout",
     "output_type": "stream",
     "text": [
      "torch.Size([1, 3, 3])\n"
     ]
    },
    {
     "data": {
      "text/plain": [
       "tensor([0., 0., 0.])"
      ]
     },
     "execution_count": 4,
     "metadata": {},
     "output_type": "execute_result"
    }
   ],
   "source": [
    "tg.log_map(R_1, R_2)"
   ]
  },
  {
   "cell_type": "code",
   "execution_count": 5,
   "id": "bb9f567c",
   "metadata": {},
   "outputs": [],
   "source": [
    "# Not orthogonal matrices ?\n",
    "R_1 = torch.randn(3,3)"
   ]
  },
  {
   "cell_type": "code",
   "execution_count": 6,
   "id": "89ea0cac",
   "metadata": {},
   "outputs": [
    {
     "ename": "IndexError",
     "evalue": "Dimension out of range (expected to be in range of [-2, 1], but got 2)",
     "output_type": "error",
     "traceback": [
      "\u001b[0;31m---------------------------------------------------------------------------\u001b[0m",
      "\u001b[0;31mIndexError\u001b[0m                                Traceback (most recent call last)",
      "Input \u001b[0;32mIn [6]\u001b[0m, in \u001b[0;36m<cell line: 1>\u001b[0;34m()\u001b[0m\n\u001b[0;32m----> 1\u001b[0m \u001b[43mtg\u001b[49m\u001b[38;5;241;43m.\u001b[39;49m\u001b[43mlog_map\u001b[49m\u001b[43m(\u001b[49m\u001b[43mR_1\u001b[49m\u001b[43m,\u001b[49m\u001b[43m \u001b[49m\u001b[43mR_2\u001b[49m\u001b[43m)\u001b[49m\n",
      "File \u001b[0;32m~/Desktop/DeepRotation/torch_ver/tsGaussian/torch_tsgaussian.py:55\u001b[0m, in \u001b[0;36mTangentSpaceGaussian.log_map\u001b[0;34m(self, R_1, R_2)\u001b[0m\n\u001b[1;32m     51\u001b[0m \u001b[38;5;28;01mdef\u001b[39;00m \u001b[38;5;21mlog_map\u001b[39m(\u001b[38;5;28mself\u001b[39m, R_1, R_2):\n\u001b[1;32m     52\u001b[0m     \u001b[38;5;124;03m\"\"\" Log map term in pdf of tangent space Gaussian\u001b[39;00m\n\u001b[1;32m     53\u001b[0m \u001b[38;5;124;03m        Return a 3d vector.\u001b[39;00m\n\u001b[1;32m     54\u001b[0m \u001b[38;5;124;03m    \"\"\"\u001b[39;00m\n\u001b[0;32m---> 55\u001b[0m     \u001b[38;5;28mprint\u001b[39m(torch\u001b[38;5;241m.\u001b[39mbmm(\u001b[43mtorch\u001b[49m\u001b[38;5;241;43m.\u001b[39;49m\u001b[43mtranspose\u001b[49m\u001b[43m(\u001b[49m\u001b[43mR_1\u001b[49m\u001b[43m,\u001b[49m\u001b[43m \u001b[49m\u001b[38;5;241;43m1\u001b[39;49m\u001b[43m,\u001b[49m\u001b[43m \u001b[49m\u001b[38;5;241;43m2\u001b[39;49m\u001b[43m)\u001b[49m, R_2)\u001b[38;5;241m.\u001b[39msize())\n\u001b[1;32m     56\u001b[0m     \u001b[38;5;28;01mreturn\u001b[39;00m SO3\u001b[38;5;241m.\u001b[39mlog(SO3(torch\u001b[38;5;241m.\u001b[39mbmm(torch\u001b[38;5;241m.\u001b[39mtranspose(R_1, \u001b[38;5;241m1\u001b[39m, \u001b[38;5;241m2\u001b[39m), R_2)))\n",
      "\u001b[0;31mIndexError\u001b[0m: Dimension out of range (expected to be in range of [-2, 1], but got 2)"
     ]
    }
   ],
   "source": [
    "tg.log_map(R_1, R_2)"
   ]
  },
  {
   "cell_type": "markdown",
   "id": "f1594837",
   "metadata": {},
   "source": [
    "# Test torch_tsgaussian log_probs"
   ]
  },
  {
   "cell_type": "code",
   "execution_count": 6,
   "id": "82c48d83",
   "metadata": {},
   "outputs": [
    {
     "data": {
      "text/plain": [
       "tensor([[[[-1.0167,  0.2067,  0.3867,  0.5155],\n",
       "          [ 0.9626, -0.5665, -0.7181,  0.1934],\n",
       "          [-0.6916, -0.0576, -1.6254, -0.4172],\n",
       "          [-1.3658,  1.9993,  0.2664, -0.5244]],\n",
       "\n",
       "         [[ 1.0188,  1.8425,  0.3941, -1.8160],\n",
       "          [-0.5274,  0.8191,  0.6181, -0.7207],\n",
       "          [-1.7679, -0.1537,  0.8742, -0.6781],\n",
       "          [ 1.0932,  0.5398,  0.3469, -0.9634]],\n",
       "\n",
       "         [[-0.9110,  0.0375, -0.6167,  2.5332],\n",
       "          [-1.3097, -1.2365,  0.1360,  0.4715],\n",
       "          [-0.4053,  0.0380, -1.2221, -1.1792],\n",
       "          [ 1.5778,  1.7322,  0.7856, -1.0589]]],\n",
       "\n",
       "\n",
       "        [[[ 0.7287, -1.6629, -1.0301, -0.4863],\n",
       "          [-0.7213,  0.9339, -0.1511, -0.1170],\n",
       "          [-1.6973,  0.3899, -0.0374,  0.4895],\n",
       "          [-0.3043,  1.1463,  0.3838,  1.2502]],\n",
       "\n",
       "         [[-0.0900, -0.7226,  0.9136,  0.3769],\n",
       "          [ 0.1672, -0.1853,  1.2824,  0.7976],\n",
       "          [-0.5293, -0.6595,  0.4071,  0.4213],\n",
       "          [ 0.1692, -1.2281, -1.3411, -0.9205]],\n",
       "\n",
       "         [[-0.4291, -0.2925,  0.2207, -1.2844],\n",
       "          [ 0.0410, -1.0456,  0.4256, -0.9211],\n",
       "          [-0.6187,  0.1129,  0.4431, -1.7037],\n",
       "          [-0.5206,  0.3399, -0.3185, -1.4163]]]])"
      ]
     },
     "execution_count": 6,
     "metadata": {},
     "output_type": "execute_result"
    }
   ],
   "source": [
    "A = torch.randn(5, 3, 3)\n",
    "A"
   ]
  },
  {
   "cell_type": "code",
   "execution_count": 7,
   "id": "8fc0af3e",
   "metadata": {},
   "outputs": [
    {
     "data": {
      "text/plain": [
       "tensor([[[[-0.3410,  0.7460, -0.3720,  0.2359],\n",
       "          [ 0.1528,  1.0415, -0.2974,  0.7709],\n",
       "          [-0.2103, -0.7739, -0.3575, -0.2078],\n",
       "          [ 1.3637,  1.6344, -0.3464,  0.3121]],\n",
       "\n",
       "         [[-0.4606,  0.3875, -0.4104,  0.8672],\n",
       "          [ 0.0633,  1.3376, -0.7351, -0.6026],\n",
       "          [-1.8013,  2.6940, -0.6886,  1.8649],\n",
       "          [-1.1357,  2.1592, -1.1256,  0.2798]],\n",
       "\n",
       "         [[-0.4606, -1.5517, -0.6368, -1.0838],\n",
       "          [ 0.5650,  0.7963,  0.5247,  1.1220],\n",
       "          [-0.0345,  0.8820, -0.2934,  0.6368],\n",
       "          [ 0.2123, -0.3551, -0.3082, -0.2513]]],\n",
       "\n",
       "\n",
       "        [[[ 0.1218,  0.1063, -0.6371,  0.3068],\n",
       "          [-0.0248,  0.9066, -0.4403,  0.2476],\n",
       "          [-1.0166, -1.1789,  0.1670, -0.5711],\n",
       "          [ 0.3645, -0.4434,  0.1974,  0.8229]],\n",
       "\n",
       "         [[-1.1042,  1.9040, -0.8400,  0.8134],\n",
       "          [-0.0287, -0.4606, -0.3186, -0.5568],\n",
       "          [ 2.5840, -1.4403, -1.1187, -0.7022],\n",
       "          [-3.9295,  3.0631,  1.9007,  0.8290]],\n",
       "\n",
       "         [[-8.9321,  3.5917,  2.7581,  2.4467],\n",
       "          [-3.2100,  0.3292,  1.7276,  0.6189],\n",
       "          [-1.0679,  0.0849,  1.8040, -1.2568],\n",
       "          [ 2.7531, -1.2604, -1.0049, -1.1743]]]])"
      ]
     },
     "execution_count": 7,
     "metadata": {},
     "output_type": "execute_result"
    }
   ],
   "source": [
    "torch.linalg.inv(A)"
   ]
  },
  {
   "cell_type": "code",
   "execution_count": 3,
   "id": "06afe275",
   "metadata": {},
   "outputs": [],
   "source": [
    "R_x = torch.eye(3).reshape((1,3,3))\n",
    "R_mu = torch.zeros(3,3).reshape((1,3,3))\n",
    "R_x = R_x.repeat(5, 1, 1)\n",
    "R_mu = R_mu.repeat(5, 1, 1)\n",
    "sigma = torch.ones(3).reshape((1,3))"
   ]
  },
  {
   "cell_type": "code",
   "execution_count": 4,
   "id": "f0df6bb5",
   "metadata": {},
   "outputs": [
    {
     "name": "stdout",
     "output_type": "stream",
     "text": [
      "torch.Size([5, 3, 3])\n",
      "torch.Size([5, 3])\n",
      "5\n",
      "torch.Size([5, 3, 3])\n"
     ]
    },
    {
     "ename": "RuntimeError",
     "evalue": "mat1 and mat2 shapes cannot be multiplied (15x3 and 5x3)",
     "output_type": "error",
     "traceback": [
      "\u001b[0;31m---------------------------------------------------------------------------\u001b[0m",
      "\u001b[0;31mRuntimeError\u001b[0m                              Traceback (most recent call last)",
      "Input \u001b[0;32mIn [4]\u001b[0m, in \u001b[0;36m<cell line: 1>\u001b[0;34m()\u001b[0m\n\u001b[0;32m----> 1\u001b[0m \u001b[43mtg\u001b[49m\u001b[38;5;241;43m.\u001b[39;49m\u001b[43mlog_probs\u001b[49m\u001b[43m(\u001b[49m\u001b[43mR_x\u001b[49m\u001b[43m,\u001b[49m\u001b[43m \u001b[49m\u001b[43mR_mu\u001b[49m\u001b[43m,\u001b[49m\u001b[43m \u001b[49m\u001b[43msigma\u001b[49m\u001b[43m)\u001b[49m\n",
      "File \u001b[0;32m~/Desktop/DeepRotation/torch_ver/tsGaussian/torch_tsgaussian.py:68\u001b[0m, in \u001b[0;36mTangentSpaceGaussian.log_probs\u001b[0;34m(self, R_x, R_mu, sigma)\u001b[0m\n\u001b[1;32m     66\u001b[0m sigma_mat \u001b[38;5;241m=\u001b[39m torch\u001b[38;5;241m.\u001b[39mdiag_embed(sigma)\u001b[38;5;241m.\u001b[39mrepeat(batch_size, \u001b[38;5;241m1\u001b[39m, \u001b[38;5;241m1\u001b[39m)\n\u001b[1;32m     67\u001b[0m \u001b[38;5;28mprint\u001b[39m(sigma_mat\u001b[38;5;241m.\u001b[39msize())\n\u001b[0;32m---> 68\u001b[0m \u001b[38;5;28;01mreturn\u001b[39;00m \u001b[43mlog_term\u001b[49m\u001b[38;5;241;43m.\u001b[39;49m\u001b[43mT\u001b[49m\u001b[43m \u001b[49m\u001b[38;5;241;43m@\u001b[39;49m\u001b[43m \u001b[49m\u001b[43mtorch\u001b[49m\u001b[38;5;241;43m.\u001b[39;49m\u001b[43mlinalg\u001b[49m\u001b[38;5;241;43m.\u001b[39;49m\u001b[43minv\u001b[49m\u001b[43m(\u001b[49m\u001b[43msigma_mat\u001b[49m\u001b[43m)\u001b[49m \u001b[38;5;241m@\u001b[39m log_term \u001b[38;5;241m-\u001b[39m \\\n\u001b[1;32m     69\u001b[0m         torch\u001b[38;5;241m.\u001b[39mlog(\u001b[38;5;28mself\u001b[39m\u001b[38;5;241m.\u001b[39mnormal_term(sigma))\n",
      "\u001b[0;31mRuntimeError\u001b[0m: mat1 and mat2 shapes cannot be multiplied (15x3 and 5x3)"
     ]
    }
   ],
   "source": [
    "tg.log_probs(R_x, R_mu, sigma)"
   ]
  },
  {
   "cell_type": "code",
   "execution_count": 9,
   "id": "b5c139fe",
   "metadata": {},
   "outputs": [
    {
     "data": {
      "text/plain": [
       "0.06349462641817973"
      ]
     },
     "execution_count": 9,
     "metadata": {},
     "output_type": "execute_result"
    }
   ],
   "source": [
    "np.e ** (-2.7568)"
   ]
  },
  {
   "cell_type": "markdown",
   "id": "adcf5063",
   "metadata": {},
   "source": [
    "all codes run for torch_tsgaussian now, need to check it's correctness and make it into batch version."
   ]
  },
  {
   "cell_type": "markdown",
   "id": "02baefb9",
   "metadata": {},
   "source": [
    "# Test TangentSpaceGaussian actions_from_params"
   ]
  },
  {
   "cell_type": "code",
   "execution_count": null,
   "id": "dae6af0d",
   "metadata": {},
   "outputs": [],
   "source": [
    "tsg = TSG(None)"
   ]
  },
  {
   "cell_type": "code",
   "execution_count": null,
   "id": "6dbdfe19",
   "metadata": {},
   "outputs": [],
   "source": [
    "print(tsg.distribution)"
   ]
  },
  {
   "cell_type": "code",
   "execution_count": null,
   "id": "75bb9d18",
   "metadata": {},
   "outputs": [],
   "source": [
    "tsg"
   ]
  },
  {
   "cell_type": "code",
   "execution_count": null,
   "id": "4033ce7a",
   "metadata": {},
   "outputs": [],
   "source": [
    "tsg.actions_from_params(torch.eye(3), torch.eye(3).reshape((1,3,3)))"
   ]
  },
  {
   "cell_type": "markdown",
   "id": "dcd323d4",
   "metadata": {},
   "source": [
    "# Test TangentSpaceGaussian log_prob_from_params"
   ]
  },
  {
   "cell_type": "code",
   "execution_count": null,
   "id": "4969b32d",
   "metadata": {},
   "outputs": [],
   "source": [
    "tsg.log_prob_from_params(torch.eye(3), torch.eye(3).reshape((1,3,3)))"
   ]
  },
  {
   "cell_type": "markdown",
   "id": "fd1e0f06",
   "metadata": {},
   "source": [
    "Again, codes can run, but need to check correctness."
   ]
  },
  {
   "cell_type": "markdown",
   "id": "159f26bd",
   "metadata": {},
   "source": [
    "# Try to run training"
   ]
  },
  {
   "cell_type": "code",
   "execution_count": null,
   "id": "5295b4f0",
   "metadata": {},
   "outputs": [],
   "source": [
    "import torch\n",
    "from absl import app, flags\n",
    "from stable_baselines3 import SAC, PPO\n",
    "from envs.wahba import Wahba\n",
    "from stable_baselines_utils import CustomSACPolicy, \\\n",
    "    CustomCNN"
   ]
  },
  {
   "cell_type": "code",
   "execution_count": null,
   "id": "fea81ff5",
   "metadata": {},
   "outputs": [],
   "source": [
    "def main(argv):\n",
    "    env = Wahba()\n",
    "    device = torch.device('cpu')\n",
    "    policy_kwargs = dict(\n",
    "        features_extractor_class = CustomCNN,\n",
    "        features_extractor_kwargs = dict(features_dim = 256))\n",
    "    policy_kwargs['n_critics'] = 1\n",
    "    policy_kwargs['share_features_extractor'] = False\n",
    "    policy = CustomSACPolicy\n",
    "    model = SAC(policy, env, verbose = 1, ent_coef = 'auto_0.1',\n",
    "                policy_kwargs = policy_kwargs, device = device)\n",
    "    model.learn(total_timesteps = 110, eval_freq = 5, n_eval_episodes = 5)"
   ]
  },
  {
   "cell_type": "code",
   "execution_count": null,
   "id": "e6928846",
   "metadata": {},
   "outputs": [],
   "source": [
    "main(None)"
   ]
  },
  {
   "cell_type": "markdown",
   "id": "04089981",
   "metadata": {},
   "source": [
    "# Experiments for batch operations"
   ]
  },
  {
   "cell_type": "code",
   "execution_count": null,
   "id": "8c505fe3",
   "metadata": {},
   "outputs": [],
   "source": [
    "sigma = torch.ones(1, 3)\n",
    "omiga = torch.normal(torch.zeros(1, 3), sigma)\n",
    "omiga"
   ]
  },
  {
   "cell_type": "code",
   "execution_count": null,
   "id": "69a580e2",
   "metadata": {},
   "outputs": [],
   "source": [
    "def transfer(omiga):\n",
    "    omiga_0, omiga_1, omiga_2 = omiga[0], omiga[1], omiga[2]\n",
    "    omiga_hat = torch.tensor([[0, -omiga_2, omiga_1],\n",
    "                                [omiga_2, 0, -omiga_0],\n",
    "                                [-omiga_1, omiga_0, 0]])\n",
    "    return omiga_hat"
   ]
  },
  {
   "cell_type": "code",
   "execution_count": null,
   "id": "32b00dde",
   "metadata": {},
   "outputs": [],
   "source": [
    "from functorch import vmap\n",
    "batch_transfer = vmap(transfer)\n",
    "batch_transfer(omiga)"
   ]
  },
  {
   "cell_type": "code",
   "execution_count": 5,
   "id": "2ce1346f",
   "metadata": {},
   "outputs": [
    {
     "name": "stdout",
     "output_type": "stream",
     "text": [
      "torch.Size([2, 3])\n"
     ]
    },
    {
     "data": {
      "text/plain": [
       "tensor([[-0.6793, -1.3585, -2.0378],\n",
       "        [ 0.0000,  0.0000,  0.0000]])"
      ]
     },
     "execution_count": 5,
     "metadata": {},
     "output_type": "execute_result"
    }
   ],
   "source": [
    "from liegroups.torch import SO3\n",
    "C = SO3.exp(torch.Tensor([[1,2,3],\n",
    "                          [0,0,0]]))\n",
    "print(torch.Tensor([[1,2,3],\n",
    "                          [0,0,0]]).size())\n",
    "SO3.log(C)"
   ]
  },
  {
   "cell_type": "code",
   "execution_count": 12,
   "id": "f290d47f",
   "metadata": {},
   "outputs": [
    {
     "data": {
      "text/plain": [
       "0.0"
      ]
     },
     "execution_count": 12,
     "metadata": {},
     "output_type": "execute_result"
    }
   ],
   "source": [
    "np.log(1)"
   ]
  },
  {
   "cell_type": "code",
   "execution_count": null,
   "id": "73c2f949",
   "metadata": {},
   "outputs": [],
   "source": []
  }
 ],
 "metadata": {
  "kernelspec": {
   "display_name": "Python 3 (ipykernel)",
   "language": "python",
   "name": "python3"
  },
  "language_info": {
   "codemirror_mode": {
    "name": "ipython",
    "version": 3
   },
   "file_extension": ".py",
   "mimetype": "text/x-python",
   "name": "python",
   "nbconvert_exporter": "python",
   "pygments_lexer": "ipython3",
   "version": "3.8.10"
  }
 },
 "nbformat": 4,
 "nbformat_minor": 5
}
