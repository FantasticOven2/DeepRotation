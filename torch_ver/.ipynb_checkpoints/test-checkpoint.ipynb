{
 "cells": [
  {
   "cell_type": "code",
   "execution_count": 1,
   "id": "751572bf",
   "metadata": {},
   "outputs": [],
   "source": [
    "import numpy as np\n",
    "import torch\n",
    "from tsGaussian.torch_tsgaussian import TangentSpaceGaussian\n",
    "from stable_baselines_utils import TangentSpaceGaussian as TSG"
   ]
  },
  {
   "cell_type": "code",
   "execution_count": 2,
   "id": "13505918",
   "metadata": {
    "scrolled": true
   },
   "outputs": [],
   "source": [
    "tg = TangentSpaceGaussian(None)"
   ]
  },
  {
   "cell_type": "markdown",
   "id": "b8ccca7d",
   "metadata": {},
   "source": [
    "# Test liegroup torch"
   ]
  },
  {
   "cell_type": "code",
   "execution_count": 3,
   "id": "999caf24",
   "metadata": {},
   "outputs": [],
   "source": [
    "from liegroups.torch import SO3"
   ]
  },
  {
   "cell_type": "code",
   "execution_count": 4,
   "id": "01e92044",
   "metadata": {},
   "outputs": [
    {
     "data": {
      "text/plain": [
       "<liegroups.torch.so3.SO3Matrix>\n",
       "| tensor([[[-0.6949,  0.7135,  0.0893],\n",
       "|          [-0.1920, -0.3038,  0.9332],\n",
       "|          [ 0.6930,  0.6313,  0.3481]],\n",
       "| \n",
       "|         [[ 1.0000,  0.0000,  0.0000],\n",
       "|          [ 0.0000,  1.0000,  0.0000],\n",
       "|          [ 0.0000,  0.0000,  1.0000]]])"
      ]
     },
     "execution_count": 4,
     "metadata": {},
     "output_type": "execute_result"
    }
   ],
   "source": [
    "C = SO3.exp(torch.Tensor([[1,2,3],\n",
    "                         [0,0,0]]))\n",
    "C"
   ]
  },
  {
   "cell_type": "markdown",
   "id": "8345660e",
   "metadata": {},
   "source": [
    "# Test torch_tsgaussian sample"
   ]
  },
  {
   "cell_type": "code",
   "execution_count": 5,
   "id": "c5c618aa",
   "metadata": {},
   "outputs": [],
   "source": [
    "R_mu = torch.eye(3).reshape((1,3,3))\n",
    "sigma = torch.ones(3).reshape((1,3))"
   ]
  },
  {
   "cell_type": "code",
   "execution_count": 6,
   "id": "b62db79b",
   "metadata": {},
   "outputs": [
    {
     "name": "stdout",
     "output_type": "stream",
     "text": [
      "torch.Size([1, 3])\n",
      "torch.Size([1, 3, 3])\n"
     ]
    },
    {
     "data": {
      "text/plain": [
       "tensor([[[ 0.8710,  0.4447, -0.2088],\n",
       "         [-0.4512,  0.5563, -0.6978],\n",
       "         [-0.1942,  0.7020,  0.6852]]])"
      ]
     },
     "execution_count": 6,
     "metadata": {},
     "output_type": "execute_result"
    }
   ],
   "source": [
    "tg.rsample(R_mu, sigma)"
   ]
  },
  {
   "cell_type": "markdown",
   "id": "d77aa806",
   "metadata": {},
   "source": [
    "# Test torch_tsgaussian normal_term"
   ]
  },
  {
   "cell_type": "code",
   "execution_count": 7,
   "id": "656d2b57",
   "metadata": {},
   "outputs": [
    {
     "data": {
      "text/plain": [
       "tensor([[1., 1., 1.]])"
      ]
     },
     "execution_count": 7,
     "metadata": {},
     "output_type": "execute_result"
    }
   ],
   "source": [
    "sigma = torch.ones(3).reshape((1,3))\n",
    "sigma"
   ]
  },
  {
   "cell_type": "code",
   "execution_count": 8,
   "id": "f533329a",
   "metadata": {
    "scrolled": true
   },
   "outputs": [
    {
     "data": {
      "text/plain": [
       "tensor([15.7496])"
      ]
     },
     "execution_count": 8,
     "metadata": {},
     "output_type": "execute_result"
    }
   ],
   "source": [
    "tg.normal_term(sigma)"
   ]
  },
  {
   "cell_type": "markdown",
   "id": "bfbbc76b",
   "metadata": {},
   "source": [
    "# Test torch_tsgaussian log_map"
   ]
  },
  {
   "cell_type": "code",
   "execution_count": 9,
   "id": "18e7fcd3",
   "metadata": {},
   "outputs": [],
   "source": [
    "R_1 = torch.eye(3).reshape((1, 3, 3))\n",
    "R_2 = torch.eye(3).reshape((1, 3, 3))"
   ]
  },
  {
   "cell_type": "code",
   "execution_count": 10,
   "id": "81a8bcec",
   "metadata": {},
   "outputs": [
    {
     "name": "stdout",
     "output_type": "stream",
     "text": [
      "exp map size:  torch.Size([1, 3, 3])\n",
      "log map size:  torch.Size([3])\n",
      "log map type:  <class 'torch.Tensor'>\n"
     ]
    },
    {
     "data": {
      "text/plain": [
       "tensor([0., 0., 0.])"
      ]
     },
     "execution_count": 10,
     "metadata": {},
     "output_type": "execute_result"
    }
   ],
   "source": [
    "tg.log_map(R_1, R_2)"
   ]
  },
  {
   "cell_type": "markdown",
   "id": "f1594837",
   "metadata": {},
   "source": [
    "# Test torch_tsgaussian log_probs"
   ]
  },
  {
   "cell_type": "code",
   "execution_count": 11,
   "id": "06afe275",
   "metadata": {},
   "outputs": [],
   "source": [
    "R_x = torch.eye(3).reshape((1,3,3))\n",
    "R_mu = torch.zeros(3,3).reshape((1,3,3))\n",
    "R_x = R_x.repeat(5, 1, 1)\n",
    "R_mu = R_mu.repeat(5, 1, 1)\n",
    "sigma = torch.ones(3).reshape((1,3))"
   ]
  },
  {
   "cell_type": "code",
   "execution_count": 12,
   "id": "f0df6bb5",
   "metadata": {},
   "outputs": [
    {
     "name": "stdout",
     "output_type": "stream",
     "text": [
      "exp map size:  torch.Size([5, 3, 3])\n",
      "log map size:  torch.Size([5, 3])\n",
      "log map type:  <class 'torch.Tensor'>\n",
      "log size:  torch.Size([5, 3])\n",
      "sigma size:  torch.Size([5, 3])\n",
      "sig_mat size:  torch.Size([5, 3, 3])\n",
      "bs:  5\n",
      "sigma inv size:  torch.Size([5, 3, 3])\n"
     ]
    },
    {
     "data": {
      "text/plain": [
       "tensor([-2.7568, -2.7568, -2.7568, -2.7568, -2.7568])"
      ]
     },
     "execution_count": 12,
     "metadata": {},
     "output_type": "execute_result"
    }
   ],
   "source": [
    "tg.log_probs(R_x, R_mu, sigma)"
   ]
  },
  {
   "cell_type": "code",
   "execution_count": 13,
   "id": "b5c139fe",
   "metadata": {},
   "outputs": [
    {
     "data": {
      "text/plain": [
       "0.06349462641817973"
      ]
     },
     "execution_count": 13,
     "metadata": {},
     "output_type": "execute_result"
    }
   ],
   "source": [
    "np.e ** (-2.7568)"
   ]
  },
  {
   "cell_type": "markdown",
   "id": "adcf5063",
   "metadata": {},
   "source": [
    "all codes run for torch_tsgaussian now, need to check it's correctness and make it into batch version."
   ]
  },
  {
   "cell_type": "markdown",
   "id": "02baefb9",
   "metadata": {},
   "source": [
    "# Test TangentSpaceGaussian actions_from_params"
   ]
  },
  {
   "cell_type": "code",
   "execution_count": 14,
   "id": "dae6af0d",
   "metadata": {},
   "outputs": [],
   "source": [
    "tsg = TSG(None)"
   ]
  },
  {
   "cell_type": "code",
   "execution_count": 15,
   "id": "6dbdfe19",
   "metadata": {},
   "outputs": [
    {
     "name": "stdout",
     "output_type": "stream",
     "text": [
      "<tsGaussian.torch_tsgaussian.TangentSpaceGaussian object at 0x7f89a64f9fd0>\n"
     ]
    }
   ],
   "source": [
    "print(tsg.distribution)"
   ]
  },
  {
   "cell_type": "code",
   "execution_count": 16,
   "id": "75bb9d18",
   "metadata": {},
   "outputs": [
    {
     "data": {
      "text/plain": [
       "<stable_baselines_utils.TangentSpaceGaussian at 0x7f89a64f9f10>"
      ]
     },
     "execution_count": 16,
     "metadata": {},
     "output_type": "execute_result"
    }
   ],
   "source": [
    "tsg"
   ]
  },
  {
   "cell_type": "code",
   "execution_count": 17,
   "id": "4033ce7a",
   "metadata": {},
   "outputs": [
    {
     "name": "stdout",
     "output_type": "stream",
     "text": [
      "torch.Size([1, 3])\n",
      "torch.Size([1, 3, 3])\n"
     ]
    },
    {
     "data": {
      "text/plain": [
       "tensor([[[ 0.7476,  0.1496, -0.6471],\n",
       "         [-0.0553,  0.9850,  0.1638],\n",
       "         [ 0.6619, -0.0866,  0.7446]]])"
      ]
     },
     "execution_count": 17,
     "metadata": {},
     "output_type": "execute_result"
    }
   ],
   "source": [
    "tsg.actions_from_params(torch.eye(3).reshape((1,3,3)), torch.ones(3).reshape((1,3)))"
   ]
  },
  {
   "cell_type": "markdown",
   "id": "dcd323d4",
   "metadata": {},
   "source": [
    "# Test TangentSpaceGaussian log_prob_from_params"
   ]
  },
  {
   "cell_type": "code",
   "execution_count": 18,
   "id": "d63f1801",
   "metadata": {},
   "outputs": [
    {
     "data": {
      "text/plain": [
       "torch.Size([2, 3, 3])"
      ]
     },
     "execution_count": 18,
     "metadata": {},
     "output_type": "execute_result"
    }
   ],
   "source": [
    "torch.eye(3).repeat(2,1,1).size()"
   ]
  },
  {
   "cell_type": "code",
   "execution_count": 19,
   "id": "725ea797",
   "metadata": {},
   "outputs": [
    {
     "data": {
      "text/plain": [
       "torch.Size([2, 3])"
      ]
     },
     "execution_count": 19,
     "metadata": {},
     "output_type": "execute_result"
    }
   ],
   "source": [
    "torch.ones(3).repeat(2,1).size()"
   ]
  },
  {
   "cell_type": "code",
   "execution_count": 21,
   "id": "4969b32d",
   "metadata": {},
   "outputs": [
    {
     "name": "stdout",
     "output_type": "stream",
     "text": [
      "torch.Size([3])\n",
      "torch.Size([2, 3, 3])\n",
      "actions:  torch.Size([2, 3, 3])\n",
      "mu:  torch.Size([2, 3, 3])\n",
      "sigma:  torch.Size([3])\n",
      "exp map size:  torch.Size([2, 3, 3])\n",
      "log map size:  torch.Size([2, 3])\n",
      "log map type:  <class 'torch.Tensor'>\n",
      "log size:  torch.Size([2, 3])\n",
      "sigma size:  torch.Size([2, 3])\n",
      "sig_mat size:  torch.Size([2, 3, 3])\n",
      "bs:  2\n",
      "sigma inv size:  torch.Size([2, 3, 3])\n"
     ]
    },
    {
     "data": {
      "text/plain": [
       "(tensor([[[ 0.1732, -0.2824,  0.9435],\n",
       "          [-0.8536,  0.4348,  0.2869],\n",
       "          [-0.4913, -0.8551, -0.1657]],\n",
       " \n",
       "         [[ 0.1732, -0.2824,  0.9435],\n",
       "          [-0.8536,  0.4348,  0.2869],\n",
       "          [-0.4913, -0.8551, -0.1657]]]),\n",
       " tensor([0.6781, 0.6781]))"
      ]
     },
     "execution_count": 21,
     "metadata": {},
     "output_type": "execute_result"
    }
   ],
   "source": [
    "tsg.log_prob_from_params(torch.eye(3).repeat(2,1,1), torch.ones(3))"
   ]
  },
  {
   "cell_type": "code",
   "execution_count": 22,
   "id": "662bbbed",
   "metadata": {},
   "outputs": [
    {
     "data": {
      "text/plain": [
       "tensor([[[ 2.3159,  3.8356,  1.8928,  0.7325],\n",
       "         [ 0.4058, -1.2890,  1.8166, -4.2867],\n",
       "         [-0.8350,  0.3676, -0.2076,  0.9207],\n",
       "         [ 0.2356, -0.6796,  0.0652,  0.0277]],\n",
       "\n",
       "        [[-0.1675, -1.5481, -0.0443, -2.2284],\n",
       "         [-0.2532, -0.4128, -0.6241, -1.3394],\n",
       "         [-0.4788, -1.3649, -1.6265, -1.7473],\n",
       "         [-0.0370, -0.6751, -1.6734, -1.2356]]])"
      ]
     },
     "execution_count": 22,
     "metadata": {},
     "output_type": "execute_result"
    }
   ],
   "source": [
    "x = torch.randn(2, 4, 4)\n",
    "y = torch.linalg.inv(x)\n",
    "y"
   ]
  },
  {
   "cell_type": "markdown",
   "id": "fd1e0f06",
   "metadata": {},
   "source": [
    "Again, codes can run, but need to check correctness."
   ]
  },
  {
   "cell_type": "markdown",
   "id": "159f26bd",
   "metadata": {},
   "source": [
    "# Try to run training"
   ]
  },
  {
   "cell_type": "code",
   "execution_count": null,
   "id": "5295b4f0",
   "metadata": {},
   "outputs": [],
   "source": [
    "import torch\n",
    "from absl import app, flags\n",
    "from stable_baselines3 import SAC, PPO\n",
    "from envs.wahba import Wahba\n",
    "from stable_baselines_utils import CustomSACPolicy, \\\n",
    "    CustomCNN"
   ]
  },
  {
   "cell_type": "code",
   "execution_count": null,
   "id": "fea81ff5",
   "metadata": {},
   "outputs": [],
   "source": [
    "def main(argv):\n",
    "    env = Wahba()\n",
    "    device = torch.device('cpu')\n",
    "    policy_kwargs = dict(\n",
    "        features_extractor_class = CustomCNN,\n",
    "        features_extractor_kwargs = dict(features_dim = 256))\n",
    "    policy_kwargs['n_critics'] = 1\n",
    "    policy_kwargs['share_features_extractor'] = False\n",
    "    policy = CustomSACPolicy\n",
    "    model = SAC(policy, env, verbose = 1, ent_coef = 'auto_0.1',\n",
    "                policy_kwargs = policy_kwargs, device = device)\n",
    "    model.learn(total_timesteps = 110, eval_freq = 5, n_eval_episodes = 5)"
   ]
  },
  {
   "cell_type": "code",
   "execution_count": null,
   "id": "e6928846",
   "metadata": {},
   "outputs": [],
   "source": [
    "main(None)"
   ]
  },
  {
   "cell_type": "markdown",
   "id": "04089981",
   "metadata": {},
   "source": [
    "# Experiments for batch operations"
   ]
  },
  {
   "cell_type": "code",
   "execution_count": null,
   "id": "8c505fe3",
   "metadata": {},
   "outputs": [],
   "source": [
    "sigma = torch.ones(1, 3)\n",
    "omiga = torch.normal(torch.zeros(1, 3), sigma)\n",
    "omiga"
   ]
  },
  {
   "cell_type": "code",
   "execution_count": null,
   "id": "69a580e2",
   "metadata": {},
   "outputs": [],
   "source": [
    "def transfer(omiga):\n",
    "    omiga_0, omiga_1, omiga_2 = omiga[0], omiga[1], omiga[2]\n",
    "    omiga_hat = torch.tensor([[0, -omiga_2, omiga_1],\n",
    "                                [omiga_2, 0, -omiga_0],\n",
    "                                [-omiga_1, omiga_0, 0]])\n",
    "    return omiga_hat"
   ]
  },
  {
   "cell_type": "code",
   "execution_count": null,
   "id": "32b00dde",
   "metadata": {},
   "outputs": [],
   "source": [
    "from functorch import vmap\n",
    "batch_transfer = vmap(transfer)\n",
    "batch_transfer(omiga)"
   ]
  },
  {
   "cell_type": "code",
   "execution_count": null,
   "id": "2ce1346f",
   "metadata": {},
   "outputs": [],
   "source": [
    "from liegroups.torch import SO3\n",
    "C = SO3.exp(torch.Tensor([[1,2,3],\n",
    "                          [0,0,0]]))\n",
    "print(torch.Tensor([[1,2,3],\n",
    "                          [0,0,0]]).size())\n",
    "SO3.log(C)"
   ]
  },
  {
   "cell_type": "code",
   "execution_count": null,
   "id": "f290d47f",
   "metadata": {},
   "outputs": [],
   "source": [
    "np.log(1)"
   ]
  },
  {
   "cell_type": "code",
   "execution_count": null,
   "id": "73c2f949",
   "metadata": {},
   "outputs": [],
   "source": []
  }
 ],
 "metadata": {
  "kernelspec": {
   "display_name": "Python 3 (ipykernel)",
   "language": "python",
   "name": "python3"
  },
  "language_info": {
   "codemirror_mode": {
    "name": "ipython",
    "version": 3
   },
   "file_extension": ".py",
   "mimetype": "text/x-python",
   "name": "python",
   "nbconvert_exporter": "python",
   "pygments_lexer": "ipython3",
   "version": "3.8.10"
  }
 },
 "nbformat": 4,
 "nbformat_minor": 5
}
