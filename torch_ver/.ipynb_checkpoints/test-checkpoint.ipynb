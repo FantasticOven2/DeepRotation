{
 "cells": [
  {
   "cell_type": "code",
   "execution_count": 1,
   "id": "3089ccb4",
   "metadata": {},
   "outputs": [
    {
     "name": "stderr",
     "output_type": "stream",
     "text": [
      "/home/fantasticoven/.local/lib/python3.8/site-packages/tqdm/auto.py:22: TqdmWarning: IProgress not found. Please update jupyter and ipywidgets. See https://ipywidgets.readthedocs.io/en/stable/user_install.html\n",
      "  from .autonotebook import tqdm as notebook_tqdm\n"
     ]
    }
   ],
   "source": [
    "import numpy as np\n",
    "import torch\n",
    "from tsGaussian.torch_tsgaussian import TangentSpaceGaussian\n",
    "from stable_baselines_utils import TangentSpaceGaussian as TSG\n",
    "# from pytorch3d.transforms.so3 import (\n",
    "#     so3_exp_map,\n",
    "#     so3_relative_angle,\n",
    "# )"
   ]
  },
  {
   "cell_type": "code",
   "execution_count": 2,
   "id": "c929d1d1",
   "metadata": {
    "scrolled": true
   },
   "outputs": [],
   "source": [
    "tg = TangentSpaceGaussian(None)"
   ]
  },
  {
   "cell_type": "markdown",
   "id": "b42c0040",
   "metadata": {},
   "source": [
    "# Test liegroup torch"
   ]
  },
  {
   "cell_type": "code",
   "execution_count": 3,
   "id": "fd25bc8d",
   "metadata": {},
   "outputs": [],
   "source": [
    "from liegroups.torch import SO3"
   ]
  },
  {
   "cell_type": "code",
   "execution_count": 4,
   "id": "76ec1228",
   "metadata": {},
   "outputs": [
    {
     "data": {
      "text/plain": [
       "<liegroups.torch.so3.SO3Matrix>\n",
       "| tensor([[[-0.6949,  0.7135,  0.0893],\n",
       "|          [-0.1920, -0.3038,  0.9332],\n",
       "|          [ 0.6930,  0.6313,  0.3481]],\n",
       "| \n",
       "|         [[ 1.0000,  0.0000,  0.0000],\n",
       "|          [ 0.0000,  1.0000,  0.0000],\n",
       "|          [ 0.0000,  0.0000,  1.0000]]])"
      ]
     },
     "execution_count": 4,
     "metadata": {},
     "output_type": "execute_result"
    }
   ],
   "source": [
    "C = SO3.exp(torch.Tensor([[1,2,3],\n",
    "                         [0,0,0]]))\n",
    "C"
   ]
  },
  {
   "cell_type": "markdown",
   "id": "98c8fe6f",
   "metadata": {},
   "source": [
    "# Test torch_tsgaussian sample"
   ]
  },
  {
   "cell_type": "code",
   "execution_count": 5,
   "id": "214db66c",
   "metadata": {},
   "outputs": [],
   "source": [
    "R_mu = torch.eye(3).reshape((1,3,3))\n",
    "sigma = torch.ones(3).reshape((1,3))"
   ]
  },
  {
   "cell_type": "code",
   "execution_count": 6,
   "id": "6a17bcce",
   "metadata": {},
   "outputs": [],
   "source": [
    "R_quat, R_x = tg.rsample(R_mu, sigma)"
   ]
  },
  {
   "cell_type": "code",
   "execution_count": 7,
   "id": "1e38ea1f",
   "metadata": {},
   "outputs": [
    {
     "data": {
      "text/plain": [
       "tensor([[[ 1.0000e+00, -2.9802e-08,  2.9802e-08],\n",
       "         [-2.9802e-08,  1.0000e+00,  2.9802e-08],\n",
       "         [ 2.9802e-08,  2.9802e-08,  1.0000e+00]]])"
      ]
     },
     "execution_count": 7,
     "metadata": {},
     "output_type": "execute_result"
    }
   ],
   "source": [
    "torch.bmm(torch.transpose(R_x, 1, 2), R_x)"
   ]
  },
  {
   "cell_type": "markdown",
   "id": "05f04cc9",
   "metadata": {},
   "source": [
    "# Test torch_tsgaussian normal_term"
   ]
  },
  {
   "cell_type": "code",
   "execution_count": 8,
   "id": "50d74439",
   "metadata": {},
   "outputs": [
    {
     "data": {
      "text/plain": [
       "tensor([[1., 1., 1.]])"
      ]
     },
     "execution_count": 8,
     "metadata": {},
     "output_type": "execute_result"
    }
   ],
   "source": [
    "sigma = torch.ones(3).reshape((1,3))\n",
    "sigma"
   ]
  },
  {
   "cell_type": "code",
   "execution_count": 9,
   "id": "e8b3ec1f",
   "metadata": {
    "scrolled": true
   },
   "outputs": [
    {
     "data": {
      "text/plain": [
       "tensor([15.7496])"
      ]
     },
     "execution_count": 9,
     "metadata": {},
     "output_type": "execute_result"
    }
   ],
   "source": [
    "tg.normal_term(sigma)"
   ]
  },
  {
   "cell_type": "markdown",
   "id": "8b9044e5",
   "metadata": {},
   "source": [
    "# Test torch_tsgaussian log_map"
   ]
  },
  {
   "cell_type": "code",
   "execution_count": 10,
   "id": "15355144",
   "metadata": {},
   "outputs": [],
   "source": [
    "R_1 = torch.eye(3).reshape((1, 3, 3))\n",
    "R_2 = torch.eye(3).reshape((1, 3, 3))"
   ]
  },
  {
   "cell_type": "code",
   "execution_count": 11,
   "id": "e42f5a3f",
   "metadata": {},
   "outputs": [
    {
     "data": {
      "text/plain": [
       "tensor([0., 0., 0.])"
      ]
     },
     "execution_count": 11,
     "metadata": {},
     "output_type": "execute_result"
    }
   ],
   "source": [
    "tg.log_map(R_1, R_2)"
   ]
  },
  {
   "cell_type": "markdown",
   "id": "8ed69c3f",
   "metadata": {},
   "source": [
    "# Test torch_tsgaussian log_probs"
   ]
  },
  {
   "cell_type": "code",
   "execution_count": 12,
   "id": "73cf0184",
   "metadata": {},
   "outputs": [],
   "source": [
    "R_x = torch.eye(3).reshape((1,3,3))\n",
    "R_mu = torch.zeros(3,3).reshape((1,3,3))\n",
    "R_x = R_x.repeat(5, 1, 1)\n",
    "R_mu = R_mu.repeat(5, 1, 1)\n",
    "sigma = torch.ones(3).reshape((1,3))"
   ]
  },
  {
   "cell_type": "code",
   "execution_count": 13,
   "id": "5bea27b2",
   "metadata": {},
   "outputs": [],
   "source": [
    "# tg.log_probs(R_x, R_mu, sigma)"
   ]
  },
  {
   "cell_type": "code",
   "execution_count": 14,
   "id": "bb9c7699",
   "metadata": {},
   "outputs": [
    {
     "data": {
      "text/plain": [
       "0.06349462641817973"
      ]
     },
     "execution_count": 14,
     "metadata": {},
     "output_type": "execute_result"
    }
   ],
   "source": [
    "np.e ** (-2.7568)"
   ]
  },
  {
   "cell_type": "markdown",
   "id": "44e018f4",
   "metadata": {},
   "source": [
    "all codes run for torch_tsgaussian now, need to check it's correctness and make it into batch version."
   ]
  },
  {
   "cell_type": "markdown",
   "id": "8b95795d",
   "metadata": {},
   "source": [
    "# Test TangentSpaceGaussian actions_from_params"
   ]
  },
  {
   "cell_type": "code",
   "execution_count": 15,
   "id": "bafd90c5",
   "metadata": {},
   "outputs": [],
   "source": [
    "tsg = TSG(None)"
   ]
  },
  {
   "cell_type": "code",
   "execution_count": 16,
   "id": "f44a58a6",
   "metadata": {},
   "outputs": [
    {
     "name": "stdout",
     "output_type": "stream",
     "text": [
      "<tsGaussian.torch_tsgaussian.TangentSpaceGaussian object at 0x7f3a4e06f190>\n"
     ]
    }
   ],
   "source": [
    "print(tsg.distribution)"
   ]
  },
  {
   "cell_type": "code",
   "execution_count": 17,
   "id": "00868675",
   "metadata": {},
   "outputs": [
    {
     "data": {
      "text/plain": [
       "<stable_baselines_utils.TangentSpaceGaussian at 0x7f3a4e06f0d0>"
      ]
     },
     "execution_count": 17,
     "metadata": {},
     "output_type": "execute_result"
    }
   ],
   "source": [
    "tsg"
   ]
  },
  {
   "cell_type": "code",
   "execution_count": 18,
   "id": "5783e46b",
   "metadata": {},
   "outputs": [
    {
     "data": {
      "text/plain": [
       "(tensor([[ 0.0392,  0.3274, -0.0424,  0.9431]]),\n",
       " tensor([[[ 0.7820,  0.1056,  0.6143],\n",
       "          [-0.0542,  0.9933, -0.1018],\n",
       "          [-0.6210,  0.0463,  0.7825]]]))"
      ]
     },
     "execution_count": 18,
     "metadata": {},
     "output_type": "execute_result"
    }
   ],
   "source": [
    "tsg.actions_from_params(torch.eye(3).reshape((1,3,3)), torch.ones(3).reshape((1,3)))"
   ]
  },
  {
   "cell_type": "markdown",
   "id": "91e4944d",
   "metadata": {},
   "source": [
    "# Test TangentSpaceGaussian log_prob_from_params"
   ]
  },
  {
   "cell_type": "code",
   "execution_count": 19,
   "id": "ff466764",
   "metadata": {},
   "outputs": [
    {
     "data": {
      "text/plain": [
       "torch.Size([2, 3, 3])"
      ]
     },
     "execution_count": 19,
     "metadata": {},
     "output_type": "execute_result"
    }
   ],
   "source": [
    "torch.eye(3).repeat(2,1,1).size()"
   ]
  },
  {
   "cell_type": "code",
   "execution_count": 20,
   "id": "2273f66f",
   "metadata": {},
   "outputs": [
    {
     "data": {
      "text/plain": [
       "torch.Size([2, 3])"
      ]
     },
     "execution_count": 20,
     "metadata": {},
     "output_type": "execute_result"
    }
   ],
   "source": [
    "torch.ones(3).repeat(2,1).size()"
   ]
  },
  {
   "cell_type": "code",
   "execution_count": 21,
   "id": "7182d4ae",
   "metadata": {},
   "outputs": [],
   "source": [
    "# tsg.log_prob_from_params(torch.eye(3).repeat(2,1,1), torch.ones(3))"
   ]
  },
  {
   "cell_type": "code",
   "execution_count": 22,
   "id": "20db7927",
   "metadata": {},
   "outputs": [
    {
     "data": {
      "text/plain": [
       "tensor([[[ 0.6682, -3.2598, -1.6096, -3.5810],\n",
       "         [ 1.3402, -0.1619, -0.6263, -2.1853],\n",
       "         [ 0.0694,  1.1145,  0.6520,  2.0171],\n",
       "         [ 3.3072,  0.7984, -2.5574, -4.3787]],\n",
       "\n",
       "        [[ 0.7290, -0.3677,  0.5952, -0.3155],\n",
       "         [ 0.2019, -0.6400, -0.1104,  0.1737],\n",
       "         [ 0.4833, -0.3417, -0.1850,  0.2102],\n",
       "         [-0.4321,  0.3473, -0.5457, -0.4324]]])"
      ]
     },
     "execution_count": 22,
     "metadata": {},
     "output_type": "execute_result"
    }
   ],
   "source": [
    "x = torch.randn(2, 4, 4)\n",
    "y = torch.linalg.inv(x)\n",
    "y"
   ]
  },
  {
   "cell_type": "markdown",
   "id": "35c37abc",
   "metadata": {},
   "source": [
    "Again, codes can run, but need to check correctness."
   ]
  },
  {
   "cell_type": "markdown",
   "id": "ae4b68ac",
   "metadata": {},
   "source": [
    "# Try to run training"
   ]
  },
  {
   "cell_type": "code",
   "execution_count": 23,
   "id": "5cdcd034",
   "metadata": {},
   "outputs": [],
   "source": [
    "import torch\n",
    "from absl import app, flags\n",
    "from stable_baselines3 import SAC, PPO\n",
    "from envs.wahba import Wahba\n",
    "from stable_baselines_utils import CustomSACPolicy, \\\n",
    "    CustomCNN"
   ]
  },
  {
   "cell_type": "code",
   "execution_count": 24,
   "id": "c1bc08b2",
   "metadata": {},
   "outputs": [],
   "source": [
    "def main(argv):\n",
    "    env = Wahba()\n",
    "    device = torch.device('cpu')\n",
    "    policy_kwargs = dict(\n",
    "        features_extractor_class = CustomCNN,\n",
    "        features_extractor_kwargs = dict(features_dim = 256))\n",
    "    policy_kwargs['n_critics'] = 1\n",
    "    policy_kwargs['share_features_extractor'] = False\n",
    "    policy = CustomSACPolicy\n",
    "    model = SAC(policy, env, verbose = 1, ent_coef = 'auto_0.1',\n",
    "                policy_kwargs = policy_kwargs, device = device)\n",
    "    model.learn(total_timesteps = 500, eval_freq = 100, n_eval_episodes = 100)\n",
    "    "
   ]
  },
  {
   "cell_type": "code",
   "execution_count": 25,
   "id": "0e5bf191",
   "metadata": {},
   "outputs": [
    {
     "data": {
      "text/plain": [
       "0.00033546262790251196"
      ]
     },
     "execution_count": 25,
     "metadata": {},
     "output_type": "execute_result"
    }
   ],
   "source": [
    "np.e ** (-8)"
   ]
  },
  {
   "cell_type": "code",
   "execution_count": 26,
   "id": "81415ccb",
   "metadata": {},
   "outputs": [
    {
     "name": "stdout",
     "output_type": "stream",
     "text": [
      "Using cpu device\n",
      "Wrapping the env with a `Monitor` wrapper\n",
      "Wrapping the env in a DummyVecEnv.\n",
      "---------------------------------\n",
      "| rollout/           |          |\n",
      "|    ep_len_mean     | 1        |\n",
      "|    ep_rew_mean     | -4.05    |\n",
      "| time/              |          |\n",
      "|    episodes        | 4        |\n",
      "|    fps             | 715      |\n",
      "|    time_elapsed    | 0        |\n",
      "|    total_timesteps | 4        |\n",
      "---------------------------------\n",
      "---------------------------------\n",
      "| rollout/           |          |\n",
      "|    ep_len_mean     | 1        |\n",
      "|    ep_rew_mean     | -5.63    |\n",
      "| time/              |          |\n",
      "|    episodes        | 8        |\n",
      "|    fps             | 665      |\n",
      "|    time_elapsed    | 0        |\n",
      "|    total_timesteps | 8        |\n",
      "---------------------------------\n",
      "---------------------------------\n",
      "| rollout/           |          |\n",
      "|    ep_len_mean     | 1        |\n",
      "|    ep_rew_mean     | -6.02    |\n",
      "| time/              |          |\n",
      "|    episodes        | 12       |\n",
      "|    fps             | 642      |\n",
      "|    time_elapsed    | 0        |\n",
      "|    total_timesteps | 12       |\n",
      "---------------------------------\n",
      "---------------------------------\n",
      "| rollout/           |          |\n",
      "|    ep_len_mean     | 1        |\n",
      "|    ep_rew_mean     | -6.31    |\n",
      "| time/              |          |\n",
      "|    episodes        | 16       |\n",
      "|    fps             | 656      |\n",
      "|    time_elapsed    | 0        |\n",
      "|    total_timesteps | 16       |\n",
      "---------------------------------\n",
      "---------------------------------\n",
      "| rollout/           |          |\n",
      "|    ep_len_mean     | 1        |\n",
      "|    ep_rew_mean     | -6.56    |\n",
      "| time/              |          |\n",
      "|    episodes        | 20       |\n",
      "|    fps             | 685      |\n",
      "|    time_elapsed    | 0        |\n",
      "|    total_timesteps | 20       |\n",
      "---------------------------------\n",
      "---------------------------------\n",
      "| rollout/           |          |\n",
      "|    ep_len_mean     | 1        |\n",
      "|    ep_rew_mean     | -6.73    |\n",
      "| time/              |          |\n",
      "|    episodes        | 24       |\n",
      "|    fps             | 703      |\n",
      "|    time_elapsed    | 0        |\n",
      "|    total_timesteps | 24       |\n",
      "---------------------------------\n",
      "---------------------------------\n",
      "| rollout/           |          |\n",
      "|    ep_len_mean     | 1        |\n",
      "|    ep_rew_mean     | -6.58    |\n",
      "| time/              |          |\n",
      "|    episodes        | 28       |\n",
      "|    fps             | 728      |\n",
      "|    time_elapsed    | 0        |\n",
      "|    total_timesteps | 28       |\n",
      "---------------------------------\n",
      "---------------------------------\n",
      "| rollout/           |          |\n",
      "|    ep_len_mean     | 1        |\n",
      "|    ep_rew_mean     | -6.53    |\n",
      "| time/              |          |\n",
      "|    episodes        | 32       |\n",
      "|    fps             | 749      |\n",
      "|    time_elapsed    | 0        |\n",
      "|    total_timesteps | 32       |\n",
      "---------------------------------\n",
      "---------------------------------\n",
      "| rollout/           |          |\n",
      "|    ep_len_mean     | 1        |\n",
      "|    ep_rew_mean     | -6.43    |\n",
      "| time/              |          |\n",
      "|    episodes        | 36       |\n",
      "|    fps             | 768      |\n",
      "|    time_elapsed    | 0        |\n",
      "|    total_timesteps | 36       |\n",
      "---------------------------------\n",
      "---------------------------------\n",
      "| rollout/           |          |\n",
      "|    ep_len_mean     | 1        |\n",
      "|    ep_rew_mean     | -6.41    |\n",
      "| time/              |          |\n",
      "|    episodes        | 40       |\n",
      "|    fps             | 784      |\n",
      "|    time_elapsed    | 0        |\n",
      "|    total_timesteps | 40       |\n",
      "---------------------------------\n",
      "---------------------------------\n",
      "| rollout/           |          |\n",
      "|    ep_len_mean     | 1        |\n",
      "|    ep_rew_mean     | -6.35    |\n",
      "| time/              |          |\n",
      "|    episodes        | 44       |\n",
      "|    fps             | 798      |\n",
      "|    time_elapsed    | 0        |\n",
      "|    total_timesteps | 44       |\n",
      "---------------------------------\n",
      "---------------------------------\n",
      "| rollout/           |          |\n",
      "|    ep_len_mean     | 1        |\n",
      "|    ep_rew_mean     | -6.41    |\n",
      "| time/              |          |\n",
      "|    episodes        | 48       |\n",
      "|    fps             | 810      |\n",
      "|    time_elapsed    | 0        |\n",
      "|    total_timesteps | 48       |\n",
      "---------------------------------\n",
      "---------------------------------\n",
      "| rollout/           |          |\n",
      "|    ep_len_mean     | 1        |\n",
      "|    ep_rew_mean     | -6.47    |\n",
      "| time/              |          |\n",
      "|    episodes        | 52       |\n",
      "|    fps             | 822      |\n",
      "|    time_elapsed    | 0        |\n",
      "|    total_timesteps | 52       |\n",
      "---------------------------------\n",
      "---------------------------------\n",
      "| rollout/           |          |\n",
      "|    ep_len_mean     | 1        |\n",
      "|    ep_rew_mean     | -6.51    |\n",
      "| time/              |          |\n",
      "|    episodes        | 56       |\n",
      "|    fps             | 826      |\n",
      "|    time_elapsed    | 0        |\n",
      "|    total_timesteps | 56       |\n",
      "---------------------------------\n",
      "---------------------------------\n",
      "| rollout/           |          |\n",
      "|    ep_len_mean     | 1        |\n",
      "|    ep_rew_mean     | -6.4     |\n",
      "| time/              |          |\n",
      "|    episodes        | 60       |\n",
      "|    fps             | 822      |\n",
      "|    time_elapsed    | 0        |\n",
      "|    total_timesteps | 60       |\n",
      "---------------------------------\n",
      "---------------------------------\n",
      "| rollout/           |          |\n",
      "|    ep_len_mean     | 1        |\n",
      "|    ep_rew_mean     | -6.38    |\n",
      "| time/              |          |\n",
      "|    episodes        | 64       |\n",
      "|    fps             | 821      |\n",
      "|    time_elapsed    | 0        |\n",
      "|    total_timesteps | 64       |\n",
      "---------------------------------\n",
      "---------------------------------\n",
      "| rollout/           |          |\n",
      "|    ep_len_mean     | 1        |\n",
      "|    ep_rew_mean     | -6.39    |\n",
      "| time/              |          |\n",
      "|    episodes        | 68       |\n",
      "|    fps             | 821      |\n",
      "|    time_elapsed    | 0        |\n",
      "|    total_timesteps | 68       |\n",
      "---------------------------------\n",
      "---------------------------------\n",
      "| rollout/           |          |\n",
      "|    ep_len_mean     | 1        |\n",
      "|    ep_rew_mean     | -6.4     |\n",
      "| time/              |          |\n",
      "|    episodes        | 72       |\n",
      "|    fps             | 815      |\n",
      "|    time_elapsed    | 0        |\n",
      "|    total_timesteps | 72       |\n",
      "---------------------------------\n",
      "---------------------------------\n",
      "| rollout/           |          |\n",
      "|    ep_len_mean     | 1        |\n",
      "|    ep_rew_mean     | -6.33    |\n",
      "| time/              |          |\n",
      "|    episodes        | 76       |\n",
      "|    fps             | 820      |\n",
      "|    time_elapsed    | 0        |\n",
      "|    total_timesteps | 76       |\n",
      "---------------------------------\n",
      "---------------------------------\n",
      "| rollout/           |          |\n",
      "|    ep_len_mean     | 1        |\n",
      "|    ep_rew_mean     | -6.39    |\n",
      "| time/              |          |\n",
      "|    episodes        | 80       |\n",
      "|    fps             | 824      |\n",
      "|    time_elapsed    | 0        |\n",
      "|    total_timesteps | 80       |\n",
      "---------------------------------\n",
      "---------------------------------\n",
      "| rollout/           |          |\n",
      "|    ep_len_mean     | 1        |\n",
      "|    ep_rew_mean     | -6.39    |\n",
      "| time/              |          |\n",
      "|    episodes        | 84       |\n",
      "|    fps             | 830      |\n",
      "|    time_elapsed    | 0        |\n",
      "|    total_timesteps | 84       |\n",
      "---------------------------------\n",
      "---------------------------------\n",
      "| rollout/           |          |\n",
      "|    ep_len_mean     | 1        |\n",
      "|    ep_rew_mean     | -6.29    |\n",
      "| time/              |          |\n",
      "|    episodes        | 88       |\n",
      "|    fps             | 835      |\n",
      "|    time_elapsed    | 0        |\n",
      "|    total_timesteps | 88       |\n",
      "---------------------------------\n",
      "---------------------------------\n",
      "| rollout/           |          |\n",
      "|    ep_len_mean     | 1        |\n",
      "|    ep_rew_mean     | -6.19    |\n",
      "| time/              |          |\n",
      "|    episodes        | 92       |\n",
      "|    fps             | 839      |\n",
      "|    time_elapsed    | 0        |\n",
      "|    total_timesteps | 92       |\n",
      "---------------------------------\n",
      "---------------------------------\n",
      "| rollout/           |          |\n",
      "|    ep_len_mean     | 1        |\n",
      "|    ep_rew_mean     | -6.19    |\n",
      "| time/              |          |\n",
      "|    episodes        | 96       |\n",
      "|    fps             | 818      |\n",
      "|    time_elapsed    | 0        |\n",
      "|    total_timesteps | 96       |\n",
      "---------------------------------\n"
     ]
    },
    {
     "name": "stdout",
     "output_type": "stream",
     "text": [
      "---------------------------------\n",
      "| rollout/           |          |\n",
      "|    ep_len_mean     | 1        |\n",
      "|    ep_rew_mean     | -6.16    |\n",
      "| time/              |          |\n",
      "|    episodes        | 100      |\n",
      "|    fps             | 803      |\n",
      "|    time_elapsed    | 0        |\n",
      "|    total_timesteps | 100      |\n",
      "---------------------------------\n"
     ]
    },
    {
     "name": "stderr",
     "output_type": "stream",
     "text": [
      "/tmp/ipykernel_17411/627403923.py:2: UserWarning: Anomaly Detection has been enabled. This mode will increase the runtime and should only be enabled for debugging.\n",
      "  with autograd.detect_anomaly():\n",
      "/home/fantasticoven/.local/lib/python3.8/site-packages/gym/logger.py:30: UserWarning: \u001b[33mWARN: Box bound precision lowered by casting to float32\u001b[0m\n",
      "  warnings.warn(colorize('%s: %s'%('WARN', msg % args), 'yellow'))\n"
     ]
    },
    {
     "name": "stdout",
     "output_type": "stream",
     "text": [
      "---------------------------------\n",
      "| rollout/           |          |\n",
      "|    ep_len_mean     | 1        |\n",
      "|    ep_rew_mean     | -6.07    |\n",
      "| time/              |          |\n",
      "|    episodes        | 104      |\n",
      "|    fps             | 27       |\n",
      "|    time_elapsed    | 3        |\n",
      "|    total_timesteps | 104      |\n",
      "| train/             |          |\n",
      "|    actor_loss      | 0.294    |\n",
      "|    critic_loss     | 20.5     |\n",
      "|    ent_coef        | 0.0999   |\n",
      "|    ent_coef_loss   | -5.01    |\n",
      "|    learning_rate   | 0.0003   |\n",
      "|    n_updates       | 3        |\n",
      "---------------------------------\n",
      "---------------------------------\n",
      "| rollout/           |          |\n",
      "|    ep_len_mean     | 1        |\n",
      "|    ep_rew_mean     | -5.95    |\n",
      "| time/              |          |\n",
      "|    episodes        | 108      |\n",
      "|    fps             | 12       |\n",
      "|    time_elapsed    | 8        |\n",
      "|    total_timesteps | 108      |\n",
      "| train/             |          |\n",
      "|    actor_loss      | 0.355    |\n",
      "|    critic_loss     | 19.2     |\n",
      "|    ent_coef        | 0.0998   |\n",
      "|    ent_coef_loss   | -6.78    |\n",
      "|    learning_rate   | 0.0003   |\n",
      "|    n_updates       | 7        |\n",
      "---------------------------------\n",
      "---------------------------------\n",
      "| rollout/           |          |\n",
      "|    ep_len_mean     | 1        |\n",
      "|    ep_rew_mean     | -5.92    |\n",
      "| time/              |          |\n",
      "|    episodes        | 112      |\n",
      "|    fps             | 8        |\n",
      "|    time_elapsed    | 13       |\n",
      "|    total_timesteps | 112      |\n",
      "| train/             |          |\n",
      "|    actor_loss      | 0.66     |\n",
      "|    critic_loss     | 17.7     |\n",
      "|    ent_coef        | 0.0997   |\n",
      "|    ent_coef_loss   | -8.4     |\n",
      "|    learning_rate   | 0.0003   |\n",
      "|    n_updates       | 11       |\n",
      "---------------------------------\n",
      "---------------------------------\n",
      "| rollout/           |          |\n",
      "|    ep_len_mean     | 1        |\n",
      "|    ep_rew_mean     | -5.82    |\n",
      "| time/              |          |\n",
      "|    episodes        | 116      |\n",
      "|    fps             | 6        |\n",
      "|    time_elapsed    | 18       |\n",
      "|    total_timesteps | 116      |\n",
      "| train/             |          |\n",
      "|    actor_loss      | 1.67     |\n",
      "|    critic_loss     | 13.1     |\n",
      "|    ent_coef        | 0.0996   |\n",
      "|    ent_coef_loss   | -9.68    |\n",
      "|    learning_rate   | 0.0003   |\n",
      "|    n_updates       | 15       |\n",
      "---------------------------------\n",
      "---------------------------------\n",
      "| rollout/           |          |\n",
      "|    ep_len_mean     | 1        |\n",
      "|    ep_rew_mean     | -5.74    |\n",
      "| time/              |          |\n",
      "|    episodes        | 120      |\n",
      "|    fps             | 5        |\n",
      "|    time_elapsed    | 22       |\n",
      "|    total_timesteps | 120      |\n",
      "| train/             |          |\n",
      "|    actor_loss      | 4.72     |\n",
      "|    critic_loss     | 4.92     |\n",
      "|    ent_coef        | 0.0994   |\n",
      "|    ent_coef_loss   | -8.68    |\n",
      "|    learning_rate   | 0.0003   |\n",
      "|    n_updates       | 19       |\n",
      "---------------------------------\n",
      "---------------------------------\n",
      "| rollout/           |          |\n",
      "|    ep_len_mean     | 1        |\n",
      "|    ep_rew_mean     | -5.59    |\n",
      "| time/              |          |\n",
      "|    episodes        | 124      |\n",
      "|    fps             | 4        |\n",
      "|    time_elapsed    | 27       |\n",
      "|    total_timesteps | 124      |\n",
      "| train/             |          |\n",
      "|    actor_loss      | 8.01     |\n",
      "|    critic_loss     | 6.67     |\n",
      "|    ent_coef        | 0.0993   |\n",
      "|    ent_coef_loss   | -14.6    |\n",
      "|    learning_rate   | 0.0003   |\n",
      "|    n_updates       | 23       |\n",
      "---------------------------------\n",
      "---------------------------------\n",
      "| rollout/           |          |\n",
      "|    ep_len_mean     | 1        |\n",
      "|    ep_rew_mean     | -5.47    |\n",
      "| time/              |          |\n",
      "|    episodes        | 128      |\n",
      "|    fps             | 3        |\n",
      "|    time_elapsed    | 32       |\n",
      "|    total_timesteps | 128      |\n",
      "| train/             |          |\n",
      "|    actor_loss      | 5.17     |\n",
      "|    critic_loss     | 2.6      |\n",
      "|    ent_coef        | 0.0992   |\n",
      "|    ent_coef_loss   | -20.3    |\n",
      "|    learning_rate   | 0.0003   |\n",
      "|    n_updates       | 27       |\n",
      "---------------------------------\n",
      "---------------------------------\n",
      "| rollout/           |          |\n",
      "|    ep_len_mean     | 1        |\n",
      "|    ep_rew_mean     | -5.53    |\n",
      "| time/              |          |\n",
      "|    episodes        | 132      |\n",
      "|    fps             | 3        |\n",
      "|    time_elapsed    | 37       |\n",
      "|    total_timesteps | 132      |\n",
      "| train/             |          |\n",
      "|    actor_loss      | 3.69     |\n",
      "|    critic_loss     | 3.74     |\n",
      "|    ent_coef        | 0.099    |\n",
      "|    ent_coef_loss   | -23.5    |\n",
      "|    learning_rate   | 0.0003   |\n",
      "|    n_updates       | 31       |\n",
      "---------------------------------\n",
      "---------------------------------\n",
      "| rollout/           |          |\n",
      "|    ep_len_mean     | 1        |\n",
      "|    ep_rew_mean     | -5.49    |\n",
      "| time/              |          |\n",
      "|    episodes        | 136      |\n",
      "|    fps             | 3        |\n",
      "|    time_elapsed    | 41       |\n",
      "|    total_timesteps | 136      |\n",
      "| train/             |          |\n",
      "|    actor_loss      | 4        |\n",
      "|    critic_loss     | 3.75     |\n",
      "|    ent_coef        | 0.0989   |\n",
      "|    ent_coef_loss   | -25.9    |\n",
      "|    learning_rate   | 0.0003   |\n",
      "|    n_updates       | 35       |\n",
      "---------------------------------\n",
      "---------------------------------\n",
      "| rollout/           |          |\n",
      "|    ep_len_mean     | 1        |\n",
      "|    ep_rew_mean     | -5.5     |\n",
      "| time/              |          |\n",
      "|    episodes        | 140      |\n",
      "|    fps             | 3        |\n",
      "|    time_elapsed    | 46       |\n",
      "|    total_timesteps | 140      |\n",
      "| train/             |          |\n",
      "|    actor_loss      | 5.23     |\n",
      "|    critic_loss     | 2.7      |\n",
      "|    ent_coef        | 0.0987   |\n",
      "|    ent_coef_loss   | -28      |\n",
      "|    learning_rate   | 0.0003   |\n",
      "|    n_updates       | 39       |\n",
      "---------------------------------\n",
      "---------------------------------\n",
      "| rollout/           |          |\n",
      "|    ep_len_mean     | 1        |\n",
      "|    ep_rew_mean     | -5.53    |\n",
      "| time/              |          |\n",
      "|    episodes        | 144      |\n",
      "|    fps             | 2        |\n",
      "|    time_elapsed    | 51       |\n",
      "|    total_timesteps | 144      |\n",
      "| train/             |          |\n",
      "|    actor_loss      | 5.73     |\n",
      "|    critic_loss     | 3.55     |\n",
      "|    ent_coef        | 0.0986   |\n",
      "|    ent_coef_loss   | -29.7    |\n",
      "|    learning_rate   | 0.0003   |\n",
      "|    n_updates       | 43       |\n",
      "---------------------------------\n",
      "---------------------------------\n",
      "| rollout/           |          |\n",
      "|    ep_len_mean     | 1        |\n",
      "|    ep_rew_mean     | -5.53    |\n",
      "| time/              |          |\n",
      "|    episodes        | 148      |\n",
      "|    fps             | 2        |\n",
      "|    time_elapsed    | 56       |\n",
      "|    total_timesteps | 148      |\n",
      "| train/             |          |\n",
      "|    actor_loss      | 4.77     |\n",
      "|    critic_loss     | 2.83     |\n",
      "|    ent_coef        | 0.0984   |\n",
      "|    ent_coef_loss   | -31.2    |\n",
      "|    learning_rate   | 0.0003   |\n",
      "|    n_updates       | 47       |\n",
      "---------------------------------\n",
      "---------------------------------\n",
      "| rollout/           |          |\n",
      "|    ep_len_mean     | 1        |\n",
      "|    ep_rew_mean     | -5.44    |\n",
      "| time/              |          |\n",
      "|    episodes        | 152      |\n",
      "|    fps             | 2        |\n",
      "|    time_elapsed    | 60       |\n",
      "|    total_timesteps | 152      |\n",
      "| train/             |          |\n",
      "|    actor_loss      | 4.15     |\n",
      "|    critic_loss     | 2.58     |\n",
      "|    ent_coef        | 0.0982   |\n",
      "|    ent_coef_loss   | -32.7    |\n",
      "|    learning_rate   | 0.0003   |\n",
      "|    n_updates       | 51       |\n",
      "---------------------------------\n",
      "---------------------------------\n",
      "| rollout/           |          |\n",
      "|    ep_len_mean     | 1        |\n",
      "|    ep_rew_mean     | -5.39    |\n",
      "| time/              |          |\n",
      "|    episodes        | 156      |\n",
      "|    fps             | 2        |\n",
      "|    time_elapsed    | 65       |\n",
      "|    total_timesteps | 156      |\n",
      "| train/             |          |\n",
      "|    actor_loss      | 4.56     |\n",
      "|    critic_loss     | 2.67     |\n",
      "|    ent_coef        | 0.0981   |\n",
      "|    ent_coef_loss   | -34      |\n",
      "|    learning_rate   | 0.0003   |\n",
      "|    n_updates       | 55       |\n",
      "---------------------------------\n",
      "---------------------------------\n",
      "| rollout/           |          |\n",
      "|    ep_len_mean     | 1        |\n",
      "|    ep_rew_mean     | -5.45    |\n",
      "| time/              |          |\n",
      "|    episodes        | 160      |\n",
      "|    fps             | 2        |\n",
      "|    time_elapsed    | 70       |\n",
      "|    total_timesteps | 160      |\n",
      "| train/             |          |\n",
      "|    actor_loss      | 5.08     |\n",
      "|    critic_loss     | 2.49     |\n",
      "|    ent_coef        | 0.0979   |\n",
      "|    ent_coef_loss   | -35.2    |\n",
      "|    learning_rate   | 0.0003   |\n",
      "|    n_updates       | 59       |\n",
      "---------------------------------\n"
     ]
    },
    {
     "name": "stdout",
     "output_type": "stream",
     "text": [
      "---------------------------------\n",
      "| rollout/           |          |\n",
      "|    ep_len_mean     | 1        |\n",
      "|    ep_rew_mean     | -5.51    |\n",
      "| time/              |          |\n",
      "|    episodes        | 164      |\n",
      "|    fps             | 2        |\n",
      "|    time_elapsed    | 75       |\n",
      "|    total_timesteps | 164      |\n",
      "| train/             |          |\n",
      "|    actor_loss      | 4.98     |\n",
      "|    critic_loss     | 2.6      |\n",
      "|    ent_coef        | 0.0978   |\n",
      "|    ent_coef_loss   | -36.4    |\n",
      "|    learning_rate   | 0.0003   |\n",
      "|    n_updates       | 63       |\n",
      "---------------------------------\n",
      "---------------------------------\n",
      "| rollout/           |          |\n",
      "|    ep_len_mean     | 1        |\n",
      "|    ep_rew_mean     | -5.46    |\n",
      "| time/              |          |\n",
      "|    episodes        | 168      |\n",
      "|    fps             | 2        |\n",
      "|    time_elapsed    | 79       |\n",
      "|    total_timesteps | 168      |\n",
      "| train/             |          |\n",
      "|    actor_loss      | 4.54     |\n",
      "|    critic_loss     | 2.43     |\n",
      "|    ent_coef        | 0.0976   |\n",
      "|    ent_coef_loss   | -37.5    |\n",
      "|    learning_rate   | 0.0003   |\n",
      "|    n_updates       | 67       |\n",
      "---------------------------------\n",
      "---------------------------------\n",
      "| rollout/           |          |\n",
      "|    ep_len_mean     | 1        |\n",
      "|    ep_rew_mean     | -5.41    |\n",
      "| time/              |          |\n",
      "|    episodes        | 172      |\n",
      "|    fps             | 2        |\n",
      "|    time_elapsed    | 84       |\n",
      "|    total_timesteps | 172      |\n",
      "| train/             |          |\n",
      "|    actor_loss      | 4.35     |\n",
      "|    critic_loss     | 2.29     |\n",
      "|    ent_coef        | 0.0974   |\n",
      "|    ent_coef_loss   | -38.7    |\n",
      "|    learning_rate   | 0.0003   |\n",
      "|    n_updates       | 71       |\n",
      "---------------------------------\n",
      "---------------------------------\n",
      "| rollout/           |          |\n",
      "|    ep_len_mean     | 1        |\n",
      "|    ep_rew_mean     | -5.4     |\n",
      "| time/              |          |\n",
      "|    episodes        | 176      |\n",
      "|    fps             | 1        |\n",
      "|    time_elapsed    | 88       |\n",
      "|    total_timesteps | 176      |\n",
      "| train/             |          |\n",
      "|    actor_loss      | 4.67     |\n",
      "|    critic_loss     | 2.5      |\n",
      "|    ent_coef        | 0.0973   |\n",
      "|    ent_coef_loss   | -39.7    |\n",
      "|    learning_rate   | 0.0003   |\n",
      "|    n_updates       | 75       |\n",
      "---------------------------------\n",
      "---------------------------------\n",
      "| rollout/           |          |\n",
      "|    ep_len_mean     | 1        |\n",
      "|    ep_rew_mean     | -5.2     |\n",
      "| time/              |          |\n",
      "|    episodes        | 180      |\n",
      "|    fps             | 1        |\n",
      "|    time_elapsed    | 92       |\n",
      "|    total_timesteps | 180      |\n",
      "| train/             |          |\n",
      "|    actor_loss      | 4.77     |\n",
      "|    critic_loss     | 2.09     |\n",
      "|    ent_coef        | 0.0971   |\n",
      "|    ent_coef_loss   | -40.7    |\n",
      "|    learning_rate   | 0.0003   |\n",
      "|    n_updates       | 79       |\n",
      "---------------------------------\n"
     ]
    },
    {
     "ename": "KeyboardInterrupt",
     "evalue": "",
     "output_type": "error",
     "traceback": [
      "\u001b[0;31m---------------------------------------------------------------------------\u001b[0m",
      "\u001b[0;31mKeyboardInterrupt\u001b[0m                         Traceback (most recent call last)",
      "Input \u001b[0;32mIn [26]\u001b[0m, in \u001b[0;36m<cell line: 2>\u001b[0;34m()\u001b[0m\n\u001b[1;32m     10\u001b[0m policy \u001b[38;5;241m=\u001b[39m CustomSACPolicy\n\u001b[1;32m     11\u001b[0m model \u001b[38;5;241m=\u001b[39m SAC(policy, env, verbose \u001b[38;5;241m=\u001b[39m \u001b[38;5;241m1\u001b[39m, ent_coef \u001b[38;5;241m=\u001b[39m \u001b[38;5;124m'\u001b[39m\u001b[38;5;124mauto_0.1\u001b[39m\u001b[38;5;124m'\u001b[39m,\n\u001b[1;32m     12\u001b[0m             policy_kwargs \u001b[38;5;241m=\u001b[39m policy_kwargs, device \u001b[38;5;241m=\u001b[39m device)\n\u001b[0;32m---> 13\u001b[0m \u001b[43mmodel\u001b[49m\u001b[38;5;241;43m.\u001b[39;49m\u001b[43mlearn\u001b[49m\u001b[43m(\u001b[49m\u001b[43mtotal_timesteps\u001b[49m\u001b[43m \u001b[49m\u001b[38;5;241;43m=\u001b[39;49m\u001b[43m \u001b[49m\u001b[38;5;241;43m500\u001b[39;49m\u001b[43m,\u001b[49m\u001b[43m \u001b[49m\u001b[43meval_freq\u001b[49m\u001b[43m \u001b[49m\u001b[38;5;241;43m=\u001b[39;49m\u001b[43m \u001b[49m\u001b[38;5;241;43m100\u001b[39;49m\u001b[43m,\u001b[49m\u001b[43m \u001b[49m\u001b[43mn_eval_episodes\u001b[49m\u001b[43m \u001b[49m\u001b[38;5;241;43m=\u001b[39;49m\u001b[43m \u001b[49m\u001b[38;5;241;43m100\u001b[39;49m\u001b[43m)\u001b[49m\n",
      "File \u001b[0;32m~/.local/lib/python3.8/site-packages/stable_baselines3/sac/sac.py:292\u001b[0m, in \u001b[0;36mSAC.learn\u001b[0;34m(self, total_timesteps, callback, log_interval, eval_env, eval_freq, n_eval_episodes, tb_log_name, eval_log_path, reset_num_timesteps)\u001b[0m\n\u001b[1;32m    279\u001b[0m \u001b[38;5;28;01mdef\u001b[39;00m \u001b[38;5;21mlearn\u001b[39m(\n\u001b[1;32m    280\u001b[0m     \u001b[38;5;28mself\u001b[39m,\n\u001b[1;32m    281\u001b[0m     total_timesteps: \u001b[38;5;28mint\u001b[39m,\n\u001b[0;32m   (...)\u001b[0m\n\u001b[1;32m    289\u001b[0m     reset_num_timesteps: \u001b[38;5;28mbool\u001b[39m \u001b[38;5;241m=\u001b[39m \u001b[38;5;28;01mTrue\u001b[39;00m,\n\u001b[1;32m    290\u001b[0m ) \u001b[38;5;241m-\u001b[39m\u001b[38;5;241m>\u001b[39m OffPolicyAlgorithm:\n\u001b[0;32m--> 292\u001b[0m     \u001b[38;5;28;01mreturn\u001b[39;00m \u001b[38;5;28;43msuper\u001b[39;49m\u001b[43m(\u001b[49m\u001b[43mSAC\u001b[49m\u001b[43m,\u001b[49m\u001b[43m \u001b[49m\u001b[38;5;28;43mself\u001b[39;49m\u001b[43m)\u001b[49m\u001b[38;5;241;43m.\u001b[39;49m\u001b[43mlearn\u001b[49m\u001b[43m(\u001b[49m\n\u001b[1;32m    293\u001b[0m \u001b[43m        \u001b[49m\u001b[43mtotal_timesteps\u001b[49m\u001b[38;5;241;43m=\u001b[39;49m\u001b[43mtotal_timesteps\u001b[49m\u001b[43m,\u001b[49m\n\u001b[1;32m    294\u001b[0m \u001b[43m        \u001b[49m\u001b[43mcallback\u001b[49m\u001b[38;5;241;43m=\u001b[39;49m\u001b[43mcallback\u001b[49m\u001b[43m,\u001b[49m\n\u001b[1;32m    295\u001b[0m \u001b[43m        \u001b[49m\u001b[43mlog_interval\u001b[49m\u001b[38;5;241;43m=\u001b[39;49m\u001b[43mlog_interval\u001b[49m\u001b[43m,\u001b[49m\n\u001b[1;32m    296\u001b[0m \u001b[43m        \u001b[49m\u001b[43meval_env\u001b[49m\u001b[38;5;241;43m=\u001b[39;49m\u001b[43meval_env\u001b[49m\u001b[43m,\u001b[49m\n\u001b[1;32m    297\u001b[0m \u001b[43m        \u001b[49m\u001b[43meval_freq\u001b[49m\u001b[38;5;241;43m=\u001b[39;49m\u001b[43meval_freq\u001b[49m\u001b[43m,\u001b[49m\n\u001b[1;32m    298\u001b[0m \u001b[43m        \u001b[49m\u001b[43mn_eval_episodes\u001b[49m\u001b[38;5;241;43m=\u001b[39;49m\u001b[43mn_eval_episodes\u001b[49m\u001b[43m,\u001b[49m\n\u001b[1;32m    299\u001b[0m \u001b[43m        \u001b[49m\u001b[43mtb_log_name\u001b[49m\u001b[38;5;241;43m=\u001b[39;49m\u001b[43mtb_log_name\u001b[49m\u001b[43m,\u001b[49m\n\u001b[1;32m    300\u001b[0m \u001b[43m        \u001b[49m\u001b[43meval_log_path\u001b[49m\u001b[38;5;241;43m=\u001b[39;49m\u001b[43meval_log_path\u001b[49m\u001b[43m,\u001b[49m\n\u001b[1;32m    301\u001b[0m \u001b[43m        \u001b[49m\u001b[43mreset_num_timesteps\u001b[49m\u001b[38;5;241;43m=\u001b[39;49m\u001b[43mreset_num_timesteps\u001b[49m\u001b[43m,\u001b[49m\n\u001b[1;32m    302\u001b[0m \u001b[43m    \u001b[49m\u001b[43m)\u001b[49m\n",
      "File \u001b[0;32m~/.local/lib/python3.8/site-packages/stable_baselines3/common/off_policy_algorithm.py:373\u001b[0m, in \u001b[0;36mOffPolicyAlgorithm.learn\u001b[0;34m(self, total_timesteps, callback, log_interval, eval_env, eval_freq, n_eval_episodes, tb_log_name, eval_log_path, reset_num_timesteps)\u001b[0m\n\u001b[1;32m    371\u001b[0m         \u001b[38;5;66;03m# Special case when the user passes `gradient_steps=0`\u001b[39;00m\n\u001b[1;32m    372\u001b[0m         \u001b[38;5;28;01mif\u001b[39;00m gradient_steps \u001b[38;5;241m>\u001b[39m \u001b[38;5;241m0\u001b[39m:\n\u001b[0;32m--> 373\u001b[0m             \u001b[38;5;28;43mself\u001b[39;49m\u001b[38;5;241;43m.\u001b[39;49m\u001b[43mtrain\u001b[49m\u001b[43m(\u001b[49m\u001b[43mbatch_size\u001b[49m\u001b[38;5;241;43m=\u001b[39;49m\u001b[38;5;28;43mself\u001b[39;49m\u001b[38;5;241;43m.\u001b[39;49m\u001b[43mbatch_size\u001b[49m\u001b[43m,\u001b[49m\u001b[43m \u001b[49m\u001b[43mgradient_steps\u001b[49m\u001b[38;5;241;43m=\u001b[39;49m\u001b[43mgradient_steps\u001b[49m\u001b[43m)\u001b[49m\n\u001b[1;32m    375\u001b[0m callback\u001b[38;5;241m.\u001b[39mon_training_end()\n\u001b[1;32m    377\u001b[0m \u001b[38;5;28;01mreturn\u001b[39;00m \u001b[38;5;28mself\u001b[39m\n",
      "File \u001b[0;32m~/.local/lib/python3.8/site-packages/stable_baselines3/sac/sac.py:231\u001b[0m, in \u001b[0;36mSAC.train\u001b[0;34m(self, gradient_steps, batch_size)\u001b[0m\n\u001b[1;32m    227\u001b[0m     \u001b[38;5;28mself\u001b[39m\u001b[38;5;241m.\u001b[39ment_coef_optimizer\u001b[38;5;241m.\u001b[39mstep()\n\u001b[1;32m    229\u001b[0m \u001b[38;5;28;01mwith\u001b[39;00m th\u001b[38;5;241m.\u001b[39mno_grad():\n\u001b[1;32m    230\u001b[0m     \u001b[38;5;66;03m# Select action according to policy\u001b[39;00m\n\u001b[0;32m--> 231\u001b[0m     next_actions, next_log_prob \u001b[38;5;241m=\u001b[39m \u001b[38;5;28;43mself\u001b[39;49m\u001b[38;5;241;43m.\u001b[39;49m\u001b[43mactor\u001b[49m\u001b[38;5;241;43m.\u001b[39;49m\u001b[43maction_log_prob\u001b[49m\u001b[43m(\u001b[49m\u001b[43mreplay_data\u001b[49m\u001b[38;5;241;43m.\u001b[39;49m\u001b[43mnext_observations\u001b[49m\u001b[43m)\u001b[49m\n\u001b[1;32m    232\u001b[0m     \u001b[38;5;66;03m# Compute the next Q values: min over all critics targets\u001b[39;00m\n\u001b[1;32m    233\u001b[0m     next_q_values \u001b[38;5;241m=\u001b[39m th\u001b[38;5;241m.\u001b[39mcat(\u001b[38;5;28mself\u001b[39m\u001b[38;5;241m.\u001b[39mcritic_target(replay_data\u001b[38;5;241m.\u001b[39mnext_observations, next_actions), dim\u001b[38;5;241m=\u001b[39m\u001b[38;5;241m1\u001b[39m)\n",
      "File \u001b[0;32m~/Desktop/DeepRotation/torch_ver/stable_baselines_utils.py:100\u001b[0m, in \u001b[0;36mCustomSACActor.action_log_prob\u001b[0;34m(self, obs)\u001b[0m\n\u001b[1;32m     99\u001b[0m \u001b[38;5;28;01mdef\u001b[39;00m \u001b[38;5;21maction_log_prob\u001b[39m(\u001b[38;5;28mself\u001b[39m, obs: Tensor) \u001b[38;5;241m-\u001b[39m\u001b[38;5;241m>\u001b[39m Tuple[Tensor, Tensor]:\n\u001b[0;32m--> 100\u001b[0m     mu, sigma, kwargs \u001b[38;5;241m=\u001b[39m \u001b[38;5;28;43mself\u001b[39;49m\u001b[38;5;241;43m.\u001b[39;49m\u001b[43mget_action_dist_params\u001b[49m\u001b[43m(\u001b[49m\u001b[43mobs\u001b[49m\u001b[43m)\u001b[49m\n\u001b[1;32m    101\u001b[0m     a, lp \u001b[38;5;241m=\u001b[39m \u001b[38;5;28mself\u001b[39m\u001b[38;5;241m.\u001b[39maction_dist\u001b[38;5;241m.\u001b[39mlog_prob_from_params(mu, sigma, \u001b[38;5;241m*\u001b[39m\u001b[38;5;241m*\u001b[39mkwargs)\n\u001b[1;32m    102\u001b[0m     \u001b[38;5;28;01mreturn\u001b[39;00m a, lp\n",
      "File \u001b[0;32m~/Desktop/DeepRotation/torch_ver/stable_baselines_utils.py:82\u001b[0m, in \u001b[0;36mCustomSACActor.get_action_dist_params\u001b[0;34m(self, obs)\u001b[0m\n\u001b[1;32m     80\u001b[0m     \u001b[38;5;28mself\u001b[39m\u001b[38;5;241m.\u001b[39maction_dist \u001b[38;5;241m=\u001b[39m TangentSpaceGaussian(\u001b[38;5;28mself\u001b[39m\u001b[38;5;241m.\u001b[39mdevice)\n\u001b[1;32m     81\u001b[0m \u001b[38;5;66;03m# print('obs: ', obs)\u001b[39;00m\n\u001b[0;32m---> 82\u001b[0m features \u001b[38;5;241m=\u001b[39m \u001b[38;5;28;43mself\u001b[39;49m\u001b[38;5;241;43m.\u001b[39;49m\u001b[43mextract_features\u001b[49m\u001b[43m(\u001b[49m\u001b[43mobs\u001b[49m\u001b[43m)\u001b[49m\n\u001b[1;32m     83\u001b[0m latent_pi \u001b[38;5;241m=\u001b[39m \u001b[38;5;28mself\u001b[39m\u001b[38;5;241m.\u001b[39mlatent_pi(features)\n\u001b[1;32m     84\u001b[0m vec12 \u001b[38;5;241m=\u001b[39m \u001b[38;5;28mself\u001b[39m\u001b[38;5;241m.\u001b[39mvec12(latent_pi)\n",
      "File \u001b[0;32m~/.local/lib/python3.8/site-packages/stable_baselines3/common/policies.py:129\u001b[0m, in \u001b[0;36mBaseModel.extract_features\u001b[0;34m(self, obs)\u001b[0m\n\u001b[1;32m    127\u001b[0m \u001b[38;5;28;01massert\u001b[39;00m \u001b[38;5;28mself\u001b[39m\u001b[38;5;241m.\u001b[39mfeatures_extractor \u001b[38;5;129;01mis\u001b[39;00m \u001b[38;5;129;01mnot\u001b[39;00m \u001b[38;5;28;01mNone\u001b[39;00m, \u001b[38;5;124m\"\u001b[39m\u001b[38;5;124mNo features extractor was set\u001b[39m\u001b[38;5;124m\"\u001b[39m\n\u001b[1;32m    128\u001b[0m preprocessed_obs \u001b[38;5;241m=\u001b[39m preprocess_obs(obs, \u001b[38;5;28mself\u001b[39m\u001b[38;5;241m.\u001b[39mobservation_space, normalize_images\u001b[38;5;241m=\u001b[39m\u001b[38;5;28mself\u001b[39m\u001b[38;5;241m.\u001b[39mnormalize_images)\n\u001b[0;32m--> 129\u001b[0m \u001b[38;5;28;01mreturn\u001b[39;00m \u001b[38;5;28;43mself\u001b[39;49m\u001b[38;5;241;43m.\u001b[39;49m\u001b[43mfeatures_extractor\u001b[49m\u001b[43m(\u001b[49m\u001b[43mpreprocessed_obs\u001b[49m\u001b[43m)\u001b[49m\n",
      "File \u001b[0;32m~/.local/lib/python3.8/site-packages/torch/nn/modules/module.py:889\u001b[0m, in \u001b[0;36mModule._call_impl\u001b[0;34m(self, *input, **kwargs)\u001b[0m\n\u001b[1;32m    887\u001b[0m     result \u001b[38;5;241m=\u001b[39m \u001b[38;5;28mself\u001b[39m\u001b[38;5;241m.\u001b[39m_slow_forward(\u001b[38;5;241m*\u001b[39m\u001b[38;5;28minput\u001b[39m, \u001b[38;5;241m*\u001b[39m\u001b[38;5;241m*\u001b[39mkwargs)\n\u001b[1;32m    888\u001b[0m \u001b[38;5;28;01melse\u001b[39;00m:\n\u001b[0;32m--> 889\u001b[0m     result \u001b[38;5;241m=\u001b[39m \u001b[38;5;28;43mself\u001b[39;49m\u001b[38;5;241;43m.\u001b[39;49m\u001b[43mforward\u001b[49m\u001b[43m(\u001b[49m\u001b[38;5;241;43m*\u001b[39;49m\u001b[38;5;28;43minput\u001b[39;49m\u001b[43m,\u001b[49m\u001b[43m \u001b[49m\u001b[38;5;241;43m*\u001b[39;49m\u001b[38;5;241;43m*\u001b[39;49m\u001b[43mkwargs\u001b[49m\u001b[43m)\u001b[49m\n\u001b[1;32m    890\u001b[0m \u001b[38;5;28;01mfor\u001b[39;00m hook \u001b[38;5;129;01min\u001b[39;00m itertools\u001b[38;5;241m.\u001b[39mchain(\n\u001b[1;32m    891\u001b[0m         _global_forward_hooks\u001b[38;5;241m.\u001b[39mvalues(),\n\u001b[1;32m    892\u001b[0m         \u001b[38;5;28mself\u001b[39m\u001b[38;5;241m.\u001b[39m_forward_hooks\u001b[38;5;241m.\u001b[39mvalues()):\n\u001b[1;32m    893\u001b[0m     hook_result \u001b[38;5;241m=\u001b[39m hook(\u001b[38;5;28mself\u001b[39m, \u001b[38;5;28minput\u001b[39m, result)\n",
      "File \u001b[0;32m~/Desktop/DeepRotation/torch_ver/stable_baselines_utils.py:120\u001b[0m, in \u001b[0;36mCustomCNN.forward\u001b[0;34m(self, observations)\u001b[0m\n\u001b[1;32m    119\u001b[0m \u001b[38;5;28;01mdef\u001b[39;00m \u001b[38;5;21mforward\u001b[39m(\u001b[38;5;28mself\u001b[39m, observations: torch\u001b[38;5;241m.\u001b[39mTensor) \u001b[38;5;241m-\u001b[39m\u001b[38;5;241m>\u001b[39m torch\u001b[38;5;241m.\u001b[39mTensor:\n\u001b[0;32m--> 120\u001b[0m     \u001b[38;5;28;01mreturn\u001b[39;00m \u001b[38;5;28;43mself\u001b[39;49m\u001b[38;5;241;43m.\u001b[39;49m\u001b[43m_model\u001b[49m\u001b[43m(\u001b[49m\u001b[43mobservations\u001b[49m\u001b[43m)\u001b[49m\n",
      "File \u001b[0;32m~/.local/lib/python3.8/site-packages/torch/nn/modules/module.py:889\u001b[0m, in \u001b[0;36mModule._call_impl\u001b[0;34m(self, *input, **kwargs)\u001b[0m\n\u001b[1;32m    887\u001b[0m     result \u001b[38;5;241m=\u001b[39m \u001b[38;5;28mself\u001b[39m\u001b[38;5;241m.\u001b[39m_slow_forward(\u001b[38;5;241m*\u001b[39m\u001b[38;5;28minput\u001b[39m, \u001b[38;5;241m*\u001b[39m\u001b[38;5;241m*\u001b[39mkwargs)\n\u001b[1;32m    888\u001b[0m \u001b[38;5;28;01melse\u001b[39;00m:\n\u001b[0;32m--> 889\u001b[0m     result \u001b[38;5;241m=\u001b[39m \u001b[38;5;28;43mself\u001b[39;49m\u001b[38;5;241;43m.\u001b[39;49m\u001b[43mforward\u001b[49m\u001b[43m(\u001b[49m\u001b[38;5;241;43m*\u001b[39;49m\u001b[38;5;28;43minput\u001b[39;49m\u001b[43m,\u001b[49m\u001b[43m \u001b[49m\u001b[38;5;241;43m*\u001b[39;49m\u001b[38;5;241;43m*\u001b[39;49m\u001b[43mkwargs\u001b[49m\u001b[43m)\u001b[49m\n\u001b[1;32m    890\u001b[0m \u001b[38;5;28;01mfor\u001b[39;00m hook \u001b[38;5;129;01min\u001b[39;00m itertools\u001b[38;5;241m.\u001b[39mchain(\n\u001b[1;32m    891\u001b[0m         _global_forward_hooks\u001b[38;5;241m.\u001b[39mvalues(),\n\u001b[1;32m    892\u001b[0m         \u001b[38;5;28mself\u001b[39m\u001b[38;5;241m.\u001b[39m_forward_hooks\u001b[38;5;241m.\u001b[39mvalues()):\n\u001b[1;32m    893\u001b[0m     hook_result \u001b[38;5;241m=\u001b[39m hook(\u001b[38;5;28mself\u001b[39m, \u001b[38;5;28minput\u001b[39m, result)\n",
      "File \u001b[0;32m~/Desktop/DeepRotation/torch_ver/models.py:54\u001b[0m, in \u001b[0;36mPointNet.forward\u001b[0;34m(self, x)\u001b[0m\n\u001b[1;32m     51\u001b[0m x_1 \u001b[38;5;241m=\u001b[39m x[:, \u001b[38;5;241m0\u001b[39m, :, :]\n\u001b[1;32m     52\u001b[0m x_2 \u001b[38;5;241m=\u001b[39m x[:, \u001b[38;5;241m1\u001b[39m, :, :]\n\u001b[0;32m---> 54\u001b[0m feats_12 \u001b[38;5;241m=\u001b[39m \u001b[38;5;28;43mself\u001b[39;49m\u001b[38;5;241;43m.\u001b[39;49m\u001b[43mfeat_net\u001b[49m\u001b[43m(\u001b[49m\u001b[43mtorch\u001b[49m\u001b[38;5;241;43m.\u001b[39;49m\u001b[43mcat\u001b[49m\u001b[43m(\u001b[49m\u001b[43m[\u001b[49m\u001b[43mx_1\u001b[49m\u001b[43m,\u001b[49m\u001b[43m \u001b[49m\u001b[43mx_2\u001b[49m\u001b[43m]\u001b[49m\u001b[43m,\u001b[49m\u001b[43m \u001b[49m\u001b[43mdim\u001b[49m\u001b[38;5;241;43m=\u001b[39;49m\u001b[38;5;241;43m1\u001b[39;49m\u001b[43m)\u001b[49m\u001b[43m)\u001b[49m\n\u001b[1;32m     56\u001b[0m \u001b[38;5;28;01mif\u001b[39;00m feats_12\u001b[38;5;241m.\u001b[39mdim() \u001b[38;5;241m<\u001b[39m \u001b[38;5;241m2\u001b[39m:\n\u001b[1;32m     57\u001b[0m     feats_12 \u001b[38;5;241m=\u001b[39m feats_12\u001b[38;5;241m.\u001b[39munsqueeze(dim\u001b[38;5;241m=\u001b[39m\u001b[38;5;241m0\u001b[39m)\n",
      "File \u001b[0;32m~/.local/lib/python3.8/site-packages/torch/nn/modules/module.py:889\u001b[0m, in \u001b[0;36mModule._call_impl\u001b[0;34m(self, *input, **kwargs)\u001b[0m\n\u001b[1;32m    887\u001b[0m     result \u001b[38;5;241m=\u001b[39m \u001b[38;5;28mself\u001b[39m\u001b[38;5;241m.\u001b[39m_slow_forward(\u001b[38;5;241m*\u001b[39m\u001b[38;5;28minput\u001b[39m, \u001b[38;5;241m*\u001b[39m\u001b[38;5;241m*\u001b[39mkwargs)\n\u001b[1;32m    888\u001b[0m \u001b[38;5;28;01melse\u001b[39;00m:\n\u001b[0;32m--> 889\u001b[0m     result \u001b[38;5;241m=\u001b[39m \u001b[38;5;28;43mself\u001b[39;49m\u001b[38;5;241;43m.\u001b[39;49m\u001b[43mforward\u001b[49m\u001b[43m(\u001b[49m\u001b[38;5;241;43m*\u001b[39;49m\u001b[38;5;28;43minput\u001b[39;49m\u001b[43m,\u001b[49m\u001b[43m \u001b[49m\u001b[38;5;241;43m*\u001b[39;49m\u001b[38;5;241;43m*\u001b[39;49m\u001b[43mkwargs\u001b[49m\u001b[43m)\u001b[49m\n\u001b[1;32m    890\u001b[0m \u001b[38;5;28;01mfor\u001b[39;00m hook \u001b[38;5;129;01min\u001b[39;00m itertools\u001b[38;5;241m.\u001b[39mchain(\n\u001b[1;32m    891\u001b[0m         _global_forward_hooks\u001b[38;5;241m.\u001b[39mvalues(),\n\u001b[1;32m    892\u001b[0m         \u001b[38;5;28mself\u001b[39m\u001b[38;5;241m.\u001b[39m_forward_hooks\u001b[38;5;241m.\u001b[39mvalues()):\n\u001b[1;32m    893\u001b[0m     hook_result \u001b[38;5;241m=\u001b[39m hook(\u001b[38;5;28mself\u001b[39m, \u001b[38;5;28minput\u001b[39m, result)\n",
      "File \u001b[0;32m~/Desktop/DeepRotation/torch_ver/models.py:28\u001b[0m, in \u001b[0;36mPointFeatCNN.forward\u001b[0;34m(self, x)\u001b[0m\n\u001b[1;32m     27\u001b[0m \u001b[38;5;28;01mdef\u001b[39;00m \u001b[38;5;21mforward\u001b[39m(\u001b[38;5;28mself\u001b[39m, x):\n\u001b[0;32m---> 28\u001b[0m     x \u001b[38;5;241m=\u001b[39m \u001b[38;5;28;43mself\u001b[39;49m\u001b[38;5;241;43m.\u001b[39;49m\u001b[43mnet\u001b[49m\u001b[43m(\u001b[49m\u001b[43mx\u001b[49m\u001b[43m)\u001b[49m\n\u001b[1;32m     29\u001b[0m     \u001b[38;5;28;01mreturn\u001b[39;00m x\u001b[38;5;241m.\u001b[39msqueeze()\n",
      "File \u001b[0;32m~/.local/lib/python3.8/site-packages/torch/nn/modules/module.py:889\u001b[0m, in \u001b[0;36mModule._call_impl\u001b[0;34m(self, *input, **kwargs)\u001b[0m\n\u001b[1;32m    887\u001b[0m     result \u001b[38;5;241m=\u001b[39m \u001b[38;5;28mself\u001b[39m\u001b[38;5;241m.\u001b[39m_slow_forward(\u001b[38;5;241m*\u001b[39m\u001b[38;5;28minput\u001b[39m, \u001b[38;5;241m*\u001b[39m\u001b[38;5;241m*\u001b[39mkwargs)\n\u001b[1;32m    888\u001b[0m \u001b[38;5;28;01melse\u001b[39;00m:\n\u001b[0;32m--> 889\u001b[0m     result \u001b[38;5;241m=\u001b[39m \u001b[38;5;28;43mself\u001b[39;49m\u001b[38;5;241;43m.\u001b[39;49m\u001b[43mforward\u001b[49m\u001b[43m(\u001b[49m\u001b[38;5;241;43m*\u001b[39;49m\u001b[38;5;28;43minput\u001b[39;49m\u001b[43m,\u001b[49m\u001b[43m \u001b[49m\u001b[38;5;241;43m*\u001b[39;49m\u001b[38;5;241;43m*\u001b[39;49m\u001b[43mkwargs\u001b[49m\u001b[43m)\u001b[49m\n\u001b[1;32m    890\u001b[0m \u001b[38;5;28;01mfor\u001b[39;00m hook \u001b[38;5;129;01min\u001b[39;00m itertools\u001b[38;5;241m.\u001b[39mchain(\n\u001b[1;32m    891\u001b[0m         _global_forward_hooks\u001b[38;5;241m.\u001b[39mvalues(),\n\u001b[1;32m    892\u001b[0m         \u001b[38;5;28mself\u001b[39m\u001b[38;5;241m.\u001b[39m_forward_hooks\u001b[38;5;241m.\u001b[39mvalues()):\n\u001b[1;32m    893\u001b[0m     hook_result \u001b[38;5;241m=\u001b[39m hook(\u001b[38;5;28mself\u001b[39m, \u001b[38;5;28minput\u001b[39m, result)\n",
      "File \u001b[0;32m~/.local/lib/python3.8/site-packages/torch/nn/modules/container.py:119\u001b[0m, in \u001b[0;36mSequential.forward\u001b[0;34m(self, input)\u001b[0m\n\u001b[1;32m    117\u001b[0m \u001b[38;5;28;01mdef\u001b[39;00m \u001b[38;5;21mforward\u001b[39m(\u001b[38;5;28mself\u001b[39m, \u001b[38;5;28minput\u001b[39m):\n\u001b[1;32m    118\u001b[0m     \u001b[38;5;28;01mfor\u001b[39;00m module \u001b[38;5;129;01min\u001b[39;00m \u001b[38;5;28mself\u001b[39m:\n\u001b[0;32m--> 119\u001b[0m         \u001b[38;5;28minput\u001b[39m \u001b[38;5;241m=\u001b[39m \u001b[43mmodule\u001b[49m\u001b[43m(\u001b[49m\u001b[38;5;28;43minput\u001b[39;49m\u001b[43m)\u001b[49m\n\u001b[1;32m    120\u001b[0m     \u001b[38;5;28;01mreturn\u001b[39;00m \u001b[38;5;28minput\u001b[39m\n",
      "File \u001b[0;32m~/.local/lib/python3.8/site-packages/torch/nn/modules/module.py:889\u001b[0m, in \u001b[0;36mModule._call_impl\u001b[0;34m(self, *input, **kwargs)\u001b[0m\n\u001b[1;32m    887\u001b[0m     result \u001b[38;5;241m=\u001b[39m \u001b[38;5;28mself\u001b[39m\u001b[38;5;241m.\u001b[39m_slow_forward(\u001b[38;5;241m*\u001b[39m\u001b[38;5;28minput\u001b[39m, \u001b[38;5;241m*\u001b[39m\u001b[38;5;241m*\u001b[39mkwargs)\n\u001b[1;32m    888\u001b[0m \u001b[38;5;28;01melse\u001b[39;00m:\n\u001b[0;32m--> 889\u001b[0m     result \u001b[38;5;241m=\u001b[39m \u001b[38;5;28;43mself\u001b[39;49m\u001b[38;5;241;43m.\u001b[39;49m\u001b[43mforward\u001b[49m\u001b[43m(\u001b[49m\u001b[38;5;241;43m*\u001b[39;49m\u001b[38;5;28;43minput\u001b[39;49m\u001b[43m,\u001b[49m\u001b[43m \u001b[49m\u001b[38;5;241;43m*\u001b[39;49m\u001b[38;5;241;43m*\u001b[39;49m\u001b[43mkwargs\u001b[49m\u001b[43m)\u001b[49m\n\u001b[1;32m    890\u001b[0m \u001b[38;5;28;01mfor\u001b[39;00m hook \u001b[38;5;129;01min\u001b[39;00m itertools\u001b[38;5;241m.\u001b[39mchain(\n\u001b[1;32m    891\u001b[0m         _global_forward_hooks\u001b[38;5;241m.\u001b[39mvalues(),\n\u001b[1;32m    892\u001b[0m         \u001b[38;5;28mself\u001b[39m\u001b[38;5;241m.\u001b[39m_forward_hooks\u001b[38;5;241m.\u001b[39mvalues()):\n\u001b[1;32m    893\u001b[0m     hook_result \u001b[38;5;241m=\u001b[39m hook(\u001b[38;5;28mself\u001b[39m, \u001b[38;5;28minput\u001b[39m, result)\n",
      "File \u001b[0;32m~/.local/lib/python3.8/site-packages/torch/nn/modules/conv.py:263\u001b[0m, in \u001b[0;36mConv1d.forward\u001b[0;34m(self, input)\u001b[0m\n\u001b[1;32m    262\u001b[0m \u001b[38;5;28;01mdef\u001b[39;00m \u001b[38;5;21mforward\u001b[39m(\u001b[38;5;28mself\u001b[39m, \u001b[38;5;28minput\u001b[39m: Tensor) \u001b[38;5;241m-\u001b[39m\u001b[38;5;241m>\u001b[39m Tensor:\n\u001b[0;32m--> 263\u001b[0m     \u001b[38;5;28;01mreturn\u001b[39;00m \u001b[38;5;28;43mself\u001b[39;49m\u001b[38;5;241;43m.\u001b[39;49m\u001b[43m_conv_forward\u001b[49m\u001b[43m(\u001b[49m\u001b[38;5;28;43minput\u001b[39;49m\u001b[43m,\u001b[49m\u001b[43m \u001b[49m\u001b[38;5;28;43mself\u001b[39;49m\u001b[38;5;241;43m.\u001b[39;49m\u001b[43mweight\u001b[49m\u001b[43m,\u001b[49m\u001b[43m \u001b[49m\u001b[38;5;28;43mself\u001b[39;49m\u001b[38;5;241;43m.\u001b[39;49m\u001b[43mbias\u001b[49m\u001b[43m)\u001b[49m\n",
      "File \u001b[0;32m~/.local/lib/python3.8/site-packages/torch/nn/modules/conv.py:259\u001b[0m, in \u001b[0;36mConv1d._conv_forward\u001b[0;34m(self, input, weight, bias)\u001b[0m\n\u001b[1;32m    255\u001b[0m \u001b[38;5;28;01mif\u001b[39;00m \u001b[38;5;28mself\u001b[39m\u001b[38;5;241m.\u001b[39mpadding_mode \u001b[38;5;241m!=\u001b[39m \u001b[38;5;124m'\u001b[39m\u001b[38;5;124mzeros\u001b[39m\u001b[38;5;124m'\u001b[39m:\n\u001b[1;32m    256\u001b[0m     \u001b[38;5;28;01mreturn\u001b[39;00m F\u001b[38;5;241m.\u001b[39mconv1d(F\u001b[38;5;241m.\u001b[39mpad(\u001b[38;5;28minput\u001b[39m, \u001b[38;5;28mself\u001b[39m\u001b[38;5;241m.\u001b[39m_reversed_padding_repeated_twice, mode\u001b[38;5;241m=\u001b[39m\u001b[38;5;28mself\u001b[39m\u001b[38;5;241m.\u001b[39mpadding_mode),\n\u001b[1;32m    257\u001b[0m                     weight, bias, \u001b[38;5;28mself\u001b[39m\u001b[38;5;241m.\u001b[39mstride,\n\u001b[1;32m    258\u001b[0m                     _single(\u001b[38;5;241m0\u001b[39m), \u001b[38;5;28mself\u001b[39m\u001b[38;5;241m.\u001b[39mdilation, \u001b[38;5;28mself\u001b[39m\u001b[38;5;241m.\u001b[39mgroups)\n\u001b[0;32m--> 259\u001b[0m \u001b[38;5;28;01mreturn\u001b[39;00m \u001b[43mF\u001b[49m\u001b[38;5;241;43m.\u001b[39;49m\u001b[43mconv1d\u001b[49m\u001b[43m(\u001b[49m\u001b[38;5;28;43minput\u001b[39;49m\u001b[43m,\u001b[49m\u001b[43m \u001b[49m\u001b[43mweight\u001b[49m\u001b[43m,\u001b[49m\u001b[43m \u001b[49m\u001b[43mbias\u001b[49m\u001b[43m,\u001b[49m\u001b[43m \u001b[49m\u001b[38;5;28;43mself\u001b[39;49m\u001b[38;5;241;43m.\u001b[39;49m\u001b[43mstride\u001b[49m\u001b[43m,\u001b[49m\n\u001b[1;32m    260\u001b[0m \u001b[43m                \u001b[49m\u001b[38;5;28;43mself\u001b[39;49m\u001b[38;5;241;43m.\u001b[39;49m\u001b[43mpadding\u001b[49m\u001b[43m,\u001b[49m\u001b[43m \u001b[49m\u001b[38;5;28;43mself\u001b[39;49m\u001b[38;5;241;43m.\u001b[39;49m\u001b[43mdilation\u001b[49m\u001b[43m,\u001b[49m\u001b[43m \u001b[49m\u001b[38;5;28;43mself\u001b[39;49m\u001b[38;5;241;43m.\u001b[39;49m\u001b[43mgroups\u001b[49m\u001b[43m)\u001b[49m\n",
      "\u001b[0;31mKeyboardInterrupt\u001b[0m: "
     ]
    }
   ],
   "source": [
    "from torch import autograd\n",
    "with autograd.detect_anomaly():\n",
    "    env = Wahba()\n",
    "    device = torch.device('cpu')\n",
    "    policy_kwargs = dict(\n",
    "        features_extractor_class = CustomCNN,\n",
    "        features_extractor_kwargs = dict(features_dim = 256))\n",
    "    policy_kwargs['n_critics'] = 1\n",
    "    policy_kwargs['share_features_extractor'] = False\n",
    "    policy = CustomSACPolicy\n",
    "    model = SAC(policy, env, verbose = 1, ent_coef = 'auto_0.1',\n",
    "                policy_kwargs = policy_kwargs, device = device)\n",
    "    model.learn(total_timesteps = 500, eval_freq = 100, n_eval_episodes = 100)"
   ]
  },
  {
   "cell_type": "code",
   "execution_count": null,
   "id": "a782dad6",
   "metadata": {},
   "outputs": [],
   "source": [
    "model"
   ]
  },
  {
   "cell_type": "code",
   "execution_count": null,
   "id": "5dadc811",
   "metadata": {},
   "outputs": [],
   "source": [
    "random_action = env.action_space.sample()\n",
    "random_action"
   ]
  },
  {
   "cell_type": "code",
   "execution_count": null,
   "id": "5e6cda8f",
   "metadata": {},
   "outputs": [],
   "source": [
    "obs = env.step(random_action)[0]\n",
    "obs.shape"
   ]
  },
  {
   "cell_type": "code",
   "execution_count": null,
   "id": "61c6d3eb",
   "metadata": {},
   "outputs": [],
   "source": [
    "act = model.predict(obs)"
   ]
  },
  {
   "cell_type": "code",
   "execution_count": null,
   "id": "69029c81",
   "metadata": {},
   "outputs": [],
   "source": [
    "act"
   ]
  },
  {
   "cell_type": "code",
   "execution_count": null,
   "id": "fc12663b",
   "metadata": {},
   "outputs": [],
   "source": [
    "%load_ext tensorboard\n",
    "import tensorflow as tf\n",
    "import numpy as np\n",
    "import datetime\n",
    "import matplotlib.pyplot as plt\n",
    "from tensorboard.backend.event_processing import event_accumulator"
   ]
  },
  {
   "cell_type": "code",
   "execution_count": null,
   "id": "b673f35d",
   "metadata": {},
   "outputs": [],
   "source": [
    "%tensorboard --logdir ./sac"
   ]
  },
  {
   "cell_type": "markdown",
   "id": "a03ebe69",
   "metadata": {},
   "source": [
    "# Experiments for batch operations"
   ]
  },
  {
   "cell_type": "code",
   "execution_count": null,
   "id": "b9e89d3e",
   "metadata": {},
   "outputs": [],
   "source": [
    "sigma = torch.ones(1, 3)\n",
    "omiga = torch.normal(torch.zeros(1, 3), sigma)\n",
    "omiga"
   ]
  },
  {
   "cell_type": "code",
   "execution_count": null,
   "id": "13560074",
   "metadata": {},
   "outputs": [],
   "source": [
    "def transfer(omiga):\n",
    "    omiga_0, omiga_1, omiga_2 = omiga[0], omiga[1], omiga[2]\n",
    "    omiga_hat = torch.tensor([[0, -omiga_2, omiga_1],\n",
    "                                [omiga_2, 0, -omiga_0],\n",
    "                                [-omiga_1, omiga_0, 0]])\n",
    "    return omiga_hat"
   ]
  },
  {
   "cell_type": "code",
   "execution_count": null,
   "id": "59d1652a",
   "metadata": {},
   "outputs": [],
   "source": [
    "from functorch import vmap\n",
    "batch_transfer = vmap(transfer)\n",
    "batch_transfer(omiga)"
   ]
  },
  {
   "cell_type": "code",
   "execution_count": null,
   "id": "24f6f4f2",
   "metadata": {},
   "outputs": [],
   "source": [
    "from liegroups.torch import SO3\n",
    "C = SO3.exp(torch.Tensor([[1,2,3],\n",
    "                          [0,0,0]]))\n",
    "print(torch.Tensor([[1,2,3],\n",
    "                          [0,0,0]]).size())\n",
    "SO3.log(C)"
   ]
  },
  {
   "cell_type": "code",
   "execution_count": null,
   "id": "3465633e",
   "metadata": {},
   "outputs": [],
   "source": [
    "np.log(1)"
   ]
  },
  {
   "cell_type": "markdown",
   "id": "46008e94",
   "metadata": {},
   "source": [
    "# Question to ask: the original wahba problem action is (4,), in our case actions are (3,3)."
   ]
  },
  {
   "cell_type": "code",
   "execution_count": null,
   "id": "d7cc5df3",
   "metadata": {},
   "outputs": [],
   "source": []
  }
 ],
 "metadata": {
  "kernelspec": {
   "display_name": "Python 3 (ipykernel)",
   "language": "python",
   "name": "python3"
  },
  "language_info": {
   "codemirror_mode": {
    "name": "ipython",
    "version": 3
   },
   "file_extension": ".py",
   "mimetype": "text/x-python",
   "name": "python",
   "nbconvert_exporter": "python",
   "pygments_lexer": "ipython3",
   "version": "3.8.10"
  }
 },
 "nbformat": 4,
 "nbformat_minor": 5
}
