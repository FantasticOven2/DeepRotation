{
 "cells": [
  {
   "cell_type": "code",
   "execution_count": 1,
   "id": "c6e135f5",
   "metadata": {},
   "outputs": [
    {
     "name": "stderr",
     "output_type": "stream",
     "text": [
      "/home/fantasticoven/.local/lib/python3.8/site-packages/torch/utils/tensorboard/__init__.py:3: DeprecationWarning: distutils Version classes are deprecated. Use packaging.version instead.\n",
      "  if not hasattr(tensorboard, '__version__') or LooseVersion(tensorboard.__version__) < LooseVersion('1.15'):\n"
     ]
    }
   ],
   "source": [
    "import numpy as np\n",
    "import torch\n",
    "from tsGaussian.torch_tsgaussian import TangentSpaceGaussian\n",
    "from stable_baselines_utils import TangentSpaceGaussian as TSG"
   ]
  },
  {
   "cell_type": "code",
   "execution_count": 2,
   "id": "e1da2647",
   "metadata": {
    "scrolled": true
   },
   "outputs": [],
   "source": [
    "tg = TangentSpaceGaussian(None)"
   ]
  },
  {
   "cell_type": "markdown",
   "id": "f4c624fe",
   "metadata": {},
   "source": [
    "# Test torch_tsgaussian sample"
   ]
  },
  {
   "cell_type": "code",
   "execution_count": 3,
   "id": "d6b30e6e",
   "metadata": {},
   "outputs": [],
   "source": [
    "R_mu = torch.zeros(3, 3)\n",
    "sigma = torch.eye(3).reshape((1,3,3))"
   ]
  },
  {
   "cell_type": "code",
   "execution_count": 4,
   "id": "2d1402bd",
   "metadata": {},
   "outputs": [
    {
     "name": "stdout",
     "output_type": "stream",
     "text": [
      "omiga:  torch.Size([1, 3, 3])\n"
     ]
    },
    {
     "ename": "IndexError",
     "evalue": "index 1 is out of bounds for dimension 0 with size 1",
     "output_type": "error",
     "traceback": [
      "\u001b[0;31m---------------------------------------------------------------------------\u001b[0m",
      "\u001b[0;31mIndexError\u001b[0m                                Traceback (most recent call last)",
      "Input \u001b[0;32mIn [4]\u001b[0m, in \u001b[0;36m<cell line: 1>\u001b[0;34m()\u001b[0m\n\u001b[0;32m----> 1\u001b[0m \u001b[43mtg\u001b[49m\u001b[38;5;241;43m.\u001b[39;49m\u001b[43mrsample\u001b[49m\u001b[43m(\u001b[49m\u001b[43mR_mu\u001b[49m\u001b[43m,\u001b[49m\u001b[43m \u001b[49m\u001b[43msigma\u001b[49m\u001b[43m)\u001b[49m\n",
      "File \u001b[0;32m~/Desktop/DeepRotation/torch_ver/tsGaussian/torch_tsgaussian.py:14\u001b[0m, in \u001b[0;36mTangentSpaceGaussian.rsample\u001b[0;34m(self, R_mu, sigma)\u001b[0m\n\u001b[1;32m     12\u001b[0m omiga \u001b[38;5;241m=\u001b[39m torch\u001b[38;5;241m.\u001b[39mnormal(torch\u001b[38;5;241m.\u001b[39mzeros(\u001b[38;5;241m3\u001b[39m), sigma)\n\u001b[1;32m     13\u001b[0m \u001b[38;5;28mprint\u001b[39m(\u001b[38;5;124m'\u001b[39m\u001b[38;5;124momiga: \u001b[39m\u001b[38;5;124m'\u001b[39m, omiga\u001b[38;5;241m.\u001b[39msize())\n\u001b[0;32m---> 14\u001b[0m omiga_0, omiga_1, omiga_2 \u001b[38;5;241m=\u001b[39m omiga[\u001b[38;5;241m0\u001b[39m][\u001b[38;5;241m0\u001b[39m], \u001b[43momiga\u001b[49m\u001b[43m[\u001b[49m\u001b[38;5;241;43m1\u001b[39;49m\u001b[43m]\u001b[49m[\u001b[38;5;241m1\u001b[39m], omiga[\u001b[38;5;241m2\u001b[39m][\u001b[38;5;241m2\u001b[39m]\n\u001b[1;32m     15\u001b[0m omiga_hat \u001b[38;5;241m=\u001b[39m torch\u001b[38;5;241m.\u001b[39mtensor([[\u001b[38;5;241m0\u001b[39m, \u001b[38;5;241m-\u001b[39momiga_2, omiga_1],\n\u001b[1;32m     16\u001b[0m                             [omiga_2, \u001b[38;5;241m0\u001b[39m, \u001b[38;5;241m-\u001b[39momiga_0],\n\u001b[1;32m     17\u001b[0m                             [\u001b[38;5;241m-\u001b[39momiga_1, omiga_0, \u001b[38;5;241m0\u001b[39m]])\n\u001b[1;32m     18\u001b[0m \u001b[38;5;28mprint\u001b[39m(SO3\u001b[38;5;241m.\u001b[39mexp(omiga_hat)\u001b[38;5;241m.\u001b[39mas_matrix()\u001b[38;5;241m.\u001b[39msize())\n",
      "\u001b[0;31mIndexError\u001b[0m: index 1 is out of bounds for dimension 0 with size 1"
     ]
    }
   ],
   "source": [
    "tg.rsample(R_mu, sigma)"
   ]
  },
  {
   "cell_type": "markdown",
   "id": "45ebc01e",
   "metadata": {},
   "source": [
    "# Test torch_tsgaussian normal_term"
   ]
  },
  {
   "cell_type": "code",
   "execution_count": null,
   "id": "9806fb33",
   "metadata": {},
   "outputs": [],
   "source": [
    "sigma = torch.eye(3)\n",
    "sigma"
   ]
  },
  {
   "cell_type": "code",
   "execution_count": null,
   "id": "54b92660",
   "metadata": {
    "scrolled": true
   },
   "outputs": [],
   "source": [
    "tg.normal_term(sigma)"
   ]
  },
  {
   "cell_type": "markdown",
   "id": "1ea59704",
   "metadata": {},
   "source": [
    "# Test torch_tsgaussian log_map"
   ]
  },
  {
   "cell_type": "code",
   "execution_count": null,
   "id": "1ccf04b0",
   "metadata": {},
   "outputs": [],
   "source": [
    "R_1 = torch.eye(3)\n",
    "R_2 = torch.eye(3)"
   ]
  },
  {
   "cell_type": "code",
   "execution_count": null,
   "id": "bb7b7382",
   "metadata": {},
   "outputs": [],
   "source": [
    "tg.log_map(R_1, R_2)"
   ]
  },
  {
   "cell_type": "code",
   "execution_count": null,
   "id": "1df075a5",
   "metadata": {},
   "outputs": [],
   "source": [
    "# Not orthogonal matrices ?\n",
    "R_1 = torch.randn(3,3)"
   ]
  },
  {
   "cell_type": "code",
   "execution_count": null,
   "id": "7eeba48c",
   "metadata": {},
   "outputs": [],
   "source": [
    "tg.log_map(R_1, R_2)"
   ]
  },
  {
   "cell_type": "markdown",
   "id": "566943ff",
   "metadata": {},
   "source": [
    "# Test torch_tsgaussian log_probs"
   ]
  },
  {
   "cell_type": "code",
   "execution_count": null,
   "id": "9d06a5fd",
   "metadata": {},
   "outputs": [],
   "source": [
    "R_x = torch.eye(3)\n",
    "R_mu = torch.zeros(3,3)\n",
    "sigma = torch.eye(3)"
   ]
  },
  {
   "cell_type": "code",
   "execution_count": null,
   "id": "9370ade8",
   "metadata": {},
   "outputs": [],
   "source": [
    "tg.log_probs(R_x, R_mu, sigma)"
   ]
  },
  {
   "cell_type": "code",
   "execution_count": null,
   "id": "5e972162",
   "metadata": {},
   "outputs": [],
   "source": [
    "np.e ** (-2.7568)"
   ]
  },
  {
   "cell_type": "markdown",
   "id": "53375ef2",
   "metadata": {},
   "source": [
    "all codes run for torch_tsgaussian now, need to check it's correctness and make it into batch version."
   ]
  },
  {
   "cell_type": "markdown",
   "id": "73ba2db5",
   "metadata": {},
   "source": [
    "# Test TangentSpaceGaussian actions_from_params"
   ]
  },
  {
   "cell_type": "code",
   "execution_count": null,
   "id": "8a41c555",
   "metadata": {},
   "outputs": [],
   "source": [
    "tsg = TSG(None)"
   ]
  },
  {
   "cell_type": "code",
   "execution_count": null,
   "id": "e2b73843",
   "metadata": {},
   "outputs": [],
   "source": [
    "print(tsg.distribution)"
   ]
  },
  {
   "cell_type": "code",
   "execution_count": null,
   "id": "629b6121",
   "metadata": {},
   "outputs": [],
   "source": [
    "tsg"
   ]
  },
  {
   "cell_type": "code",
   "execution_count": null,
   "id": "0d1d328d",
   "metadata": {},
   "outputs": [],
   "source": [
    "tsg.actions_from_params(torch.eye(3), torch.eye(3).reshape((1,3,3)))"
   ]
  },
  {
   "cell_type": "markdown",
   "id": "ed942926",
   "metadata": {},
   "source": [
    "# Test TangentSpaceGaussian log_prob_from_params"
   ]
  },
  {
   "cell_type": "code",
   "execution_count": null,
   "id": "2ee0063f",
   "metadata": {},
   "outputs": [],
   "source": [
    "tsg.log_prob_from_params(torch.eye(3), torch.eye(3).reshape((1,3,3)))"
   ]
  },
  {
   "cell_type": "markdown",
   "id": "a6de9767",
   "metadata": {},
   "source": [
    "Again, codes can run, but need to check correctness."
   ]
  },
  {
   "cell_type": "markdown",
   "id": "8b718ade",
   "metadata": {},
   "source": [
    "# Try to run training"
   ]
  },
  {
   "cell_type": "code",
   "execution_count": null,
   "id": "c4772cf5",
   "metadata": {},
   "outputs": [],
   "source": [
    "import torch\n",
    "from absl import app, flags\n",
    "from stable_baselines3 import SAC, PPO\n",
    "from envs.wahba import Wahba\n",
    "from stable_baselines_utils import CustomSACPolicy, \\\n",
    "    CustomCNN"
   ]
  },
  {
   "cell_type": "code",
   "execution_count": null,
   "id": "6358a414",
   "metadata": {},
   "outputs": [],
   "source": [
    "def main(argv):\n",
    "    env = Wahba()\n",
    "    device = torch.device('cpu')\n",
    "    policy_kwargs = dict(\n",
    "        features_extractor_class = CustomCNN,\n",
    "        features_extractor_kwargs = dict(features_dim = 256))\n",
    "    policy_kwargs['n_critics'] = 1\n",
    "    policy_kwargs['share_features_extractor'] = False\n",
    "    policy = CustomSACPolicy\n",
    "    model = SAC(policy, env, verbose = 1, ent_coef = 'auto_0.1',\n",
    "                policy_kwargs = policy_kwargs, device = device)\n",
    "    model.learn(total_timesteps = 110, eval_freq = 5, n_eval_episodes = 5)"
   ]
  },
  {
   "cell_type": "code",
   "execution_count": null,
   "id": "621b4730",
   "metadata": {},
   "outputs": [],
   "source": [
    "main(None)"
   ]
  },
  {
   "cell_type": "markdown",
   "id": "367ce455",
   "metadata": {},
   "source": [
    "# Experiments for batch operations"
   ]
  },
  {
   "cell_type": "code",
   "execution_count": 8,
   "id": "1ebfc516",
   "metadata": {},
   "outputs": [
    {
     "data": {
      "text/plain": [
       "tensor([[-0.7836, -0.1340, -1.3183]])"
      ]
     },
     "execution_count": 8,
     "metadata": {},
     "output_type": "execute_result"
    }
   ],
   "source": [
    "sigma = torch.ones(1, 3)\n",
    "omiga = torch.normal(torch.zeros(1, 3), sigma)\n",
    "omiga"
   ]
  },
  {
   "cell_type": "code",
   "execution_count": 11,
   "id": "ba52a478",
   "metadata": {},
   "outputs": [],
   "source": [
    "def transfer(omiga):\n",
    "    omiga_0, omiga_1, omiga_2 = omiga[0], omiga[1], omiga[2]\n",
    "    omiga_hat = torch.tensor([[0, -omiga_2, omiga_1],\n",
    "                                [omiga_2, 0, -omiga_0],\n",
    "                                [-omiga_1, omiga_0, 0]])\n",
    "    return omiga_hat"
   ]
  },
  {
   "cell_type": "code",
   "execution_count": 13,
   "id": "34b3b73a",
   "metadata": {},
   "outputs": [
    {
     "ename": "AttributeError",
     "evalue": "module 'torch' has no attribute 'vmap'",
     "output_type": "error",
     "traceback": [
      "\u001b[0;31m---------------------------------------------------------------------------\u001b[0m",
      "\u001b[0;31mAttributeError\u001b[0m                            Traceback (most recent call last)",
      "Input \u001b[0;32mIn [13]\u001b[0m, in \u001b[0;36m<cell line: 1>\u001b[0;34m()\u001b[0m\n\u001b[0;32m----> 1\u001b[0m batch_transfer \u001b[38;5;241m=\u001b[39m \u001b[43mtorch\u001b[49m\u001b[38;5;241;43m.\u001b[39;49m\u001b[43mvmap\u001b[49m(transfer)\n\u001b[1;32m      2\u001b[0m batch_transfer(omiga)\n",
      "\u001b[0;31mAttributeError\u001b[0m: module 'torch' has no attribute 'vmap'"
     ]
    }
   ],
   "source": [
    "from functorch import vmap\n",
    "batch_transfer = vmap(transfer)\n",
    "batch_transfer(omiga)"
   ]
  },
  {
   "cell_type": "code",
   "execution_count": null,
   "id": "84b4fd45",
   "metadata": {},
   "outputs": [],
   "source": []
  }
 ],
 "metadata": {
  "kernelspec": {
   "display_name": "Python 3 (ipykernel)",
   "language": "python",
   "name": "python3"
  },
  "language_info": {
   "codemirror_mode": {
    "name": "ipython",
    "version": 3
   },
   "file_extension": ".py",
   "mimetype": "text/x-python",
   "name": "python",
   "nbconvert_exporter": "python",
   "pygments_lexer": "ipython3",
   "version": "3.8.10"
  }
 },
 "nbformat": 4,
 "nbformat_minor": 5
}
