{
 "cells": [
  {
   "cell_type": "code",
   "execution_count": 11,
   "id": "51b5dab0",
   "metadata": {},
   "outputs": [],
   "source": [
    "import torch\n",
    "import numpy as np"
   ]
  },
  {
   "cell_type": "code",
   "execution_count": 28,
   "id": "346bef64",
   "metadata": {},
   "outputs": [],
   "source": [
    "    def _gen_sim_data_fast(self, N_rotations, N_matches_per_rotation, sigma,\n",
    "                           max_rotation_angle=None, dtype=torch.double):\n",
    "        axis = torch.randn(N_rotations, 3, dtype=dtype)\n",
    "        axis = axis / axis.norm(dim=1, keepdim=True)\n",
    "        if max_rotation_angle:\n",
    "            max_angle = max_rotation_angle * np.pi / 180.\n",
    "        else:\n",
    "            max_angle = np.pi\n",
    "        angle = max_angle * torch.rand(N_rotations, 1)\n",
    "        C = SO3_torch.exp(angle * axis).as_matrix()\n",
    "        if N_rotations == 1:\n",
    "            C = C.unsqueeze(dim=0)\n",
    "        x_1 = torch.randn(N_rotations, 3, N_matches_per_rotation, dtype=dtype)\n",
    "        x_1 = x_1 / x_1.norm(dim=1, keepdim=True)\n",
    "        noise = sigma * torch.randn_like(x_1)\n",
    "        x_2 = C.bmm(x_1) + noise\n",
    "        return C, x_1, x_2\n"
   ]
  },
  {
   "cell_type": "code",
   "execution_count": 29,
   "id": "a8dadced",
   "metadata": {},
   "outputs": [
    {
     "ename": "NameError",
     "evalue": "name 'self' is not defined",
     "output_type": "error",
     "traceback": [
      "\u001b[0;31m---------------------------------------------------------------------------\u001b[0m",
      "\u001b[0;31mNameError\u001b[0m                                 Traceback (most recent call last)",
      "Input \u001b[0;32mIn [29]\u001b[0m, in \u001b[0;36m<cell line: 1>\u001b[0;34m()\u001b[0m\n\u001b[0;32m----> 1\u001b[0m C_train, x_1_train, x_2_train \u001b[38;5;241m=\u001b[39m \u001b[38;5;28;43mself\u001b[39;49m\u001b[38;5;241m.\u001b[39m_gen_sim_data_fast(\n\u001b[1;32m      2\u001b[0m           \u001b[38;5;241m1\u001b[39m, N_MATCHES_PER_SAMPLE, \u001b[38;5;241m1e-2\u001b[39m, max_rotation_angle\u001b[38;5;241m=\u001b[39m\u001b[38;5;241m180\u001b[39m)\n",
      "\u001b[0;31mNameError\u001b[0m: name 'self' is not defined"
     ]
    }
   ],
   "source": [
    "  C_train, x_1_train, x_2_train = _gen_sim_data_fast(\n",
    "            1, N_MATCHES_PER_SAMPLE, 1e-2, max_rotation_angle=180)"
   ]
  },
  {
   "cell_type": "code",
   "execution_count": null,
   "id": "f1d8e46d",
   "metadata": {},
   "outputs": [],
   "source": []
  }
 ],
 "metadata": {
  "kernelspec": {
   "display_name": "Python 3 (ipykernel)",
   "language": "python",
   "name": "python3"
  },
  "language_info": {
   "codemirror_mode": {
    "name": "ipython",
    "version": 3
   },
   "file_extension": ".py",
   "mimetype": "text/x-python",
   "name": "python",
   "nbconvert_exporter": "python",
   "pygments_lexer": "ipython3",
   "version": "3.8.10"
  }
 },
 "nbformat": 4,
 "nbformat_minor": 5
}
