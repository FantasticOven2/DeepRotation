{
 "cells": [
  {
   "cell_type": "code",
   "execution_count": 1,
   "id": "fbc98d09",
   "metadata": {},
   "outputs": [],
   "source": [
    "import torch\n",
    "import numpy as np\n",
    "from liegroups.torch import SO3 as SO3_torch\n"
   ]
  },
  {
   "cell_type": "code",
   "execution_count": 2,
   "id": "346bef64",
   "metadata": {},
   "outputs": [],
   "source": [
    "    def _gen_sim_data_fast(N_rotations, N_matches_per_rotation, sigma,\n",
    "                           max_rotation_angle=None, dtype=torch.double):\n",
    "        axis = torch.randn(N_rotations, 3, dtype=dtype)\n",
    "        axis = axis / axis.norm(dim=1, keepdim=True)\n",
    "        if max_rotation_angle:\n",
    "            max_angle = max_rotation_angle * np.pi / 180.\n",
    "        else:\n",
    "            max_angle = np.pi\n",
    "        angle = max_angle * torch.rand(N_rotations, 1)\n",
    "        C = SO3_torch.exp(angle * axis).as_matrix()\n",
    "        if N_rotations == 1:\n",
    "            C = C.unsqueeze(dim=0)\n",
    "        x_1 = torch.randn(N_rotations, 3, N_matches_per_rotation, dtype=dtype)\n",
    "        x_1 = x_1 / x_1.norm(dim=1, keepdim=True)\n",
    "        noise = sigma * torch.randn_like(x_1)\n",
    "        noise = 0\n",
    "        x_2 = C.bmm(x_1) + noise\n",
    "        return C, x_1, x_2\n"
   ]
  },
  {
   "cell_type": "code",
   "execution_count": 3,
   "id": "713a269f",
   "metadata": {},
   "outputs": [],
   "source": [
    "  C_train, x_1_train, x_2_train = _gen_sim_data_fast(\n",
    "            1, 100, 1e-2, max_rotation_angle=180)"
   ]
  },
  {
   "cell_type": "code",
   "execution_count": 4,
   "id": "2c9c3312",
   "metadata": {},
   "outputs": [
    {
     "data": {
      "text/plain": [
       "torch.Size([1, 3, 3])"
      ]
     },
     "execution_count": 4,
     "metadata": {},
     "output_type": "execute_result"
    }
   ],
   "source": [
    "C_train.shape"
   ]
  },
  {
   "cell_type": "code",
   "execution_count": 5,
   "id": "61a61694",
   "metadata": {},
   "outputs": [
    {
     "data": {
      "text/plain": [
       "tensor([[[ 0.3053,  0.6244,  0.2937, -0.9063, -0.1695, -0.4656, -0.5402,\n",
       "          -0.0780, -0.8359, -0.6967,  0.1997,  0.0347, -0.9701, -0.9556,\n",
       "           0.4213, -0.0215, -0.4273,  0.1677,  0.6987, -0.3830, -0.2244,\n",
       "           0.4382,  0.8924,  0.6496, -0.3979,  0.5987, -0.9194, -0.5785,\n",
       "          -0.8368,  0.4039, -0.4326,  0.7687,  0.4843, -0.9241,  0.9616,\n",
       "           0.2663, -0.8944, -0.2188,  0.4762,  0.3523,  0.2355,  0.2505,\n",
       "          -0.8710,  0.5697, -0.5144,  0.6730,  0.5800, -0.1740,  0.8164,\n",
       "           0.4041,  0.8586, -0.4566, -0.3879,  0.7196,  0.0103, -0.4749,\n",
       "          -0.0356, -0.7182, -0.4690, -0.8559, -0.9762,  0.1618, -0.8765,\n",
       "          -0.4276, -0.2244, -0.1034,  0.0316, -0.0194,  0.1685, -0.6864,\n",
       "          -0.5981, -0.6690, -0.9581, -0.4430, -0.4956,  0.0242,  0.7041,\n",
       "          -0.3003,  0.8333,  0.3636, -0.4876,  0.0204, -0.4209, -0.9446,\n",
       "          -0.2941, -0.3419, -0.8138,  0.8123, -0.4954, -0.1863,  0.9688,\n",
       "           0.6794,  0.8479,  0.7337, -0.3770, -0.9694,  0.1120, -0.5951,\n",
       "           0.5318, -0.9792],\n",
       "         [ 0.9295, -0.7809, -0.6202,  0.1008, -0.8839, -0.4421, -0.1912,\n",
       "           0.7429,  0.2188, -0.1608, -0.9797,  0.5677,  0.1873,  0.0587,\n",
       "           0.9065, -0.9950,  0.7910, -0.8906,  0.5478,  0.2385,  0.1681,\n",
       "           0.8974, -0.4282,  0.7022,  0.1994, -0.5159,  0.0398, -0.8109,\n",
       "          -0.0559, -0.4876,  0.7481, -0.6373, -0.7745, -0.3368, -0.1736,\n",
       "          -0.7914,  0.2191,  0.1295,  0.0428,  0.8524, -0.9253, -0.5191,\n",
       "          -0.0795, -0.3048, -0.8494,  0.1615,  0.6049, -0.1694, -0.3715,\n",
       "           0.8237,  0.3974,  0.8663, -0.8404, -0.5246, -0.5116,  0.8741,\n",
       "           0.9987, -0.2076,  0.1031, -0.5086, -0.0307,  0.4410, -0.3486,\n",
       "          -0.3186,  0.0168, -0.6237, -0.8030, -0.4760,  0.3760,  0.0768,\n",
       "           0.6934, -0.0728,  0.2474,  0.0108,  0.7981,  0.9758, -0.4583,\n",
       "          -0.7235, -0.4781,  0.0869, -0.0386,  0.9712,  0.8083, -0.3072,\n",
       "           0.9463,  0.6784,  0.3201,  0.4154, -0.0921, -0.7441,  0.2178,\n",
       "          -0.2370,  0.3628,  0.5966,  0.0605,  0.1702,  0.8062, -0.6969,\n",
       "          -0.6711, -0.1967],\n",
       "         [-0.2071,  0.0200,  0.7274,  0.4104, -0.4359,  0.7667,  0.8195,\n",
       "           0.6648, -0.5033,  0.6991,  0.0153,  0.8225, -0.1546,  0.2889,\n",
       "          -0.0262, -0.0974,  0.4379,  0.4228,  0.4601,  0.8924, -0.9599,\n",
       "           0.0511,  0.1425, -0.2914,  0.8955, -0.6127,  0.3913, -0.0882,\n",
       "           0.5446,  0.7740,  0.5032, -0.0546, -0.4069,  0.1804, -0.2126,\n",
       "           0.5502,  0.3899, -0.9671, -0.8783, -0.3863, -0.2972,  0.8172,\n",
       "          -0.4848,  0.7632,  0.1178,  0.7218,  0.5456,  0.9701, -0.4421,\n",
       "          -0.3978,  0.3239,  0.2027,  0.3785, -0.4550,  0.8591, -0.1018,\n",
       "           0.0378, -0.6641,  0.8772,  0.0936,  0.2146,  0.8828,  0.3320,\n",
       "          -0.8460, -0.9744, -0.7748, -0.5951,  0.8793,  0.9112, -0.7232,\n",
       "          -0.4020, -0.7397, -0.1444,  0.8964, -0.3427, -0.2172,  0.5425,\n",
       "           0.6216, -0.2775, -0.9275,  0.8722,  0.2374, -0.4117, -0.1153,\n",
       "          -0.1345,  0.6503, -0.4849,  0.4095, -0.8637, -0.6416, -0.1183,\n",
       "           0.6944, -0.3867, -0.3252, -0.9242, -0.1771,  0.5810,  0.4002,\n",
       "           0.5166,  0.0499]]], dtype=torch.float64)"
      ]
     },
     "execution_count": 5,
     "metadata": {},
     "output_type": "execute_result"
    }
   ],
   "source": [
    "x_1_train"
   ]
  },
  {
   "cell_type": "code",
   "execution_count": 6,
   "id": "5856f671",
   "metadata": {},
   "outputs": [
    {
     "data": {
      "text/plain": [
       "tensor([[ 1.0000e+00,  2.0817e-17, -1.3878e-17],\n",
       "        [ 2.0817e-17,  1.0000e+00,  0.0000e+00],\n",
       "        [-1.3878e-17,  0.0000e+00,  1.0000e+00]], dtype=torch.float64)"
      ]
     },
     "execution_count": 6,
     "metadata": {},
     "output_type": "execute_result"
    }
   ],
   "source": [
    "C_train[0].T @ C_train[0]"
   ]
  },
  {
   "cell_type": "code",
   "execution_count": 8,
   "id": "9ed43010",
   "metadata": {},
   "outputs": [
    {
     "data": {
      "text/plain": [
       "tensor([[[False, False, False, False, False, False, False, False, False, False,\n",
       "          False, False, False, False, False, False, False, False, False, False,\n",
       "          False, False, False, False, False, False, False, False, False, False,\n",
       "          False, False, False, False, False, False, False, False, False, False,\n",
       "          False, False, False, False, False, False, False, False, False, False,\n",
       "          False, False, False, False, False, False, False, False, False, False,\n",
       "          False, False, False, False, False, False, False, False, False, False,\n",
       "          False, False, False, False, False, False, False, False, False, False,\n",
       "          False, False, False, False, False, False, False, False, False, False,\n",
       "          False, False, False, False, False, False, False, False, False, False],\n",
       "         [False, False, False, False, False, False, False, False, False, False,\n",
       "          False, False, False, False, False, False, False, False, False, False,\n",
       "          False, False, False, False, False, False, False, False, False, False,\n",
       "          False, False, False, False, False, False, False, False, False, False,\n",
       "          False, False, False, False, False, False, False, False, False, False,\n",
       "          False, False, False, False, False, False, False, False, False, False,\n",
       "          False, False, False, False, False, False, False, False, False, False,\n",
       "          False, False, False, False, False, False, False, False, False, False,\n",
       "          False, False, False, False, False, False, False, False, False, False,\n",
       "          False, False, False, False, False, False, False, False, False, False],\n",
       "         [False, False, False, False, False, False, False, False, False, False,\n",
       "          False, False, False, False, False, False, False, False, False, False,\n",
       "          False, False, False, False, False, False, False, False, False, False,\n",
       "          False, False, False, False, False, False, False, False, False, False,\n",
       "          False, False, False, False, False, False, False, False, False, False,\n",
       "          False, False, False, False, False, False, False, False, False, False,\n",
       "          False, False, False, False, False, False, False, False, False, False,\n",
       "          False, False, False, False, False, False, False, False, False, False,\n",
       "          False, False, False, False, False, False, False, False, False, False,\n",
       "          False, False, False, False, False, False, False, False, False, False]]])"
      ]
     },
     "execution_count": 8,
     "metadata": {},
     "output_type": "execute_result"
    }
   ],
   "source": [
    "C_train @ x_1_train == x_2_train"
   ]
  },
  {
   "cell_type": "code",
   "execution_count": null,
   "id": "8641f2df",
   "metadata": {},
   "outputs": [],
   "source": []
  },
  {
   "cell_type": "code",
   "execution_count": null,
   "id": "b2c542c5",
   "metadata": {},
   "outputs": [],
   "source": []
  }
 ],
 "metadata": {
  "kernelspec": {
   "display_name": "Python 3 (ipykernel)",
   "language": "python",
   "name": "python3"
  },
  "language_info": {
   "codemirror_mode": {
    "name": "ipython",
    "version": 3
   },
   "file_extension": ".py",
   "mimetype": "text/x-python",
   "name": "python",
   "nbconvert_exporter": "python",
   "pygments_lexer": "ipython3",
   "version": "3.9.12"
  }
 },
 "nbformat": 4,
 "nbformat_minor": 5
}
