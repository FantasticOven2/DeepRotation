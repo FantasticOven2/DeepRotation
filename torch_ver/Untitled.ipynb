{
 "cells": [
  {
   "cell_type": "code",
   "execution_count": 1,
   "id": "fbc98d09",
   "metadata": {},
   "outputs": [],
   "source": [
    "import torch\n",
    "import numpy as np\n",
    "from liegroups.torch import SO3 as SO3_torch\n"
   ]
  },
  {
   "cell_type": "code",
   "execution_count": 3,
   "id": "0df312bb",
   "metadata": {},
   "outputs": [],
   "source": [
    "mat = np.array([[-0.8083,  0.0684,  0.5850],\n",
    "        [ 0.0840, -0.9697,  0.2297],\n",
    "        [ 0.5828,  0.2347,  0.7778]])"
   ]
  },
  {
   "cell_type": "code",
   "execution_count": 5,
   "id": "bae39227",
   "metadata": {},
   "outputs": [
    {
     "data": {
      "text/plain": [
       "array([[ 1.00006073e+00,  4.06400000e-05, -2.58860000e-04],\n",
       "       [ 4.06400000e-05,  1.00008074e+00, -1.76430000e-04],\n",
       "       [-2.58860000e-04, -1.76430000e-04,  9.99959930e-01]])"
      ]
     },
     "execution_count": 5,
     "metadata": {},
     "output_type": "execute_result"
    }
   ],
   "source": [
    "mat.T @ mat"
   ]
  },
  {
   "cell_type": "code",
   "execution_count": null,
   "id": "6a171a7b",
   "metadata": {},
   "outputs": [],
   "source": []
  }
 ],
 "metadata": {
  "kernelspec": {
   "display_name": "Python 3 (ipykernel)",
   "language": "python",
   "name": "python3"
  },
  "language_info": {
   "codemirror_mode": {
    "name": "ipython",
    "version": 3
   },
   "file_extension": ".py",
   "mimetype": "text/x-python",
   "name": "python",
   "nbconvert_exporter": "python",
   "pygments_lexer": "ipython3",
   "version": "3.9.12"
  }
 },
 "nbformat": 4,
 "nbformat_minor": 5
}
